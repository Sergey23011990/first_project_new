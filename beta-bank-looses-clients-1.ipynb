{
 "cells": [
  {
   "cell_type": "markdown",
   "metadata": {},
   "source": [
    "# Отток клиентов"
   ]
  },
  {
   "cell_type": "markdown",
   "metadata": {},
   "source": [
    "# \"Бета-банк\"\n",
    "> Борьба за внимание клиентов среди различных организаций - явление не редкое в современном мире! И вопрос сохранности уже существующей клиентсокй базы также очень важен. <div/>\n",
    "> \"Бета-банк\" начал терять клиентов. Было принято решение сохрнять уже имеющихся клиентов, нежели искать новых. Такоим образом, данный проект будет посвящен анализу, построению модели, которая предскажет с высокой долей вероятности поведение клиентов в будущем. Для этого я располагаю историческими данными о поведении людей- клиентов этого банка! <div/>\n",
    "После выбора модели, приведу значение F1  параметра к наибольшему возможному значению!"
   ]
  },
  {
   "cell_type": "code",
   "execution_count": 12,
   "metadata": {},
   "outputs": [],
   "source": [
    "import pandas as pd\n",
    "from sklearn.model_selection import train_test_split\n",
    "from sklearn.tree import DecisionTreeClassifier\n",
    "from sklearn.linear_model import LogisticRegression\n",
    "from sklearn.preprocessing import StandardScaler\n",
    "from sklearn.metrics import accuracy_score\n",
    "from sklearn.ensemble import RandomForestClassifier \n",
    "from sklearn.metrics import f1_score\n",
    "from sklearn.metrics import confusion_matrix\n",
    "from sklearn.utils import shuffle\n",
    "from sklearn.metrics import roc_curve \n",
    "from sklearn.metrics import roc_auc_score \n",
    "import matplotlib.pyplot as plt\n",
    "from sklearn.linear_model import LinearRegression\n",
    "from sklearn.metrics import mean_squared_error\n",
    "\n"
   ]
  },
  {
   "cell_type": "code",
   "execution_count": 16,
   "metadata": {},
   "outputs": [
    {
     "data": {
      "text/html": [
       "<div>\n",
       "<style scoped>\n",
       "    .dataframe tbody tr th:only-of-type {\n",
       "        vertical-align: middle;\n",
       "    }\n",
       "\n",
       "    .dataframe tbody tr th {\n",
       "        vertical-align: top;\n",
       "    }\n",
       "\n",
       "    .dataframe thead th {\n",
       "        text-align: right;\n",
       "    }\n",
       "</style>\n",
       "<table border=\"1\" class=\"dataframe\">\n",
       "  <thead>\n",
       "    <tr style=\"text-align: right;\">\n",
       "      <th></th>\n",
       "      <th>RowNumber</th>\n",
       "      <th>CustomerId</th>\n",
       "      <th>Surname</th>\n",
       "      <th>CreditScore</th>\n",
       "      <th>Geography</th>\n",
       "      <th>Gender</th>\n",
       "      <th>Age</th>\n",
       "      <th>Tenure</th>\n",
       "      <th>Balance</th>\n",
       "      <th>NumOfProducts</th>\n",
       "      <th>HasCrCard</th>\n",
       "      <th>IsActiveMember</th>\n",
       "      <th>EstimatedSalary</th>\n",
       "      <th>Exited</th>\n",
       "    </tr>\n",
       "  </thead>\n",
       "  <tbody>\n",
       "    <tr>\n",
       "      <th>0</th>\n",
       "      <td>1</td>\n",
       "      <td>15634602</td>\n",
       "      <td>Hargrave</td>\n",
       "      <td>619</td>\n",
       "      <td>France</td>\n",
       "      <td>Female</td>\n",
       "      <td>42</td>\n",
       "      <td>2.0</td>\n",
       "      <td>0.00</td>\n",
       "      <td>1</td>\n",
       "      <td>1</td>\n",
       "      <td>1</td>\n",
       "      <td>101348.88</td>\n",
       "      <td>1</td>\n",
       "    </tr>\n",
       "    <tr>\n",
       "      <th>1</th>\n",
       "      <td>2</td>\n",
       "      <td>15647311</td>\n",
       "      <td>Hill</td>\n",
       "      <td>608</td>\n",
       "      <td>Spain</td>\n",
       "      <td>Female</td>\n",
       "      <td>41</td>\n",
       "      <td>1.0</td>\n",
       "      <td>83807.86</td>\n",
       "      <td>1</td>\n",
       "      <td>0</td>\n",
       "      <td>1</td>\n",
       "      <td>112542.58</td>\n",
       "      <td>0</td>\n",
       "    </tr>\n",
       "    <tr>\n",
       "      <th>2</th>\n",
       "      <td>3</td>\n",
       "      <td>15619304</td>\n",
       "      <td>Onio</td>\n",
       "      <td>502</td>\n",
       "      <td>France</td>\n",
       "      <td>Female</td>\n",
       "      <td>42</td>\n",
       "      <td>8.0</td>\n",
       "      <td>159660.80</td>\n",
       "      <td>3</td>\n",
       "      <td>1</td>\n",
       "      <td>0</td>\n",
       "      <td>113931.57</td>\n",
       "      <td>1</td>\n",
       "    </tr>\n",
       "    <tr>\n",
       "      <th>3</th>\n",
       "      <td>4</td>\n",
       "      <td>15701354</td>\n",
       "      <td>Boni</td>\n",
       "      <td>699</td>\n",
       "      <td>France</td>\n",
       "      <td>Female</td>\n",
       "      <td>39</td>\n",
       "      <td>1.0</td>\n",
       "      <td>0.00</td>\n",
       "      <td>2</td>\n",
       "      <td>0</td>\n",
       "      <td>0</td>\n",
       "      <td>93826.63</td>\n",
       "      <td>0</td>\n",
       "    </tr>\n",
       "    <tr>\n",
       "      <th>4</th>\n",
       "      <td>5</td>\n",
       "      <td>15737888</td>\n",
       "      <td>Mitchell</td>\n",
       "      <td>850</td>\n",
       "      <td>Spain</td>\n",
       "      <td>Female</td>\n",
       "      <td>43</td>\n",
       "      <td>2.0</td>\n",
       "      <td>125510.82</td>\n",
       "      <td>1</td>\n",
       "      <td>1</td>\n",
       "      <td>1</td>\n",
       "      <td>79084.10</td>\n",
       "      <td>0</td>\n",
       "    </tr>\n",
       "  </tbody>\n",
       "</table>\n",
       "</div>"
      ],
      "text/plain": [
       "   RowNumber  CustomerId   Surname  CreditScore Geography  Gender  Age  \\\n",
       "0          1    15634602  Hargrave          619    France  Female   42   \n",
       "1          2    15647311      Hill          608     Spain  Female   41   \n",
       "2          3    15619304      Onio          502    France  Female   42   \n",
       "3          4    15701354      Boni          699    France  Female   39   \n",
       "4          5    15737888  Mitchell          850     Spain  Female   43   \n",
       "\n",
       "   Tenure    Balance  NumOfProducts  HasCrCard  IsActiveMember  \\\n",
       "0     2.0       0.00              1          1               1   \n",
       "1     1.0   83807.86              1          0               1   \n",
       "2     8.0  159660.80              3          1               0   \n",
       "3     1.0       0.00              2          0               0   \n",
       "4     2.0  125510.82              1          1               1   \n",
       "\n",
       "   EstimatedSalary  Exited  \n",
       "0        101348.88       1  \n",
       "1        112542.58       0  \n",
       "2        113931.57       1  \n",
       "3         93826.63       0  \n",
       "4         79084.10       0  "
      ]
     },
     "execution_count": 16,
     "metadata": {},
     "output_type": "execute_result"
    }
   ],
   "source": [
    "data = pd.read_csv('/datasets/Churn.csv')\n",
    "data.head()"
   ]
  },
  {
   "cell_type": "code",
   "execution_count": 14,
   "metadata": {},
   "outputs": [
    {
     "name": "stdout",
     "output_type": "stream",
     "text": [
      "<class 'pandas.core.frame.DataFrame'>\n",
      "RangeIndex: 10000 entries, 0 to 9999\n",
      "Data columns (total 14 columns):\n",
      " #   Column           Non-Null Count  Dtype  \n",
      "---  ------           --------------  -----  \n",
      " 0   RowNumber        10000 non-null  int64  \n",
      " 1   CustomerId       10000 non-null  int64  \n",
      " 2   Surname          10000 non-null  object \n",
      " 3   CreditScore      10000 non-null  int64  \n",
      " 4   Geography        10000 non-null  object \n",
      " 5   Gender           10000 non-null  object \n",
      " 6   Age              10000 non-null  int64  \n",
      " 7   Tenure           9091 non-null   float64\n",
      " 8   Balance          10000 non-null  float64\n",
      " 9   NumOfProducts    10000 non-null  int64  \n",
      " 10  HasCrCard        10000 non-null  int64  \n",
      " 11  IsActiveMember   10000 non-null  int64  \n",
      " 12  EstimatedSalary  10000 non-null  float64\n",
      " 13  Exited           10000 non-null  int64  \n",
      "dtypes: float64(3), int64(8), object(3)\n",
      "memory usage: 1.1+ MB\n"
     ]
    }
   ],
   "source": [
    "data.info()"
   ]
  },
  {
   "cell_type": "markdown",
   "metadata": {},
   "source": [
    "> Табличные данные соответствуют своим форматам "
   ]
  },
  {
   "cell_type": "code",
   "execution_count": 15,
   "metadata": {},
   "outputs": [
    {
     "data": {
      "text/plain": [
       "array(['France', 'Spain', 'Germany'], dtype=object)"
      ]
     },
     "execution_count": 15,
     "metadata": {},
     "output_type": "execute_result"
    }
   ],
   "source": [
    "data['Geography'].unique()"
   ]
  },
  {
   "cell_type": "markdown",
   "metadata": {},
   "source": [
    "> Список стран не такой уж большой. Это позволит не получить огромные данные в таблице в случае кодирования"
   ]
  },
  {
   "cell_type": "code",
   "execution_count": 8,
   "metadata": {},
   "outputs": [
    {
     "data": {
      "text/html": [
       "<div>\n",
       "<style scoped>\n",
       "    .dataframe tbody tr th:only-of-type {\n",
       "        vertical-align: middle;\n",
       "    }\n",
       "\n",
       "    .dataframe tbody tr th {\n",
       "        vertical-align: top;\n",
       "    }\n",
       "\n",
       "    .dataframe thead th {\n",
       "        text-align: right;\n",
       "    }\n",
       "</style>\n",
       "<table border=\"1\" class=\"dataframe\">\n",
       "  <thead>\n",
       "    <tr style=\"text-align: right;\">\n",
       "      <th></th>\n",
       "      <th>RowNumber</th>\n",
       "      <th>CustomerId</th>\n",
       "      <th>Surname</th>\n",
       "      <th>CreditScore</th>\n",
       "      <th>Geography</th>\n",
       "      <th>Gender</th>\n",
       "      <th>Age</th>\n",
       "      <th>Tenure</th>\n",
       "      <th>Balance</th>\n",
       "      <th>NumOfProducts</th>\n",
       "      <th>HasCrCard</th>\n",
       "      <th>IsActiveMember</th>\n",
       "      <th>EstimatedSalary</th>\n",
       "      <th>Exited</th>\n",
       "    </tr>\n",
       "  </thead>\n",
       "  <tbody>\n",
       "    <tr>\n",
       "      <th>0</th>\n",
       "      <td>1</td>\n",
       "      <td>15634602</td>\n",
       "      <td>Hargrave</td>\n",
       "      <td>619</td>\n",
       "      <td>France</td>\n",
       "      <td>Female</td>\n",
       "      <td>42</td>\n",
       "      <td>2.0</td>\n",
       "      <td>0.00</td>\n",
       "      <td>1</td>\n",
       "      <td>1</td>\n",
       "      <td>1</td>\n",
       "      <td>101348.88</td>\n",
       "      <td>1</td>\n",
       "    </tr>\n",
       "    <tr>\n",
       "      <th>1</th>\n",
       "      <td>2</td>\n",
       "      <td>15647311</td>\n",
       "      <td>Hill</td>\n",
       "      <td>608</td>\n",
       "      <td>Spain</td>\n",
       "      <td>Female</td>\n",
       "      <td>41</td>\n",
       "      <td>1.0</td>\n",
       "      <td>83807.86</td>\n",
       "      <td>1</td>\n",
       "      <td>0</td>\n",
       "      <td>1</td>\n",
       "      <td>112542.58</td>\n",
       "      <td>0</td>\n",
       "    </tr>\n",
       "    <tr>\n",
       "      <th>2</th>\n",
       "      <td>3</td>\n",
       "      <td>15619304</td>\n",
       "      <td>Onio</td>\n",
       "      <td>502</td>\n",
       "      <td>France</td>\n",
       "      <td>Female</td>\n",
       "      <td>42</td>\n",
       "      <td>8.0</td>\n",
       "      <td>159660.80</td>\n",
       "      <td>3</td>\n",
       "      <td>1</td>\n",
       "      <td>0</td>\n",
       "      <td>113931.57</td>\n",
       "      <td>1</td>\n",
       "    </tr>\n",
       "    <tr>\n",
       "      <th>3</th>\n",
       "      <td>4</td>\n",
       "      <td>15701354</td>\n",
       "      <td>Boni</td>\n",
       "      <td>699</td>\n",
       "      <td>France</td>\n",
       "      <td>Female</td>\n",
       "      <td>39</td>\n",
       "      <td>1.0</td>\n",
       "      <td>0.00</td>\n",
       "      <td>2</td>\n",
       "      <td>0</td>\n",
       "      <td>0</td>\n",
       "      <td>93826.63</td>\n",
       "      <td>0</td>\n",
       "    </tr>\n",
       "    <tr>\n",
       "      <th>4</th>\n",
       "      <td>5</td>\n",
       "      <td>15737888</td>\n",
       "      <td>Mitchell</td>\n",
       "      <td>850</td>\n",
       "      <td>Spain</td>\n",
       "      <td>Female</td>\n",
       "      <td>43</td>\n",
       "      <td>2.0</td>\n",
       "      <td>125510.82</td>\n",
       "      <td>1</td>\n",
       "      <td>1</td>\n",
       "      <td>1</td>\n",
       "      <td>79084.10</td>\n",
       "      <td>0</td>\n",
       "    </tr>\n",
       "  </tbody>\n",
       "</table>\n",
       "</div>"
      ],
      "text/plain": [
       "   RowNumber  CustomerId   Surname  CreditScore Geography  Gender  Age  \\\n",
       "0          1    15634602  Hargrave          619    France  Female   42   \n",
       "1          2    15647311      Hill          608     Spain  Female   41   \n",
       "2          3    15619304      Onio          502    France  Female   42   \n",
       "3          4    15701354      Boni          699    France  Female   39   \n",
       "4          5    15737888  Mitchell          850     Spain  Female   43   \n",
       "\n",
       "   Tenure    Balance  NumOfProducts  HasCrCard  IsActiveMember  \\\n",
       "0     2.0       0.00              1          1               1   \n",
       "1     1.0   83807.86              1          0               1   \n",
       "2     8.0  159660.80              3          1               0   \n",
       "3     1.0       0.00              2          0               0   \n",
       "4     2.0  125510.82              1          1               1   \n",
       "\n",
       "   EstimatedSalary  Exited  \n",
       "0        101348.88       1  \n",
       "1        112542.58       0  \n",
       "2        113931.57       1  \n",
       "3         93826.63       0  \n",
       "4         79084.10       0  "
      ]
     },
     "execution_count": 8,
     "metadata": {},
     "output_type": "execute_result"
    }
   ],
   "source": [
    "data.head()"
   ]
  },
  {
   "cell_type": "code",
   "execution_count": 9,
   "metadata": {},
   "outputs": [
    {
     "data": {
      "image/png": "[encoded data removed]",
      "text/plain": [
       "<Figure size 720x720 with 12 Axes>"
      ]
     },
     "metadata": {
      "needs_background": "light"
     },
     "output_type": "display_data"
    }
   ],
   "source": [
    "data.hist(bins=10, figsize=(10,10));"
   ]
  },
  {
   "cell_type": "code",
   "execution_count": 10,
   "metadata": {},
   "outputs": [
    {
     "data": {
      "text/plain": [
       "0"
      ]
     },
     "execution_count": 10,
     "metadata": {},
     "output_type": "execute_result"
    }
   ],
   "source": [
    "data.duplicated().sum()"
   ]
  },
  {
   "cell_type": "markdown",
   "metadata": {},
   "source": [
    "> Дубликаты отсутствуют!"
   ]
  },
  {
   "cell_type": "code",
   "execution_count": 10,
   "metadata": {},
   "outputs": [],
   "source": [
    "data.isna().sum()\n",
    "median_tenure = data['Tenure'].median()\n",
    "data['Tenure'] = data['Tenure'].fillna(median_tenure)"
   ]
  },
  {
   "cell_type": "code",
   "execution_count": 11,
   "metadata": {},
   "outputs": [
    {
     "data": {
      "text/plain": [
       "RowNumber          0\n",
       "CustomerId         0\n",
       "Surname            0\n",
       "CreditScore        0\n",
       "Geography          0\n",
       "Gender             0\n",
       "Age                0\n",
       "Tenure             0\n",
       "Balance            0\n",
       "NumOfProducts      0\n",
       "HasCrCard          0\n",
       "IsActiveMember     0\n",
       "EstimatedSalary    0\n",
       "Exited             0\n",
       "dtype: int64"
      ]
     },
     "execution_count": 11,
     "metadata": {},
     "output_type": "execute_result"
    }
   ],
   "source": [
    "data.isna().sum()"
   ]
  },
  {
   "cell_type": "markdown",
   "metadata": {},
   "source": [
    "> Имеющиеся пропуска в столбце \"Tenure\" скорее всего возникли из-за недолгого пребывания человека в качестве клиента банка (менее года). Принял решение заполнить пропуска нулями!<div/>\n",
    "Таким образом, подготовив данные для дальнейшего исследования, могу заключить, что данные без дубликатов, форматы данных соответствуют действительности. Гистограммы с количественными значениями в большинстве распределны нормально! Проделана работа с пропусками. Данные готовы для дальнейшего исследования. "
   ]
  },
  {
   "cell_type": "markdown",
   "metadata": {},
   "source": [
    "## Исследование задачи"
   ]
  },
  {
   "cell_type": "code",
   "execution_count": 12,
   "metadata": {},
   "outputs": [],
   "source": [
    "data_ohe = pd.get_dummies(data[['Gender', 'Geography']], drop_first=True)"
   ]
  },
  {
   "cell_type": "code",
   "execution_count": 13,
   "metadata": {},
   "outputs": [
    {
     "data": {
      "text/html": [
       "<div>\n",
       "<style scoped>\n",
       "    .dataframe tbody tr th:only-of-type {\n",
       "        vertical-align: middle;\n",
       "    }\n",
       "\n",
       "    .dataframe tbody tr th {\n",
       "        vertical-align: top;\n",
       "    }\n",
       "\n",
       "    .dataframe thead th {\n",
       "        text-align: right;\n",
       "    }\n",
       "</style>\n",
       "<table border=\"1\" class=\"dataframe\">\n",
       "  <thead>\n",
       "    <tr style=\"text-align: right;\">\n",
       "      <th></th>\n",
       "      <th>Gender_Male</th>\n",
       "      <th>Geography_Germany</th>\n",
       "      <th>Geography_Spain</th>\n",
       "    </tr>\n",
       "  </thead>\n",
       "  <tbody>\n",
       "    <tr>\n",
       "      <th>0</th>\n",
       "      <td>0</td>\n",
       "      <td>0</td>\n",
       "      <td>0</td>\n",
       "    </tr>\n",
       "    <tr>\n",
       "      <th>1</th>\n",
       "      <td>0</td>\n",
       "      <td>0</td>\n",
       "      <td>1</td>\n",
       "    </tr>\n",
       "    <tr>\n",
       "      <th>2</th>\n",
       "      <td>0</td>\n",
       "      <td>0</td>\n",
       "      <td>0</td>\n",
       "    </tr>\n",
       "    <tr>\n",
       "      <th>3</th>\n",
       "      <td>0</td>\n",
       "      <td>0</td>\n",
       "      <td>0</td>\n",
       "    </tr>\n",
       "    <tr>\n",
       "      <th>4</th>\n",
       "      <td>0</td>\n",
       "      <td>0</td>\n",
       "      <td>1</td>\n",
       "    </tr>\n",
       "    <tr>\n",
       "      <th>...</th>\n",
       "      <td>...</td>\n",
       "      <td>...</td>\n",
       "      <td>...</td>\n",
       "    </tr>\n",
       "    <tr>\n",
       "      <th>9995</th>\n",
       "      <td>1</td>\n",
       "      <td>0</td>\n",
       "      <td>0</td>\n",
       "    </tr>\n",
       "    <tr>\n",
       "      <th>9996</th>\n",
       "      <td>1</td>\n",
       "      <td>0</td>\n",
       "      <td>0</td>\n",
       "    </tr>\n",
       "    <tr>\n",
       "      <th>9997</th>\n",
       "      <td>0</td>\n",
       "      <td>0</td>\n",
       "      <td>0</td>\n",
       "    </tr>\n",
       "    <tr>\n",
       "      <th>9998</th>\n",
       "      <td>1</td>\n",
       "      <td>1</td>\n",
       "      <td>0</td>\n",
       "    </tr>\n",
       "    <tr>\n",
       "      <th>9999</th>\n",
       "      <td>0</td>\n",
       "      <td>0</td>\n",
       "      <td>0</td>\n",
       "    </tr>\n",
       "  </tbody>\n",
       "</table>\n",
       "<p>10000 rows × 3 columns</p>\n",
       "</div>"
      ],
      "text/plain": [
       "      Gender_Male  Geography_Germany  Geography_Spain\n",
       "0               0                  0                0\n",
       "1               0                  0                1\n",
       "2               0                  0                0\n",
       "3               0                  0                0\n",
       "4               0                  0                1\n",
       "...           ...                ...              ...\n",
       "9995            1                  0                0\n",
       "9996            1                  0                0\n",
       "9997            0                  0                0\n",
       "9998            1                  1                0\n",
       "9999            0                  0                0\n",
       "\n",
       "[10000 rows x 3 columns]"
      ]
     },
     "execution_count": 13,
     "metadata": {},
     "output_type": "execute_result"
    }
   ],
   "source": [
    "data_ohe"
   ]
  },
  {
   "cell_type": "markdown",
   "metadata": {},
   "source": [
    "> Категориальный значения столбцов \"Gender\" и \"Geography\" прямым кодированием перевел в количественные"
   ]
  },
  {
   "cell_type": "code",
   "execution_count": 14,
   "metadata": {},
   "outputs": [],
   "source": [
    "data = data.join(pd.get_dummies(data[['Gender', 'Geography']], drop_first=True))"
   ]
  },
  {
   "cell_type": "code",
   "execution_count": 15,
   "metadata": {},
   "outputs": [],
   "source": [
    "data = data.drop(['RowNumber', 'CustomerId', 'Surname'], axis=1)"
   ]
  },
  {
   "cell_type": "code",
   "execution_count": 16,
   "metadata": {},
   "outputs": [
    {
     "data": {
      "text/html": [
       "<div>\n",
       "<style scoped>\n",
       "    .dataframe tbody tr th:only-of-type {\n",
       "        vertical-align: middle;\n",
       "    }\n",
       "\n",
       "    .dataframe tbody tr th {\n",
       "        vertical-align: top;\n",
       "    }\n",
       "\n",
       "    .dataframe thead th {\n",
       "        text-align: right;\n",
       "    }\n",
       "</style>\n",
       "<table border=\"1\" class=\"dataframe\">\n",
       "  <thead>\n",
       "    <tr style=\"text-align: right;\">\n",
       "      <th></th>\n",
       "      <th>CreditScore</th>\n",
       "      <th>Geography</th>\n",
       "      <th>Gender</th>\n",
       "      <th>Age</th>\n",
       "      <th>Tenure</th>\n",
       "      <th>Balance</th>\n",
       "      <th>NumOfProducts</th>\n",
       "      <th>HasCrCard</th>\n",
       "      <th>IsActiveMember</th>\n",
       "      <th>EstimatedSalary</th>\n",
       "      <th>Exited</th>\n",
       "      <th>Gender_Male</th>\n",
       "      <th>Geography_Germany</th>\n",
       "      <th>Geography_Spain</th>\n",
       "    </tr>\n",
       "  </thead>\n",
       "  <tbody>\n",
       "    <tr>\n",
       "      <th>0</th>\n",
       "      <td>619</td>\n",
       "      <td>France</td>\n",
       "      <td>Female</td>\n",
       "      <td>42</td>\n",
       "      <td>2.0</td>\n",
       "      <td>0.00</td>\n",
       "      <td>1</td>\n",
       "      <td>1</td>\n",
       "      <td>1</td>\n",
       "      <td>101348.88</td>\n",
       "      <td>1</td>\n",
       "      <td>0</td>\n",
       "      <td>0</td>\n",
       "      <td>0</td>\n",
       "    </tr>\n",
       "    <tr>\n",
       "      <th>1</th>\n",
       "      <td>608</td>\n",
       "      <td>Spain</td>\n",
       "      <td>Female</td>\n",
       "      <td>41</td>\n",
       "      <td>1.0</td>\n",
       "      <td>83807.86</td>\n",
       "      <td>1</td>\n",
       "      <td>0</td>\n",
       "      <td>1</td>\n",
       "      <td>112542.58</td>\n",
       "      <td>0</td>\n",
       "      <td>0</td>\n",
       "      <td>0</td>\n",
       "      <td>1</td>\n",
       "    </tr>\n",
       "    <tr>\n",
       "      <th>2</th>\n",
       "      <td>502</td>\n",
       "      <td>France</td>\n",
       "      <td>Female</td>\n",
       "      <td>42</td>\n",
       "      <td>8.0</td>\n",
       "      <td>159660.80</td>\n",
       "      <td>3</td>\n",
       "      <td>1</td>\n",
       "      <td>0</td>\n",
       "      <td>113931.57</td>\n",
       "      <td>1</td>\n",
       "      <td>0</td>\n",
       "      <td>0</td>\n",
       "      <td>0</td>\n",
       "    </tr>\n",
       "    <tr>\n",
       "      <th>3</th>\n",
       "      <td>699</td>\n",
       "      <td>France</td>\n",
       "      <td>Female</td>\n",
       "      <td>39</td>\n",
       "      <td>1.0</td>\n",
       "      <td>0.00</td>\n",
       "      <td>2</td>\n",
       "      <td>0</td>\n",
       "      <td>0</td>\n",
       "      <td>93826.63</td>\n",
       "      <td>0</td>\n",
       "      <td>0</td>\n",
       "      <td>0</td>\n",
       "      <td>0</td>\n",
       "    </tr>\n",
       "    <tr>\n",
       "      <th>4</th>\n",
       "      <td>850</td>\n",
       "      <td>Spain</td>\n",
       "      <td>Female</td>\n",
       "      <td>43</td>\n",
       "      <td>2.0</td>\n",
       "      <td>125510.82</td>\n",
       "      <td>1</td>\n",
       "      <td>1</td>\n",
       "      <td>1</td>\n",
       "      <td>79084.10</td>\n",
       "      <td>0</td>\n",
       "      <td>0</td>\n",
       "      <td>0</td>\n",
       "      <td>1</td>\n",
       "    </tr>\n",
       "  </tbody>\n",
       "</table>\n",
       "</div>"
      ],
      "text/plain": [
       "   CreditScore Geography  Gender  Age  Tenure    Balance  NumOfProducts  \\\n",
       "0          619    France  Female   42     2.0       0.00              1   \n",
       "1          608     Spain  Female   41     1.0   83807.86              1   \n",
       "2          502    France  Female   42     8.0  159660.80              3   \n",
       "3          699    France  Female   39     1.0       0.00              2   \n",
       "4          850     Spain  Female   43     2.0  125510.82              1   \n",
       "\n",
       "   HasCrCard  IsActiveMember  EstimatedSalary  Exited  Gender_Male  \\\n",
       "0          1               1        101348.88       1            0   \n",
       "1          0               1        112542.58       0            0   \n",
       "2          1               0        113931.57       1            0   \n",
       "3          0               0         93826.63       0            0   \n",
       "4          1               1         79084.10       0            0   \n",
       "\n",
       "   Geography_Germany  Geography_Spain  \n",
       "0                  0                0  \n",
       "1                  0                1  \n",
       "2                  0                0  \n",
       "3                  0                0  \n",
       "4                  0                1  "
      ]
     },
     "execution_count": 16,
     "metadata": {},
     "output_type": "execute_result"
    }
   ],
   "source": [
    "data.head(10)"
   ]
  },
  {
   "cell_type": "markdown",
   "metadata": {},
   "source": [
    "> И присоединил их в исходный датафрейм!"
   ]
  },
  {
   "cell_type": "code",
   "execution_count": 17,
   "metadata": {},
   "outputs": [],
   "source": [
    "target = data['Exited']\n",
    "features = data.drop(['Exited', 'Geography', 'Gender'], axis=1)"
   ]
  },
  {
   "cell_type": "code",
   "execution_count": 19,
   "metadata": {},
   "outputs": [],
   "source": [
    "data_train, data_test1 = train_test_split(data, test_size=0.4, random_state=12345)\n",
    "data_test, data_valid = train_test_split(data_test1, test_size=0.5, random_state=12345)"
   ]
  },
  {
   "cell_type": "code",
   "execution_count": 20,
   "metadata": {},
   "outputs": [
    {
     "data": {
      "text/html": [
       "<div>\n",
       "<style scoped>\n",
       "    .dataframe tbody tr th:only-of-type {\n",
       "        vertical-align: middle;\n",
       "    }\n",
       "\n",
       "    .dataframe tbody tr th {\n",
       "        vertical-align: top;\n",
       "    }\n",
       "\n",
       "    .dataframe thead th {\n",
       "        text-align: right;\n",
       "    }\n",
       "</style>\n",
       "<table border=\"1\" class=\"dataframe\">\n",
       "  <thead>\n",
       "    <tr style=\"text-align: right;\">\n",
       "      <th></th>\n",
       "      <th>CreditScore</th>\n",
       "      <th>Geography</th>\n",
       "      <th>Gender</th>\n",
       "      <th>Age</th>\n",
       "      <th>Tenure</th>\n",
       "      <th>Balance</th>\n",
       "      <th>NumOfProducts</th>\n",
       "      <th>HasCrCard</th>\n",
       "      <th>IsActiveMember</th>\n",
       "      <th>EstimatedSalary</th>\n",
       "      <th>Exited</th>\n",
       "      <th>Gender_Male</th>\n",
       "      <th>Geography_Germany</th>\n",
       "      <th>Geography_Spain</th>\n",
       "    </tr>\n",
       "  </thead>\n",
       "  <tbody>\n",
       "    <tr>\n",
       "      <th>7479</th>\n",
       "      <td>567</td>\n",
       "      <td>Spain</td>\n",
       "      <td>Male</td>\n",
       "      <td>35</td>\n",
       "      <td>8.0</td>\n",
       "      <td>153137.74</td>\n",
       "      <td>1</td>\n",
       "      <td>1</td>\n",
       "      <td>0</td>\n",
       "      <td>88659.07</td>\n",
       "      <td>0</td>\n",
       "      <td>1</td>\n",
       "      <td>0</td>\n",
       "      <td>1</td>\n",
       "    </tr>\n",
       "    <tr>\n",
       "      <th>3411</th>\n",
       "      <td>711</td>\n",
       "      <td>France</td>\n",
       "      <td>Female</td>\n",
       "      <td>37</td>\n",
       "      <td>8.0</td>\n",
       "      <td>113899.92</td>\n",
       "      <td>1</td>\n",
       "      <td>0</td>\n",
       "      <td>0</td>\n",
       "      <td>80215.20</td>\n",
       "      <td>0</td>\n",
       "      <td>0</td>\n",
       "      <td>0</td>\n",
       "      <td>0</td>\n",
       "    </tr>\n",
       "    <tr>\n",
       "      <th>6027</th>\n",
       "      <td>850</td>\n",
       "      <td>Germany</td>\n",
       "      <td>Male</td>\n",
       "      <td>44</td>\n",
       "      <td>3.0</td>\n",
       "      <td>140393.65</td>\n",
       "      <td>2</td>\n",
       "      <td>0</td>\n",
       "      <td>1</td>\n",
       "      <td>186285.52</td>\n",
       "      <td>0</td>\n",
       "      <td>1</td>\n",
       "      <td>1</td>\n",
       "      <td>0</td>\n",
       "    </tr>\n",
       "    <tr>\n",
       "      <th>1247</th>\n",
       "      <td>512</td>\n",
       "      <td>France</td>\n",
       "      <td>Male</td>\n",
       "      <td>24</td>\n",
       "      <td>6.0</td>\n",
       "      <td>0.00</td>\n",
       "      <td>2</td>\n",
       "      <td>1</td>\n",
       "      <td>0</td>\n",
       "      <td>37654.31</td>\n",
       "      <td>0</td>\n",
       "      <td>1</td>\n",
       "      <td>0</td>\n",
       "      <td>0</td>\n",
       "    </tr>\n",
       "    <tr>\n",
       "      <th>3716</th>\n",
       "      <td>665</td>\n",
       "      <td>Germany</td>\n",
       "      <td>Female</td>\n",
       "      <td>27</td>\n",
       "      <td>2.0</td>\n",
       "      <td>147435.96</td>\n",
       "      <td>1</td>\n",
       "      <td>0</td>\n",
       "      <td>0</td>\n",
       "      <td>187508.06</td>\n",
       "      <td>0</td>\n",
       "      <td>0</td>\n",
       "      <td>1</td>\n",
       "      <td>0</td>\n",
       "    </tr>\n",
       "  </tbody>\n",
       "</table>\n",
       "</div>"
      ],
      "text/plain": [
       "      CreditScore Geography  Gender  Age  Tenure    Balance  NumOfProducts  \\\n",
       "7479          567     Spain    Male   35     8.0  153137.74              1   \n",
       "3411          711    France  Female   37     8.0  113899.92              1   \n",
       "6027          850   Germany    Male   44     3.0  140393.65              2   \n",
       "1247          512    France    Male   24     6.0       0.00              2   \n",
       "3716          665   Germany  Female   27     2.0  147435.96              1   \n",
       "\n",
       "      HasCrCard  IsActiveMember  EstimatedSalary  Exited  Gender_Male  \\\n",
       "7479          1               0         88659.07       0            1   \n",
       "3411          0               0         80215.20       0            0   \n",
       "6027          0               1        186285.52       0            1   \n",
       "1247          1               0         37654.31       0            1   \n",
       "3716          0               0        187508.06       0            0   \n",
       "\n",
       "      Geography_Germany  Geography_Spain  \n",
       "7479                  0                1  \n",
       "3411                  0                0  \n",
       "6027                  1                0  \n",
       "1247                  0                0  \n",
       "3716                  1                0  "
      ]
     },
     "execution_count": 20,
     "metadata": {},
     "output_type": "execute_result"
    }
   ],
   "source": [
    "data_train.head()"
   ]
  },
  {
   "cell_type": "code",
   "execution_count": 21,
   "metadata": {},
   "outputs": [
    {
     "data": {
      "text/html": [
       "<div>\n",
       "<style scoped>\n",
       "    .dataframe tbody tr th:only-of-type {\n",
       "        vertical-align: middle;\n",
       "    }\n",
       "\n",
       "    .dataframe tbody tr th {\n",
       "        vertical-align: top;\n",
       "    }\n",
       "\n",
       "    .dataframe thead th {\n",
       "        text-align: right;\n",
       "    }\n",
       "</style>\n",
       "<table border=\"1\" class=\"dataframe\">\n",
       "  <thead>\n",
       "    <tr style=\"text-align: right;\">\n",
       "      <th></th>\n",
       "      <th>CreditScore</th>\n",
       "      <th>Geography</th>\n",
       "      <th>Gender</th>\n",
       "      <th>Age</th>\n",
       "      <th>Tenure</th>\n",
       "      <th>Balance</th>\n",
       "      <th>NumOfProducts</th>\n",
       "      <th>HasCrCard</th>\n",
       "      <th>IsActiveMember</th>\n",
       "      <th>EstimatedSalary</th>\n",
       "      <th>Exited</th>\n",
       "      <th>Gender_Male</th>\n",
       "      <th>Geography_Germany</th>\n",
       "      <th>Geography_Spain</th>\n",
       "    </tr>\n",
       "  </thead>\n",
       "  <tbody>\n",
       "    <tr>\n",
       "      <th>8532</th>\n",
       "      <td>585</td>\n",
       "      <td>France</td>\n",
       "      <td>Female</td>\n",
       "      <td>35</td>\n",
       "      <td>2.0</td>\n",
       "      <td>0.00</td>\n",
       "      <td>2</td>\n",
       "      <td>1</td>\n",
       "      <td>0</td>\n",
       "      <td>98621.04</td>\n",
       "      <td>1</td>\n",
       "      <td>0</td>\n",
       "      <td>0</td>\n",
       "      <td>0</td>\n",
       "    </tr>\n",
       "    <tr>\n",
       "      <th>5799</th>\n",
       "      <td>625</td>\n",
       "      <td>France</td>\n",
       "      <td>Female</td>\n",
       "      <td>45</td>\n",
       "      <td>3.0</td>\n",
       "      <td>0.00</td>\n",
       "      <td>1</td>\n",
       "      <td>1</td>\n",
       "      <td>1</td>\n",
       "      <td>184474.15</td>\n",
       "      <td>1</td>\n",
       "      <td>0</td>\n",
       "      <td>0</td>\n",
       "      <td>0</td>\n",
       "    </tr>\n",
       "    <tr>\n",
       "      <th>5511</th>\n",
       "      <td>667</td>\n",
       "      <td>Germany</td>\n",
       "      <td>Male</td>\n",
       "      <td>32</td>\n",
       "      <td>0.0</td>\n",
       "      <td>103846.65</td>\n",
       "      <td>1</td>\n",
       "      <td>1</td>\n",
       "      <td>0</td>\n",
       "      <td>20560.69</td>\n",
       "      <td>0</td>\n",
       "      <td>1</td>\n",
       "      <td>1</td>\n",
       "      <td>0</td>\n",
       "    </tr>\n",
       "    <tr>\n",
       "      <th>7365</th>\n",
       "      <td>568</td>\n",
       "      <td>Spain</td>\n",
       "      <td>Female</td>\n",
       "      <td>36</td>\n",
       "      <td>10.0</td>\n",
       "      <td>153610.61</td>\n",
       "      <td>1</td>\n",
       "      <td>1</td>\n",
       "      <td>1</td>\n",
       "      <td>54083.80</td>\n",
       "      <td>1</td>\n",
       "      <td>0</td>\n",
       "      <td>0</td>\n",
       "      <td>1</td>\n",
       "    </tr>\n",
       "    <tr>\n",
       "      <th>7367</th>\n",
       "      <td>606</td>\n",
       "      <td>Spain</td>\n",
       "      <td>Male</td>\n",
       "      <td>42</td>\n",
       "      <td>10.0</td>\n",
       "      <td>0.00</td>\n",
       "      <td>2</td>\n",
       "      <td>1</td>\n",
       "      <td>0</td>\n",
       "      <td>177938.52</td>\n",
       "      <td>0</td>\n",
       "      <td>1</td>\n",
       "      <td>0</td>\n",
       "      <td>1</td>\n",
       "    </tr>\n",
       "  </tbody>\n",
       "</table>\n",
       "</div>"
      ],
      "text/plain": [
       "      CreditScore Geography  Gender  Age  Tenure    Balance  NumOfProducts  \\\n",
       "8532          585    France  Female   35     2.0       0.00              2   \n",
       "5799          625    France  Female   45     3.0       0.00              1   \n",
       "5511          667   Germany    Male   32     0.0  103846.65              1   \n",
       "7365          568     Spain  Female   36    10.0  153610.61              1   \n",
       "7367          606     Spain    Male   42    10.0       0.00              2   \n",
       "\n",
       "      HasCrCard  IsActiveMember  EstimatedSalary  Exited  Gender_Male  \\\n",
       "8532          1               0         98621.04       1            0   \n",
       "5799          1               1        184474.15       1            0   \n",
       "5511          1               0         20560.69       0            1   \n",
       "7365          1               1         54083.80       1            0   \n",
       "7367          1               0        177938.52       0            1   \n",
       "\n",
       "      Geography_Germany  Geography_Spain  \n",
       "8532                  0                0  \n",
       "5799                  0                0  \n",
       "5511                  1                0  \n",
       "7365                  0                1  \n",
       "7367                  0                1  "
      ]
     },
     "execution_count": 21,
     "metadata": {},
     "output_type": "execute_result"
    }
   ],
   "source": [
    "data_test.head()"
   ]
  },
  {
   "cell_type": "code",
   "execution_count": 22,
   "metadata": {},
   "outputs": [
    {
     "data": {
      "text/html": [
       "<div>\n",
       "<style scoped>\n",
       "    .dataframe tbody tr th:only-of-type {\n",
       "        vertical-align: middle;\n",
       "    }\n",
       "\n",
       "    .dataframe tbody tr th {\n",
       "        vertical-align: top;\n",
       "    }\n",
       "\n",
       "    .dataframe thead th {\n",
       "        text-align: right;\n",
       "    }\n",
       "</style>\n",
       "<table border=\"1\" class=\"dataframe\">\n",
       "  <thead>\n",
       "    <tr style=\"text-align: right;\">\n",
       "      <th></th>\n",
       "      <th>CreditScore</th>\n",
       "      <th>Geography</th>\n",
       "      <th>Gender</th>\n",
       "      <th>Age</th>\n",
       "      <th>Tenure</th>\n",
       "      <th>Balance</th>\n",
       "      <th>NumOfProducts</th>\n",
       "      <th>HasCrCard</th>\n",
       "      <th>IsActiveMember</th>\n",
       "      <th>EstimatedSalary</th>\n",
       "      <th>Exited</th>\n",
       "      <th>Gender_Male</th>\n",
       "      <th>Geography_Germany</th>\n",
       "      <th>Geography_Spain</th>\n",
       "    </tr>\n",
       "  </thead>\n",
       "  <tbody>\n",
       "    <tr>\n",
       "      <th>7041</th>\n",
       "      <td>438</td>\n",
       "      <td>France</td>\n",
       "      <td>Male</td>\n",
       "      <td>38</td>\n",
       "      <td>2.0</td>\n",
       "      <td>0.00</td>\n",
       "      <td>2</td>\n",
       "      <td>1</td>\n",
       "      <td>0</td>\n",
       "      <td>136859.55</td>\n",
       "      <td>0</td>\n",
       "      <td>1</td>\n",
       "      <td>0</td>\n",
       "      <td>0</td>\n",
       "    </tr>\n",
       "    <tr>\n",
       "      <th>5709</th>\n",
       "      <td>644</td>\n",
       "      <td>France</td>\n",
       "      <td>Female</td>\n",
       "      <td>39</td>\n",
       "      <td>9.0</td>\n",
       "      <td>0.00</td>\n",
       "      <td>1</td>\n",
       "      <td>1</td>\n",
       "      <td>0</td>\n",
       "      <td>3740.93</td>\n",
       "      <td>0</td>\n",
       "      <td>0</td>\n",
       "      <td>0</td>\n",
       "      <td>0</td>\n",
       "    </tr>\n",
       "    <tr>\n",
       "      <th>7117</th>\n",
       "      <td>564</td>\n",
       "      <td>Spain</td>\n",
       "      <td>Male</td>\n",
       "      <td>31</td>\n",
       "      <td>5.0</td>\n",
       "      <td>121461.87</td>\n",
       "      <td>1</td>\n",
       "      <td>1</td>\n",
       "      <td>1</td>\n",
       "      <td>20432.09</td>\n",
       "      <td>1</td>\n",
       "      <td>1</td>\n",
       "      <td>0</td>\n",
       "      <td>1</td>\n",
       "    </tr>\n",
       "    <tr>\n",
       "      <th>7775</th>\n",
       "      <td>628</td>\n",
       "      <td>Spain</td>\n",
       "      <td>Male</td>\n",
       "      <td>40</td>\n",
       "      <td>10.0</td>\n",
       "      <td>0.00</td>\n",
       "      <td>2</td>\n",
       "      <td>1</td>\n",
       "      <td>0</td>\n",
       "      <td>103832.58</td>\n",
       "      <td>0</td>\n",
       "      <td>1</td>\n",
       "      <td>0</td>\n",
       "      <td>1</td>\n",
       "    </tr>\n",
       "    <tr>\n",
       "      <th>8735</th>\n",
       "      <td>728</td>\n",
       "      <td>France</td>\n",
       "      <td>Male</td>\n",
       "      <td>30</td>\n",
       "      <td>10.0</td>\n",
       "      <td>114835.43</td>\n",
       "      <td>1</td>\n",
       "      <td>0</td>\n",
       "      <td>1</td>\n",
       "      <td>37662.49</td>\n",
       "      <td>0</td>\n",
       "      <td>1</td>\n",
       "      <td>0</td>\n",
       "      <td>0</td>\n",
       "    </tr>\n",
       "  </tbody>\n",
       "</table>\n",
       "</div>"
      ],
      "text/plain": [
       "      CreditScore Geography  Gender  Age  Tenure    Balance  NumOfProducts  \\\n",
       "7041          438    France    Male   38     2.0       0.00              2   \n",
       "5709          644    France  Female   39     9.0       0.00              1   \n",
       "7117          564     Spain    Male   31     5.0  121461.87              1   \n",
       "7775          628     Spain    Male   40    10.0       0.00              2   \n",
       "8735          728    France    Male   30    10.0  114835.43              1   \n",
       "\n",
       "      HasCrCard  IsActiveMember  EstimatedSalary  Exited  Gender_Male  \\\n",
       "7041          1               0        136859.55       0            1   \n",
       "5709          1               0          3740.93       0            0   \n",
       "7117          1               1         20432.09       1            1   \n",
       "7775          1               0        103832.58       0            1   \n",
       "8735          0               1         37662.49       0            1   \n",
       "\n",
       "      Geography_Germany  Geography_Spain  \n",
       "7041                  0                0  \n",
       "5709                  0                0  \n",
       "7117                  0                1  \n",
       "7775                  0                1  \n",
       "8735                  0                0  "
      ]
     },
     "execution_count": 22,
     "metadata": {},
     "output_type": "execute_result"
    }
   ],
   "source": [
    "data_valid.head()"
   ]
  },
  {
   "cell_type": "code",
   "execution_count": 23,
   "metadata": {},
   "outputs": [
    {
     "name": "stdout",
     "output_type": "stream",
     "text": [
      "Размер обучающей выборки: 0.6\n"
     ]
    }
   ],
   "source": [
    "print('Размер обучающей выборки:', data_train.shape[0]/data.shape[0])"
   ]
  },
  {
   "cell_type": "code",
   "execution_count": 24,
   "metadata": {},
   "outputs": [
    {
     "name": "stdout",
     "output_type": "stream",
     "text": [
      "Размер валидационной выборки: 0.2\n"
     ]
    }
   ],
   "source": [
    "print('Размер валидационной выборки:', data_valid.shape[0]/data.shape[0])"
   ]
  },
  {
   "cell_type": "code",
   "execution_count": 25,
   "metadata": {},
   "outputs": [
    {
     "name": "stdout",
     "output_type": "stream",
     "text": [
      "Размер тестовой выборки: 0.2\n"
     ]
    }
   ],
   "source": [
    "print('Размер тестовой выборки:', data_test.shape[0]/data.shape[0])"
   ]
  },
  {
   "cell_type": "markdown",
   "metadata": {},
   "source": [
    "> Разделил данный на 3 выборки: обучающую, валидационную и тестовую в соотношении 60/20/20 %. Проверив, заключил, что разделение произошло корректно! "
   ]
  },
  {
   "cell_type": "code",
   "execution_count": 26,
   "metadata": {},
   "outputs": [],
   "source": [
    "target_train = data_train['Exited']\n",
    "features_train = data_train.drop(['Exited', 'Geography', 'Gender'], axis=1)"
   ]
  },
  {
   "cell_type": "code",
   "execution_count": 27,
   "metadata": {},
   "outputs": [
    {
     "data": {
      "text/plain": [
       "7479    0\n",
       "3411    0\n",
       "6027    0\n",
       "1247    0\n",
       "3716    0\n",
       "Name: Exited, dtype: int64"
      ]
     },
     "execution_count": 27,
     "metadata": {},
     "output_type": "execute_result"
    }
   ],
   "source": [
    "target_train.head()"
   ]
  },
  {
   "cell_type": "code",
   "execution_count": 28,
   "metadata": {},
   "outputs": [
    {
     "data": {
      "text/html": [
       "<div>\n",
       "<style scoped>\n",
       "    .dataframe tbody tr th:only-of-type {\n",
       "        vertical-align: middle;\n",
       "    }\n",
       "\n",
       "    .dataframe tbody tr th {\n",
       "        vertical-align: top;\n",
       "    }\n",
       "\n",
       "    .dataframe thead th {\n",
       "        text-align: right;\n",
       "    }\n",
       "</style>\n",
       "<table border=\"1\" class=\"dataframe\">\n",
       "  <thead>\n",
       "    <tr style=\"text-align: right;\">\n",
       "      <th></th>\n",
       "      <th>CreditScore</th>\n",
       "      <th>Age</th>\n",
       "      <th>Tenure</th>\n",
       "      <th>Balance</th>\n",
       "      <th>NumOfProducts</th>\n",
       "      <th>HasCrCard</th>\n",
       "      <th>IsActiveMember</th>\n",
       "      <th>EstimatedSalary</th>\n",
       "      <th>Gender_Male</th>\n",
       "      <th>Geography_Germany</th>\n",
       "      <th>Geography_Spain</th>\n",
       "    </tr>\n",
       "  </thead>\n",
       "  <tbody>\n",
       "    <tr>\n",
       "      <th>7479</th>\n",
       "      <td>567</td>\n",
       "      <td>35</td>\n",
       "      <td>8.0</td>\n",
       "      <td>153137.74</td>\n",
       "      <td>1</td>\n",
       "      <td>1</td>\n",
       "      <td>0</td>\n",
       "      <td>88659.07</td>\n",
       "      <td>1</td>\n",
       "      <td>0</td>\n",
       "      <td>1</td>\n",
       "    </tr>\n",
       "    <tr>\n",
       "      <th>3411</th>\n",
       "      <td>711</td>\n",
       "      <td>37</td>\n",
       "      <td>8.0</td>\n",
       "      <td>113899.92</td>\n",
       "      <td>1</td>\n",
       "      <td>0</td>\n",
       "      <td>0</td>\n",
       "      <td>80215.20</td>\n",
       "      <td>0</td>\n",
       "      <td>0</td>\n",
       "      <td>0</td>\n",
       "    </tr>\n",
       "    <tr>\n",
       "      <th>6027</th>\n",
       "      <td>850</td>\n",
       "      <td>44</td>\n",
       "      <td>3.0</td>\n",
       "      <td>140393.65</td>\n",
       "      <td>2</td>\n",
       "      <td>0</td>\n",
       "      <td>1</td>\n",
       "      <td>186285.52</td>\n",
       "      <td>1</td>\n",
       "      <td>1</td>\n",
       "      <td>0</td>\n",
       "    </tr>\n",
       "    <tr>\n",
       "      <th>1247</th>\n",
       "      <td>512</td>\n",
       "      <td>24</td>\n",
       "      <td>6.0</td>\n",
       "      <td>0.00</td>\n",
       "      <td>2</td>\n",
       "      <td>1</td>\n",
       "      <td>0</td>\n",
       "      <td>37654.31</td>\n",
       "      <td>1</td>\n",
       "      <td>0</td>\n",
       "      <td>0</td>\n",
       "    </tr>\n",
       "    <tr>\n",
       "      <th>3716</th>\n",
       "      <td>665</td>\n",
       "      <td>27</td>\n",
       "      <td>2.0</td>\n",
       "      <td>147435.96</td>\n",
       "      <td>1</td>\n",
       "      <td>0</td>\n",
       "      <td>0</td>\n",
       "      <td>187508.06</td>\n",
       "      <td>0</td>\n",
       "      <td>1</td>\n",
       "      <td>0</td>\n",
       "    </tr>\n",
       "  </tbody>\n",
       "</table>\n",
       "</div>"
      ],
      "text/plain": [
       "      CreditScore  Age  Tenure    Balance  NumOfProducts  HasCrCard  \\\n",
       "7479          567   35     8.0  153137.74              1          1   \n",
       "3411          711   37     8.0  113899.92              1          0   \n",
       "6027          850   44     3.0  140393.65              2          0   \n",
       "1247          512   24     6.0       0.00              2          1   \n",
       "3716          665   27     2.0  147435.96              1          0   \n",
       "\n",
       "      IsActiveMember  EstimatedSalary  Gender_Male  Geography_Germany  \\\n",
       "7479               0         88659.07            1                  0   \n",
       "3411               0         80215.20            0                  0   \n",
       "6027               1        186285.52            1                  1   \n",
       "1247               0         37654.31            1                  0   \n",
       "3716               0        187508.06            0                  1   \n",
       "\n",
       "      Geography_Spain  \n",
       "7479                1  \n",
       "3411                0  \n",
       "6027                0  \n",
       "1247                0  \n",
       "3716                0  "
      ]
     },
     "execution_count": 28,
     "metadata": {},
     "output_type": "execute_result"
    }
   ],
   "source": [
    "features_train.head()"
   ]
  },
  {
   "cell_type": "code",
   "execution_count": 29,
   "metadata": {},
   "outputs": [],
   "source": [
    "target_valid = data_valid['Exited']\n",
    "features_valid = data_valid.drop(['Exited', 'Geography', 'Gender'], axis=1)"
   ]
  },
  {
   "cell_type": "code",
   "execution_count": 30,
   "metadata": {},
   "outputs": [
    {
     "data": {
      "text/plain": [
       "7041    0\n",
       "5709    0\n",
       "7117    1\n",
       "7775    0\n",
       "8735    0\n",
       "Name: Exited, dtype: int64"
      ]
     },
     "execution_count": 30,
     "metadata": {},
     "output_type": "execute_result"
    }
   ],
   "source": [
    "target_valid.head()"
   ]
  },
  {
   "cell_type": "code",
   "execution_count": 31,
   "metadata": {},
   "outputs": [
    {
     "data": {
      "text/html": [
       "<div>\n",
       "<style scoped>\n",
       "    .dataframe tbody tr th:only-of-type {\n",
       "        vertical-align: middle;\n",
       "    }\n",
       "\n",
       "    .dataframe tbody tr th {\n",
       "        vertical-align: top;\n",
       "    }\n",
       "\n",
       "    .dataframe thead th {\n",
       "        text-align: right;\n",
       "    }\n",
       "</style>\n",
       "<table border=\"1\" class=\"dataframe\">\n",
       "  <thead>\n",
       "    <tr style=\"text-align: right;\">\n",
       "      <th></th>\n",
       "      <th>CreditScore</th>\n",
       "      <th>Age</th>\n",
       "      <th>Tenure</th>\n",
       "      <th>Balance</th>\n",
       "      <th>NumOfProducts</th>\n",
       "      <th>HasCrCard</th>\n",
       "      <th>IsActiveMember</th>\n",
       "      <th>EstimatedSalary</th>\n",
       "      <th>Gender_Male</th>\n",
       "      <th>Geography_Germany</th>\n",
       "      <th>Geography_Spain</th>\n",
       "    </tr>\n",
       "  </thead>\n",
       "  <tbody>\n",
       "    <tr>\n",
       "      <th>7041</th>\n",
       "      <td>438</td>\n",
       "      <td>38</td>\n",
       "      <td>2.0</td>\n",
       "      <td>0.00</td>\n",
       "      <td>2</td>\n",
       "      <td>1</td>\n",
       "      <td>0</td>\n",
       "      <td>136859.55</td>\n",
       "      <td>1</td>\n",
       "      <td>0</td>\n",
       "      <td>0</td>\n",
       "    </tr>\n",
       "    <tr>\n",
       "      <th>5709</th>\n",
       "      <td>644</td>\n",
       "      <td>39</td>\n",
       "      <td>9.0</td>\n",
       "      <td>0.00</td>\n",
       "      <td>1</td>\n",
       "      <td>1</td>\n",
       "      <td>0</td>\n",
       "      <td>3740.93</td>\n",
       "      <td>0</td>\n",
       "      <td>0</td>\n",
       "      <td>0</td>\n",
       "    </tr>\n",
       "    <tr>\n",
       "      <th>7117</th>\n",
       "      <td>564</td>\n",
       "      <td>31</td>\n",
       "      <td>5.0</td>\n",
       "      <td>121461.87</td>\n",
       "      <td>1</td>\n",
       "      <td>1</td>\n",
       "      <td>1</td>\n",
       "      <td>20432.09</td>\n",
       "      <td>1</td>\n",
       "      <td>0</td>\n",
       "      <td>1</td>\n",
       "    </tr>\n",
       "    <tr>\n",
       "      <th>7775</th>\n",
       "      <td>628</td>\n",
       "      <td>40</td>\n",
       "      <td>10.0</td>\n",
       "      <td>0.00</td>\n",
       "      <td>2</td>\n",
       "      <td>1</td>\n",
       "      <td>0</td>\n",
       "      <td>103832.58</td>\n",
       "      <td>1</td>\n",
       "      <td>0</td>\n",
       "      <td>1</td>\n",
       "    </tr>\n",
       "    <tr>\n",
       "      <th>8735</th>\n",
       "      <td>728</td>\n",
       "      <td>30</td>\n",
       "      <td>10.0</td>\n",
       "      <td>114835.43</td>\n",
       "      <td>1</td>\n",
       "      <td>0</td>\n",
       "      <td>1</td>\n",
       "      <td>37662.49</td>\n",
       "      <td>1</td>\n",
       "      <td>0</td>\n",
       "      <td>0</td>\n",
       "    </tr>\n",
       "  </tbody>\n",
       "</table>\n",
       "</div>"
      ],
      "text/plain": [
       "      CreditScore  Age  Tenure    Balance  NumOfProducts  HasCrCard  \\\n",
       "7041          438   38     2.0       0.00              2          1   \n",
       "5709          644   39     9.0       0.00              1          1   \n",
       "7117          564   31     5.0  121461.87              1          1   \n",
       "7775          628   40    10.0       0.00              2          1   \n",
       "8735          728   30    10.0  114835.43              1          0   \n",
       "\n",
       "      IsActiveMember  EstimatedSalary  Gender_Male  Geography_Germany  \\\n",
       "7041               0        136859.55            1                  0   \n",
       "5709               0          3740.93            0                  0   \n",
       "7117               1         20432.09            1                  0   \n",
       "7775               0        103832.58            1                  0   \n",
       "8735               1         37662.49            1                  0   \n",
       "\n",
       "      Geography_Spain  \n",
       "7041                0  \n",
       "5709                0  \n",
       "7117                1  \n",
       "7775                1  \n",
       "8735                0  "
      ]
     },
     "execution_count": 31,
     "metadata": {},
     "output_type": "execute_result"
    }
   ],
   "source": [
    "features_valid.head()"
   ]
  },
  {
   "cell_type": "code",
   "execution_count": 32,
   "metadata": {},
   "outputs": [],
   "source": [
    "target_test = data_test['Exited']\n",
    "features_test = data_test.drop(['Exited', 'Geography', 'Gender'], axis=1)"
   ]
  },
  {
   "cell_type": "code",
   "execution_count": 33,
   "metadata": {},
   "outputs": [
    {
     "data": {
      "text/plain": [
       "8532    1\n",
       "5799    1\n",
       "5511    0\n",
       "7365    1\n",
       "7367    0\n",
       "Name: Exited, dtype: int64"
      ]
     },
     "execution_count": 33,
     "metadata": {},
     "output_type": "execute_result"
    }
   ],
   "source": [
    "target_test.head()"
   ]
  },
  {
   "cell_type": "code",
   "execution_count": 34,
   "metadata": {},
   "outputs": [
    {
     "data": {
      "text/html": [
       "<div>\n",
       "<style scoped>\n",
       "    .dataframe tbody tr th:only-of-type {\n",
       "        vertical-align: middle;\n",
       "    }\n",
       "\n",
       "    .dataframe tbody tr th {\n",
       "        vertical-align: top;\n",
       "    }\n",
       "\n",
       "    .dataframe thead th {\n",
       "        text-align: right;\n",
       "    }\n",
       "</style>\n",
       "<table border=\"1\" class=\"dataframe\">\n",
       "  <thead>\n",
       "    <tr style=\"text-align: right;\">\n",
       "      <th></th>\n",
       "      <th>CreditScore</th>\n",
       "      <th>Age</th>\n",
       "      <th>Tenure</th>\n",
       "      <th>Balance</th>\n",
       "      <th>NumOfProducts</th>\n",
       "      <th>HasCrCard</th>\n",
       "      <th>IsActiveMember</th>\n",
       "      <th>EstimatedSalary</th>\n",
       "      <th>Gender_Male</th>\n",
       "      <th>Geography_Germany</th>\n",
       "      <th>Geography_Spain</th>\n",
       "    </tr>\n",
       "  </thead>\n",
       "  <tbody>\n",
       "    <tr>\n",
       "      <th>8532</th>\n",
       "      <td>585</td>\n",
       "      <td>35</td>\n",
       "      <td>2.0</td>\n",
       "      <td>0.00</td>\n",
       "      <td>2</td>\n",
       "      <td>1</td>\n",
       "      <td>0</td>\n",
       "      <td>98621.04</td>\n",
       "      <td>0</td>\n",
       "      <td>0</td>\n",
       "      <td>0</td>\n",
       "    </tr>\n",
       "    <tr>\n",
       "      <th>5799</th>\n",
       "      <td>625</td>\n",
       "      <td>45</td>\n",
       "      <td>3.0</td>\n",
       "      <td>0.00</td>\n",
       "      <td>1</td>\n",
       "      <td>1</td>\n",
       "      <td>1</td>\n",
       "      <td>184474.15</td>\n",
       "      <td>0</td>\n",
       "      <td>0</td>\n",
       "      <td>0</td>\n",
       "    </tr>\n",
       "    <tr>\n",
       "      <th>5511</th>\n",
       "      <td>667</td>\n",
       "      <td>32</td>\n",
       "      <td>0.0</td>\n",
       "      <td>103846.65</td>\n",
       "      <td>1</td>\n",
       "      <td>1</td>\n",
       "      <td>0</td>\n",
       "      <td>20560.69</td>\n",
       "      <td>1</td>\n",
       "      <td>1</td>\n",
       "      <td>0</td>\n",
       "    </tr>\n",
       "    <tr>\n",
       "      <th>7365</th>\n",
       "      <td>568</td>\n",
       "      <td>36</td>\n",
       "      <td>10.0</td>\n",
       "      <td>153610.61</td>\n",
       "      <td>1</td>\n",
       "      <td>1</td>\n",
       "      <td>1</td>\n",
       "      <td>54083.80</td>\n",
       "      <td>0</td>\n",
       "      <td>0</td>\n",
       "      <td>1</td>\n",
       "    </tr>\n",
       "    <tr>\n",
       "      <th>7367</th>\n",
       "      <td>606</td>\n",
       "      <td>42</td>\n",
       "      <td>10.0</td>\n",
       "      <td>0.00</td>\n",
       "      <td>2</td>\n",
       "      <td>1</td>\n",
       "      <td>0</td>\n",
       "      <td>177938.52</td>\n",
       "      <td>1</td>\n",
       "      <td>0</td>\n",
       "      <td>1</td>\n",
       "    </tr>\n",
       "  </tbody>\n",
       "</table>\n",
       "</div>"
      ],
      "text/plain": [
       "      CreditScore  Age  Tenure    Balance  NumOfProducts  HasCrCard  \\\n",
       "8532          585   35     2.0       0.00              2          1   \n",
       "5799          625   45     3.0       0.00              1          1   \n",
       "5511          667   32     0.0  103846.65              1          1   \n",
       "7365          568   36    10.0  153610.61              1          1   \n",
       "7367          606   42    10.0       0.00              2          1   \n",
       "\n",
       "      IsActiveMember  EstimatedSalary  Gender_Male  Geography_Germany  \\\n",
       "8532               0         98621.04            0                  0   \n",
       "5799               1        184474.15            0                  0   \n",
       "5511               0         20560.69            1                  1   \n",
       "7365               1         54083.80            0                  0   \n",
       "7367               0        177938.52            1                  0   \n",
       "\n",
       "      Geography_Spain  \n",
       "8532                0  \n",
       "5799                0  \n",
       "5511                0  \n",
       "7365                1  \n",
       "7367                1  "
      ]
     },
     "execution_count": 34,
     "metadata": {},
     "output_type": "execute_result"
    }
   ],
   "source": [
    "features_test.head()"
   ]
  },
  {
   "cell_type": "code",
   "execution_count": 35,
   "metadata": {},
   "outputs": [],
   "source": [
    "numeric = ['Balance', 'EstimatedSalary', 'Age']\n",
    "scaler = StandardScaler()\n",
    "scaler.fit(features_train[numeric])\n",
    "features_train[numeric] = scaler.transform(features_train[numeric])\n",
    "features_valid[numeric] = scaler.transform(features_valid[numeric])\n",
    "features_test[numeric] = scaler.transform(features_test[numeric])"
   ]
  },
  {
   "cell_type": "markdown",
   "metadata": {},
   "source": [
    "> В качестве целевого признака выбрал столбец \"Exited\", исключил из признаков столбцы с фамилиями клиентов, идентификационным номером клиента в базе, так как эти данные не будут влиять на предсказания модели. А так же столбцы с категориальными значениями стран и пол клиента. Эти данные остались в таблице в кодированном виде!"
   ]
  },
  {
   "cell_type": "code",
   "execution_count": 36,
   "metadata": {},
   "outputs": [
    {
     "data": {
      "text/plain": [
       "2000"
      ]
     },
     "execution_count": 36,
     "metadata": {},
     "output_type": "execute_result"
    }
   ],
   "source": [
    "len(features_valid)"
   ]
  },
  {
   "cell_type": "code",
   "execution_count": 38,
   "metadata": {},
   "outputs": [
    {
     "data": {
      "text/plain": [
       "6000"
      ]
     },
     "execution_count": 38,
     "metadata": {},
     "output_type": "execute_result"
    }
   ],
   "source": [
    "len(features_train)"
   ]
  },
  {
   "cell_type": "code",
   "execution_count": 37,
   "metadata": {},
   "outputs": [
    {
     "name": "stdout",
     "output_type": "stream",
     "text": [
      "Максимальная глубина дерева: 9\n",
      "Минимальное количество обьектов в листе: 8\n",
      "Accuracy наилучшей модели на валидационной выборке: 0.83\n",
      "F1 этой модели: 0.5355\n"
     ]
    }
   ],
   "source": [
    "best_model_1 = None\n",
    "best_result_1 = 0\n",
    "best_f1 = 0\n",
    "\n",
    "for depth in range(1,10):\n",
    "    for leaf in range(1,10):\n",
    "        model_1 = DecisionTreeClassifier(random_state=12345, max_depth=depth, min_samples_leaf=leaf)\n",
    "        model_1.fit(features_train, target_train)\n",
    "        train_predictions = model_1.predict(features_valid)\n",
    "        result_1 = model_1.score(features_valid, target_valid)\n",
    "        result_f1 = f1_score(target_valid, train_predictions)\n",
    "        if result_f1 > best_f1:\n",
    "            best_model_1 = model_1\n",
    "            best_result_1 = result_1\n",
    "            best_f1 = result_f1\n",
    "            max_depth = depth\n",
    "            min_sample_leaf = leaf\n",
    "print('Максимальная глубина дерева:', max_depth)\n",
    "print('Минимальное количество обьектов в листе:', min_sample_leaf)\n",
    "print(\"Accuracy наилучшей модели на валидационной выборке:\", best_result_1)\n",
    "print('F1 этой модели:', round(best_f1, 4))\n",
    "#print('F1 этой модели:', round(f1_score(target_valid, train_predictions), 4))"
   ]
  },
  {
   "cell_type": "code",
   "execution_count": 35,
   "metadata": {},
   "outputs": [
    {
     "name": "stdout",
     "output_type": "stream",
     "text": [
      "est: 120\n",
      "depth: 15\n",
      "Accuracy наилучшей модели на валидационной выборке: 0.852\n",
      "F1 этой модели: 0.5556\n"
     ]
    }
   ],
   "source": [
    "best_model_2 = None\n",
    "best_result_2 = 0\n",
    "best_f2 = 0\n",
    "\n",
    "for est in range(10,151,10):\n",
    "    for depth in range(1, 16):\n",
    "        model_2 = RandomForestClassifier(random_state=12345, n_estimators=est, max_depth=depth)\n",
    "        model_2.fit(features_train, target_train)\n",
    "        train_predictions_2 = model_2.predict(features_valid)\n",
    "        result_2 = model_2.score(features_valid, target_valid)\n",
    "        result_f2 = f1_score(target_valid, train_predictions_2)\n",
    "        if result_f2 > best_f2:\n",
    "            best_model_2 = model_2\n",
    "            best_result_2 = result_2\n",
    "            best_f2 = result_f2\n",
    "            n_estimators = est\n",
    "            max_depth = depth\n",
    "print('est:', n_estimators)\n",
    "print('depth:', max_depth)\n",
    "print('Accuracy наилучшей модели на валидационной выборке:', best_result_2)\n",
    "print('F1 этой модели:', round(best_f2, 4))\n",
    "#print('F1 этой модели:', round(f1_score(target_valid, train_predictions_2), 4))\n"
   ]
  },
  {
   "cell_type": "code",
   "execution_count": 36,
   "metadata": {},
   "outputs": [
    {
     "name": "stdout",
     "output_type": "stream",
     "text": [
      "Accuracy\n",
      "Валидационная выборка: 0.7925\n",
      "F1 этой модели: 0.2757\n"
     ]
    }
   ],
   "source": [
    "model_3 = LogisticRegression(random_state=12345, solver='lbfgs', max_iter=1000)\n",
    "model_3.fit(features_train, target_train)\n",
    "train_predictions_3 = model_3.predict(features_valid)\n",
    "result_3 = model_3.score(features_valid, target_valid)\n",
    "#dump(model_3, 'model_9_1.joblib')\n",
    "\n",
    "print('Accuracy')\n",
    "print('Валидационная выборка:', result_3)\n",
    "print('F1 этой модели:', round(f1_score(target_valid, train_predictions_3), 4))\n",
    "#print(round(f1_score(target_valid, train_predictions), 4))\n"
   ]
  },
  {
   "cell_type": "markdown",
   "metadata": {},
   "source": [
    " > Построено 3 модели на обучающей выборке. Наибольшую точность показали модель случайного леса с гиперпараметрами \" глубиной \": 15, и \"параметром  est\": 120 с точностью : 0.852 и значением F1 модели : 0.5556 и модель решающего дерева с большим показателем точности: 0.83 и значением F1 модели : 0.5355. При этом, гиперпараметры в этой модели : максимальная глубина: 9 и минимальное количество обьектов в листе: 8<div/>\n",
    "Меньшие показатели дала логистическая регрессия. точность составила: 0.7925 и значением F1 модели :0.2757. Но для повышения значения  F1 учту дисбаланс классов и если потребуется изменю обьем выборки для достижения необходимого результата"
   ]
  },
  {
   "cell_type": "markdown",
   "metadata": {},
   "source": [
    "## Борьба с дисбалансом"
   ]
  },
  {
   "cell_type": "code",
   "execution_count": 38,
   "metadata": {},
   "outputs": [
    {
     "name": "stdout",
     "output_type": "stream",
     "text": [
      "Максимальная глубина дерева: 5\n",
      "Минимальное количество обьектов в листе: 7\n",
      "Accuracy наилучшей модели на валидационной выборке: 0.7985\n",
      "F1 этой модели: 0.5858\n"
     ]
    }
   ],
   "source": [
    "best_model_1 = None\n",
    "best_result_1 = 0\n",
    "best_f1 = 0\n",
    "\n",
    "for depth in range(1,10):\n",
    "    for leaf in range(1,10):\n",
    "        model_1 = DecisionTreeClassifier(random_state=12345, max_depth=depth, min_samples_leaf=leaf, class_weight='balanced')\n",
    "        model_1.fit(features_train, target_train)\n",
    "        train_predictions = model_1.predict(features_valid)\n",
    "        result_1 = model_1.score(features_valid, target_valid) \n",
    "        result_f1 = f1_score(target_valid, train_predictions)\n",
    "        if result_f1 > best_f1:\n",
    "            best_model_1 = model_1\n",
    "            best_result_1 = result_1\n",
    "            best_f1 = result_f1\n",
    "            max_depth = depth\n",
    "            min_sample_leaf = leaf\n",
    "print('Максимальная глубина дерева:', max_depth)\n",
    "print('Минимальное количество обьектов в листе:', min_sample_leaf)\n",
    "print(\"Accuracy наилучшей модели на валидационной выборке:\", best_result_1)\n",
    "print('F1 этой модели:', round(best_f1, 4))\n",
    "#print('F1 этой модели:', round(f1_score(target_valid, train_predictions), 4))"
   ]
  },
  {
   "cell_type": "markdown",
   "metadata": {},
   "source": [
    "> Если учесть дисбаланс классов то значение F1 этой модели повысилось до значения 0.5655. Посмотрю как повлияет изменение обьема выборки на это значение. "
   ]
  },
  {
   "cell_type": "code",
   "execution_count": 39,
   "metadata": {},
   "outputs": [
    {
     "name": "stdout",
     "output_type": "stream",
     "text": [
      "Accuracy\n",
      "Обучающая выборка: 0.6975\n",
      "F1 этой модели: 0.4789\n"
     ]
    }
   ],
   "source": [
    "model_3 = LogisticRegression(random_state=12345, solver='lbfgs', max_iter=1000, class_weight='balanced')\n",
    "model_3.fit(features_train, target_train)\n",
    "train_predictions_3 = model_3.predict(features_valid)\n",
    "result_3 = model_3.score(features_valid, target_valid)\n",
    "#dump(model_3, 'model_9_1.joblib')\n",
    "\n",
    "print('Accuracy')\n",
    "print('Обучающая выборка:', result_3)\n",
    "print('F1 этой модели:', round(f1_score(target_valid, train_predictions_3), 4))"
   ]
  },
  {
   "cell_type": "code",
   "execution_count": 40,
   "metadata": {},
   "outputs": [
    {
     "name": "stdout",
     "output_type": "stream",
     "text": [
      "est: 60\n",
      "depth: 8\n",
      "Accuracy наилучшей модели на валидационной выборке: 0.8465\n",
      "F1 этой модели: 0.6214\n"
     ]
    }
   ],
   "source": [
    "best_model_2 = None\n",
    "best_result_2 = 0\n",
    "best_f2 = 0\n",
    "for est in range(10,151,10):\n",
    "    for depth in range(1, 16):\n",
    "        model_2 = RandomForestClassifier(random_state=12345, n_estimators=est, max_depth=depth, class_weight='balanced')\n",
    "        model_2.fit(features_train, target_train)\n",
    "        train_predictions_2 = model_2.predict(features_valid)\n",
    "        result_2 = model_2.score(features_valid, target_valid)\n",
    "        result_f2 = f1_score(target_valid, train_predictions_2)\n",
    "        if result_f2 > best_f2:\n",
    "            best_model_2 = model_2\n",
    "            best_result_2 = result_2\n",
    "            best_f2 = result_f2\n",
    "            n_estimators = est\n",
    "            max_depth = depth\n",
    "print('est:', n_estimators)\n",
    "print('depth:', max_depth)\n",
    "print('Accuracy наилучшей модели на валидационной выборке:', result_2)\n",
    "print('F1 этой модели:', round(best_f2, 4))\n",
    "#print('F1 этой модели:', round(f1_score(target_valid, train_predictions_3), 4))"
   ]
  },
  {
   "cell_type": "markdown",
   "metadata": {},
   "source": [
    "> Обучив заново модели с учетом дисбаланса классов, получил, что, значение F1 в модели решающего дерева  повысилось до значения 0.5858 с гиперпараметрами \"глубины\"=5 и \"количество обьектов в листе\"=7. Значение F1 в модели случайного леса повысилось до 0.6214 с гиперпараметрами est: 60 и глубина: 8. Модель логистической регрессии показала также повышение результатов до значения  F1: 0.4789.   Посмотрю как влияет увеличение обьема выборки и уменьшение на эти параметры. "
   ]
  },
  {
   "cell_type": "code",
   "execution_count": 41,
   "metadata": {},
   "outputs": [],
   "source": [
    "features_zeros = features_train[target_train == 0]\n",
    "features_ones = features_train[target_train == 1]\n",
    "target_zeros = target_train[target_train == 0]\n",
    "target_ones = target_train[target_train == 1]\n",
    "repeat = 4\n",
    "features_upsampled = pd.concat([features_zeros] + [features_ones] * repeat)\n",
    "target_upsampled = pd.concat([target_zeros] + [target_ones]* repeat)\n",
    "features_upsampled, target_upsampled = shuffle(\n",
    "        features_upsampled, target_upsampled, random_state=12345)"
   ]
  },
  {
   "cell_type": "code",
   "execution_count": 42,
   "metadata": {},
   "outputs": [
    {
     "name": "stdout",
     "output_type": "stream",
     "text": [
      "Максимальная глубина дерева: 5\n",
      "Минимальное количество обьектов в листе: 2\n",
      "Accuracy наилучшей модели на валидационной выборке: 0.7975\n",
      "F1 этой модели: 0.5812\n"
     ]
    }
   ],
   "source": [
    "best_model_1 = None\n",
    "best_result_1 = 0\n",
    "best_f1 = 0\n",
    "\n",
    "for depth in range(1,10):\n",
    "    for leaf in range(1,10):\n",
    "        model_1 = DecisionTreeClassifier(random_state=12345, max_depth=depth, min_samples_leaf=leaf, class_weight='balanced')\n",
    "        model_1.fit(features_upsampled, target_upsampled)\n",
    "        train_predictions = model_1.predict(features_valid)\n",
    "        result_1 = model_1.score(features_valid, target_valid) \n",
    "        result_f1 = f1_score(target_valid, train_predictions)\n",
    "        if result_f1 > best_f1:\n",
    "            best_model_1 = model_1\n",
    "            best_result_1 = result_1\n",
    "            best_f1 = result_f1\n",
    "            max_depth = depth\n",
    "            min_sample_leaf = leaf\n",
    "print('Максимальная глубина дерева:', max_depth)\n",
    "print('Минимальное количество обьектов в листе:', min_sample_leaf)\n",
    "print(\"Accuracy наилучшей модели на валидационной выборке:\", best_result_1)\n",
    "print('F1 этой модели:', round(best_f1, 4))"
   ]
  },
  {
   "cell_type": "code",
   "execution_count": 43,
   "metadata": {},
   "outputs": [
    {
     "name": "stdout",
     "output_type": "stream",
     "text": [
      "est: 80\n",
      "depth: 14\n",
      "Accuracy наилучшей модели на валидационной выборке: 0.8395\n",
      "F1 этой модели: 0.6087\n"
     ]
    }
   ],
   "source": [
    "best_model_2 = None\n",
    "best_result_2 = 0\n",
    "best_f2 = 0\n",
    "for est in range(10,151,10):\n",
    "    for depth in range(1, 16):\n",
    "        model_2 = RandomForestClassifier(random_state=12345, n_estimators=est, max_depth=depth, class_weight='balanced')\n",
    "        model_2.fit(features_upsampled, target_upsampled)\n",
    "        train_predictions_2 = model_2.predict(features_valid)\n",
    "        result_2 = model_2.score(features_valid, target_valid)\n",
    "        result_f2 = f1_score(target_valid, train_predictions_2)\n",
    "        if result_2 > best_result_2:\n",
    "            best_model_2 = model_2\n",
    "            best_result_2 = result_2\n",
    "            best_f2 = result_f2\n",
    "            n_estimators = est\n",
    "            max_depth = depth\n",
    "print('est:', n_estimators)\n",
    "print('depth:', max_depth)\n",
    "print('Accuracy наилучшей модели на валидационной выборке:', result_2)\n",
    "print('F1 этой модели:', round(best_f2, 4))"
   ]
  },
  {
   "cell_type": "code",
   "execution_count": 44,
   "metadata": {},
   "outputs": [
    {
     "name": "stdout",
     "output_type": "stream",
     "text": [
      "Accuracy\n",
      "Обучающая выборка: 0.7025\n",
      "F1 этой модели: 0.4866\n"
     ]
    }
   ],
   "source": [
    "model_3 = LogisticRegression(random_state=12345, solver='lbfgs', max_iter=1000, class_weight='balanced')\n",
    "model_3.fit(features_upsampled, target_upsampled)\n",
    "train_predictions_3 = model_3.predict(features_valid)\n",
    "result_3 = model_3.score(features_valid, target_valid)\n",
    "\n",
    "print('Accuracy')\n",
    "print('Обучающая выборка:', result_3)\n",
    "print('F1 этой модели:', round(f1_score(target_valid, train_predictions_3), 4))"
   ]
  },
  {
   "cell_type": "markdown",
   "metadata": {},
   "source": [
    "> Увеличение выборки не дало существенного  изменения значения F1. Так для модели случайного леса с гиперпараметрами est: 80\n",
    "depth: 14 и est: 80 получил следующие значения:\n",
    "Accuracy наилучшей модели на валидационной выборке: 0.8395\n",
    "F1 этой модели: 0.6087\n",
    "А для модели Решающего дерева с гиперпараметрами: Максимальная глубина дерева: 5\n",
    "Минимальное количество обьектов в листе: 2\n",
    "Accuracy наилучшей модели на валидационной выборке: 0.7975\n",
    "F1 этой модели: 0.5812\n",
    "Модель логистической регрессии и здесь показала наименьшее значение точности и F1 <div/>\n",
    "Посмотрим как влюяет уменьшение обьема выборки на получаемые данные"
   ]
  },
  {
   "cell_type": "code",
   "execution_count": 45,
   "metadata": {},
   "outputs": [],
   "source": [
    "features_downsampled = pd.concat([features_zeros.sample(frac=0.25, random_state=12345)] + [features_ones])\n",
    "target_downsampled = pd.concat([target_zeros.sample(frac=0.25, random_state=12345)] + [target_ones])  \n",
    "features_downsampled, target_downsampled = shuffle(features_downsampled, target_downsampled, random_state=12345)"
   ]
  },
  {
   "cell_type": "code",
   "execution_count": 46,
   "metadata": {},
   "outputs": [
    {
     "name": "stdout",
     "output_type": "stream",
     "text": [
      "Максимальная глубина дерева: 5\n",
      "Минимальное количество обьектов в листе: 8\n",
      "Accuracy наилучшей модели на валидационной выборке: 0.8135\n",
      "F1 этой модели: 0.6119\n"
     ]
    }
   ],
   "source": [
    "best_model_1 = None\n",
    "best_result_1 = 0\n",
    "best_f1 = 0\n",
    "\n",
    "for depth in range(1,10):\n",
    "    for leaf in range(1,10):\n",
    "        model_1 = DecisionTreeClassifier(random_state=12345, max_depth=depth, min_samples_leaf=leaf, class_weight='balanced')\n",
    "        model_1.fit(features_downsampled, target_downsampled)\n",
    "        train_predictions = model_1.predict(features_valid)\n",
    "        result_1 = model_1.score(features_valid, target_valid)\n",
    "        result_f1 = f1_score(target_valid, train_predictions)\n",
    "        if result_f1 > best_f1:\n",
    "            best_model_1 = model_1\n",
    "            best_result_1 = result_1\n",
    "            best_f1 = result_f1\n",
    "            max_depth = depth\n",
    "            min_sample_leaf = leaf\n",
    "print('Максимальная глубина дерева:', max_depth)\n",
    "print('Минимальное количество обьектов в листе:', min_sample_leaf)\n",
    "print(\"Accuracy наилучшей модели на валидационной выборке:\", best_result_1)\n",
    "print('F1 этой модели:', round(best_f1, 4))\n"
   ]
  },
  {
   "cell_type": "code",
   "execution_count": 47,
   "metadata": {},
   "outputs": [
    {
     "name": "stdout",
     "output_type": "stream",
     "text": [
      "est: 140\n",
      "depth: 8\n",
      "Accuracy наилучшей модели на валидационной выборке: 0.7735\n",
      "F1 этой модели: 0.5957\n"
     ]
    }
   ],
   "source": [
    "best_model_2 = None\n",
    "best_result_2 = 0\n",
    "best_f2 = 0\n",
    "for est in range(10,151,10):\n",
    "    for depth in range(1, 16):\n",
    "        model_2 = RandomForestClassifier(random_state=12345, n_estimators=est, max_depth=depth, class_weight='balanced')\n",
    "        model_2.fit(features_downsampled, target_downsampled)\n",
    "        train_predictions_2 = model_2.predict(features_valid)\n",
    "        result_2 = model_2.score(features_valid, target_valid)\n",
    "        result_f2 = f1_score(target_valid, train_predictions_2)\n",
    "        if result_2 > best_result_2:\n",
    "            best_model_2 = model_2\n",
    "            best_result_2 = result_2\n",
    "            best_f2 = result_f2\n",
    "            n_estimators = est\n",
    "            max_depth = depth\n",
    "print('est:', n_estimators)\n",
    "print('depth:', max_depth)\n",
    "print('Accuracy наилучшей модели на валидационной выборке:', result_2)\n",
    "print('F1 этой модели:', round(best_f2, 4))"
   ]
  },
  {
   "cell_type": "code",
   "execution_count": 48,
   "metadata": {},
   "outputs": [
    {
     "name": "stdout",
     "output_type": "stream",
     "text": [
      "Accuracy\n",
      "Обучающая выборка: 0.7\n",
      "F1 этой модели: 0.4872\n"
     ]
    }
   ],
   "source": [
    "model_3 = LogisticRegression(random_state=12345, solver='lbfgs', max_iter=1000, class_weight='balanced')\n",
    "model_3.fit(features_downsampled, target_downsampled)\n",
    "train_predictions_3 = model_3.predict(features_valid)\n",
    "result_3 = model_3.score(features_valid, target_valid)\n",
    "\n",
    "print('Accuracy')\n",
    "print('Обучающая выборка:', result_3)\n",
    "print('F1 этой модели:', round(f1_score(target_valid, train_predictions_3), 4))"
   ]
  },
  {
   "cell_type": "markdown",
   "metadata": {},
   "source": [
    "> Таким образом, масимальное значение F1 было получено в модели решающего дерева с учетом дисбаланса при уменьшении выборки и составило 0.6119. При это гиперпараметры следующие: максимальная глубина = 5 и минимальное количество обьектов в листе = 8. Модель случайного леса  показала максимум значения F1 с гиперпараметрами est:60 и глубиной =8  с учетом дисбаланса классов. При этом F1 =0.6214. "
   ]
  },
  {
   "cell_type": "markdown",
   "metadata": {},
   "source": [
    "## Тестирование модели"
   ]
  },
  {
   "cell_type": "code",
   "execution_count": 52,
   "metadata": {},
   "outputs": [
    {
     "name": "stdout",
     "output_type": "stream",
     "text": [
      "est: 140\n",
      "depth: 8\n",
      "Accuracy наилучшей модели на тестовой выборке: 0.8285\n",
      "F1 этой модели: 0.626\n"
     ]
    }
   ],
   "source": [
    "model_2 = RandomForestClassifier(random_state=12345, n_estimators=60, max_depth=8, class_weight='balanced')\n",
    "model_2.fit(features_train, target_train)\n",
    "test_predictions_2 = model_2.predict(features_test)\n",
    "result_2 = model_2.score(features_test, target_test)\n",
    "result_f2 = f1_score(target_test, test_predictions_2)\n",
    "\n",
    "print('est:', n_estimators)\n",
    "print('depth:', max_depth)\n",
    "print('Accuracy наилучшей модели на тестовой выборке:', result_2)\n",
    "print('F1 этой модели:', round(result_f2, 4))"
   ]
  },
  {
   "cell_type": "markdown",
   "metadata": {},
   "source": [
    "> Проведя проверку на тестовой выборке c помощью модели случайного леса, учитывая дисбаланс и гиперпараметрами est=140 и глубина=8, получил следующие значения точности: 0.8285 и F1: 0.626. Как и выше, пытаясь улучшить модель, я увидел, что увеличение выборки и уменьшение, не дает существенного роста значения F1."
   ]
  },
  {
   "cell_type": "markdown",
   "metadata": {},
   "source": [
    "> Проведя увеличение выборки получил увеличение значения f1 до 0.6207 на рабоче модели. Что есть отличный результат работы"
   ]
  },
  {
   "cell_type": "code",
   "execution_count": 52,
   "metadata": {},
   "outputs": [
    {
     "data": {
      "image/png": "[encoded data removed]",
      "text/plain": [
       "<Figure size 432x288 with 1 Axes>"
      ]
     },
     "metadata": {
      "needs_background": "light"
     },
     "output_type": "display_data"
    },
    {
     "data": {
      "image/png": "[encoded data removed]",
      "text/plain": [
       "<Figure size 432x288 with 1 Axes>"
      ]
     },
     "metadata": {
      "needs_background": "light"
     },
     "output_type": "display_data"
    }
   ],
   "source": [
    "probabilities_valid = model_1.predict_proba(features_valid)\n",
    "probabilities_one_valid = probabilities_valid[:, 1]\n",
    "\n",
    "fpr, tpr, thresholds = roc_curve(target_valid, probabilities_one_valid)\n",
    "\n",
    "plt.plot([0, 1], [0, 1], linestyle='--')\n",
    "\n",
    "plt.figure()\n",
    "\n",
    "plt.plot(fpr, tpr)\n",
    "\n",
    "plt.ylim([0.0, 1.0])\n",
    "plt.xlim([0.0, 1.0])\n",
    "\n",
    "plt.xlabel('False Positive Rate')\n",
    "plt.ylabel('True Positive Rate')\n",
    "\n",
    "plt.title('ROC-кривая')\n",
    "\n",
    "plt.show()\n",
    "\n"
   ]
  },
  {
   "cell_type": "code",
   "execution_count": 53,
   "metadata": {},
   "outputs": [
    {
     "name": "stdout",
     "output_type": "stream",
     "text": [
      "Площадь под кривой ROC: 0.811\n"
     ]
    }
   ],
   "source": [
    "auc_roc = roc_auc_score(target_valid, probabilities_one_valid)\n",
    "print('Площадь под кривой ROC:', round(auc_roc, 4))"
   ]
  },
  {
   "cell_type": "markdown",
   "metadata": {},
   "source": [
    "> Вывод: <div/> Проделав большую работу, приведя данные в надлежащий вид, поработав с пропусками, прямым кодированием значений столбцов \"Пол\" и \"Страна\", пробуя различные модели пришел к выводу, что наибольшей эффективность как на валидационной выборке, так и на тестовой обладает модель решающего дерева с ниперпараметрами: глубина 7, количество листьев 3, учитывая дисбаланс! Увеличение и уменьшение выборки не дало существенного роста значений точности и F1. В то время как учет дисбаланса классов показал рост с 0.51 до 0.56. Применив метод на тестовой выборке также получили высокие показатели точности: 0.782 и F1: 0.5683. Также проведено исследование метрики AUC ROC и получено значение площади под кривой: 0.8101 что также является высоким показателем!"
   ]
  }
 ],
 "metadata": {
  "ExecuteTimeLog": [
   {
    "duration": 7,
    "start_time": "2023-10-13T12:53:26.766Z"
   },
   {
    "duration": 7,
    "start_time": "2023-10-13T12:53:27.334Z"
   },
   {
    "duration": 430,
    "start_time": "2023-10-13T12:53:50.076Z"
   },
   {
    "duration": 185,
    "start_time": "2023-10-13T12:53:55.689Z"
   },
   {
    "duration": 63,
    "start_time": "2023-10-13T12:59:55.126Z"
   },
   {
    "duration": 15,
    "start_time": "2023-10-13T13:00:10.830Z"
   },
   {
    "duration": 1765,
    "start_time": "2023-10-13T13:05:44.516Z"
   },
   {
    "duration": 1134,
    "start_time": "2023-10-13T13:05:53.684Z"
   },
   {
    "duration": 12,
    "start_time": "2023-10-13T13:07:28.424Z"
   },
   {
    "duration": 9,
    "start_time": "2023-10-13T13:07:41.474Z"
   },
   {
    "duration": 5,
    "start_time": "2023-10-13T13:26:35.027Z"
   },
   {
    "duration": 15,
    "start_time": "2023-10-13T13:26:49.940Z"
   },
   {
    "duration": 1431,
    "start_time": "2023-10-13T13:34:58.919Z"
   },
   {
    "duration": 0,
    "start_time": "2023-10-13T13:35:00.352Z"
   },
   {
    "duration": 6,
    "start_time": "2023-10-13T13:35:21.899Z"
   },
   {
    "duration": 15,
    "start_time": "2023-10-13T13:35:23.407Z"
   },
   {
    "duration": 47,
    "start_time": "2023-10-14T03:13:36.434Z"
   },
   {
    "duration": 1137,
    "start_time": "2023-10-14T03:13:43.633Z"
   },
   {
    "duration": 113,
    "start_time": "2023-10-14T03:13:44.773Z"
   },
   {
    "duration": 19,
    "start_time": "2023-10-14T03:13:44.888Z"
   },
   {
    "duration": 7,
    "start_time": "2023-10-14T03:13:45.067Z"
   },
   {
    "duration": 12,
    "start_time": "2023-10-14T03:13:45.518Z"
   },
   {
    "duration": 1427,
    "start_time": "2023-10-14T03:13:46.185Z"
   },
   {
    "duration": 13,
    "start_time": "2023-10-14T03:13:47.614Z"
   },
   {
    "duration": 6,
    "start_time": "2023-10-14T03:13:47.898Z"
   },
   {
    "duration": 70,
    "start_time": "2023-10-14T03:13:49.933Z"
   },
   {
    "duration": 13,
    "start_time": "2023-10-14T03:14:04.600Z"
   },
   {
    "duration": 5,
    "start_time": "2023-10-14T03:15:06.118Z"
   },
   {
    "duration": 13,
    "start_time": "2023-10-14T03:18:17.715Z"
   },
   {
    "duration": 8,
    "start_time": "2023-10-14T03:18:24.383Z"
   },
   {
    "duration": 14,
    "start_time": "2023-10-14T03:18:41.434Z"
   },
   {
    "duration": 9,
    "start_time": "2023-10-14T03:26:24.881Z"
   },
   {
    "duration": 8,
    "start_time": "2023-10-14T03:26:32.697Z"
   },
   {
    "duration": 5,
    "start_time": "2023-10-14T03:26:34.026Z"
   },
   {
    "duration": 14,
    "start_time": "2023-10-14T03:26:34.461Z"
   },
   {
    "duration": 15,
    "start_time": "2023-10-14T03:26:52.501Z"
   },
   {
    "duration": 5,
    "start_time": "2023-10-14T03:27:10.784Z"
   },
   {
    "duration": 13,
    "start_time": "2023-10-14T03:27:17.266Z"
   },
   {
    "duration": 4,
    "start_time": "2023-10-14T03:28:07.577Z"
   },
   {
    "duration": 13,
    "start_time": "2023-10-14T03:28:24.528Z"
   },
   {
    "duration": 4,
    "start_time": "2023-10-14T03:28:26.891Z"
   },
   {
    "duration": 9,
    "start_time": "2023-10-14T03:28:27.432Z"
   },
   {
    "duration": 6,
    "start_time": "2023-10-14T03:28:31.465Z"
   },
   {
    "duration": 13,
    "start_time": "2023-10-14T03:28:44.356Z"
   },
   {
    "duration": 5,
    "start_time": "2023-10-14T03:29:24.244Z"
   },
   {
    "duration": 6,
    "start_time": "2023-10-14T03:29:40.518Z"
   },
   {
    "duration": 13,
    "start_time": "2023-10-14T03:29:52.223Z"
   },
   {
    "duration": 47,
    "start_time": "2023-10-14T03:34:32.612Z"
   },
   {
    "duration": 32,
    "start_time": "2023-10-14T03:35:23.753Z"
   },
   {
    "duration": 3,
    "start_time": "2023-10-14T03:35:42.065Z"
   },
   {
    "duration": 134,
    "start_time": "2023-10-14T03:35:42.485Z"
   },
   {
    "duration": 12,
    "start_time": "2023-10-14T03:35:42.920Z"
   },
   {
    "duration": 6,
    "start_time": "2023-10-14T03:35:43.513Z"
   },
   {
    "duration": 20,
    "start_time": "2023-10-14T03:35:44.057Z"
   },
   {
    "duration": 815,
    "start_time": "2023-10-14T03:35:44.693Z"
   },
   {
    "duration": 12,
    "start_time": "2023-10-14T03:35:45.510Z"
   },
   {
    "duration": 6,
    "start_time": "2023-10-14T03:35:45.866Z"
   },
   {
    "duration": 8,
    "start_time": "2023-10-14T03:35:46.961Z"
   },
   {
    "duration": 8,
    "start_time": "2023-10-14T03:35:48.578Z"
   },
   {
    "duration": 4,
    "start_time": "2023-10-14T03:35:49.909Z"
   },
   {
    "duration": 6,
    "start_time": "2023-10-14T03:35:50.545Z"
   },
   {
    "duration": 22,
    "start_time": "2023-10-14T03:35:51.337Z"
   },
   {
    "duration": 4,
    "start_time": "2023-10-14T03:35:52.018Z"
   },
   {
    "duration": 5,
    "start_time": "2023-10-14T03:35:52.856Z"
   },
   {
    "duration": 14,
    "start_time": "2023-10-14T03:35:53.505Z"
   },
   {
    "duration": 4,
    "start_time": "2023-10-14T03:35:54.165Z"
   },
   {
    "duration": 5,
    "start_time": "2023-10-14T03:35:54.869Z"
   },
   {
    "duration": 15,
    "start_time": "2023-10-14T03:35:55.484Z"
   },
   {
    "duration": 14,
    "start_time": "2023-10-14T03:35:56.153Z"
   },
   {
    "duration": 21,
    "start_time": "2023-10-14T03:35:57.001Z"
   },
   {
    "duration": 1248,
    "start_time": "2023-10-16T08:24:33.864Z"
   },
   {
    "duration": 108,
    "start_time": "2023-10-16T08:24:35.114Z"
   },
   {
    "duration": 19,
    "start_time": "2023-10-16T08:24:35.243Z"
   },
   {
    "duration": 7,
    "start_time": "2023-10-16T08:24:36.735Z"
   },
   {
    "duration": 12,
    "start_time": "2023-10-16T08:24:37.388Z"
   },
   {
    "duration": 1356,
    "start_time": "2023-10-16T08:24:38.119Z"
   },
   {
    "duration": 13,
    "start_time": "2023-10-16T08:24:39.477Z"
   },
   {
    "duration": 7,
    "start_time": "2023-10-16T08:24:40.494Z"
   },
   {
    "duration": 8,
    "start_time": "2023-10-16T08:24:41.175Z"
   },
   {
    "duration": 7,
    "start_time": "2023-10-16T08:24:42.632Z"
   },
   {
    "duration": 5,
    "start_time": "2023-10-16T08:24:45.440Z"
   },
   {
    "duration": 5,
    "start_time": "2023-10-16T08:24:46.747Z"
   },
   {
    "duration": 16,
    "start_time": "2023-10-16T08:24:48.130Z"
   },
   {
    "duration": 4,
    "start_time": "2023-10-16T08:24:50.997Z"
   },
   {
    "duration": 5,
    "start_time": "2023-10-16T08:24:51.823Z"
   },
   {
    "duration": 13,
    "start_time": "2023-10-16T08:24:53.214Z"
   },
   {
    "duration": 4,
    "start_time": "2023-10-16T08:24:56.702Z"
   },
   {
    "duration": 5,
    "start_time": "2023-10-16T08:24:57.374Z"
   },
   {
    "duration": 94,
    "start_time": "2023-10-16T08:24:58.275Z"
   },
   {
    "duration": 14,
    "start_time": "2023-10-16T08:25:00.188Z"
   },
   {
    "duration": 131,
    "start_time": "2023-10-16T08:25:01.335Z"
   },
   {
    "duration": 5,
    "start_time": "2023-10-16T08:29:01.968Z"
   },
   {
    "duration": 5,
    "start_time": "2023-10-16T08:29:05.087Z"
   },
   {
    "duration": 13,
    "start_time": "2023-10-16T08:29:05.855Z"
   },
   {
    "duration": 4,
    "start_time": "2023-10-16T08:29:40.966Z"
   },
   {
    "duration": 5,
    "start_time": "2023-10-16T08:29:41.889Z"
   },
   {
    "duration": 13,
    "start_time": "2023-10-16T08:29:43.746Z"
   },
   {
    "duration": 5,
    "start_time": "2023-10-16T08:29:50.326Z"
   },
   {
    "duration": 6,
    "start_time": "2023-10-16T08:29:50.970Z"
   },
   {
    "duration": 13,
    "start_time": "2023-10-16T08:29:51.506Z"
   },
   {
    "duration": 15,
    "start_time": "2023-10-16T08:30:01.316Z"
   },
   {
    "duration": 21,
    "start_time": "2023-10-16T08:30:06.012Z"
   },
   {
    "duration": 15,
    "start_time": "2023-10-16T08:45:33.911Z"
   },
   {
    "duration": 3,
    "start_time": "2023-10-16T08:46:12.963Z"
   },
   {
    "duration": 14,
    "start_time": "2023-10-16T08:46:13.495Z"
   },
   {
    "duration": 15,
    "start_time": "2023-10-16T08:46:16.188Z"
   },
   {
    "duration": 860,
    "start_time": "2023-10-16T08:46:16.924Z"
   },
   {
    "duration": 3,
    "start_time": "2023-10-16T08:46:23.118Z"
   },
   {
    "duration": 52,
    "start_time": "2023-10-16T08:46:23.503Z"
   },
   {
    "duration": 13,
    "start_time": "2023-10-16T08:46:23.874Z"
   },
   {
    "duration": 3,
    "start_time": "2023-10-16T08:46:24.304Z"
   },
   {
    "duration": 12,
    "start_time": "2023-10-16T08:46:24.823Z"
   },
   {
    "duration": 14,
    "start_time": "2023-10-16T08:46:25.577Z"
   },
   {
    "duration": 16,
    "start_time": "2023-10-16T08:47:00.784Z"
   },
   {
    "duration": 9,
    "start_time": "2023-10-16T08:48:53.651Z"
   },
   {
    "duration": 13,
    "start_time": "2023-10-16T08:48:55.486Z"
   },
   {
    "duration": 3,
    "start_time": "2023-10-16T08:49:44.703Z"
   },
   {
    "duration": 52,
    "start_time": "2023-10-16T08:49:45.129Z"
   },
   {
    "duration": 13,
    "start_time": "2023-10-16T08:49:45.555Z"
   },
   {
    "duration": 3,
    "start_time": "2023-10-16T08:49:46.245Z"
   },
   {
    "duration": 10,
    "start_time": "2023-10-16T08:49:46.854Z"
   },
   {
    "duration": 15,
    "start_time": "2023-10-16T08:49:47.394Z"
   },
   {
    "duration": 1175,
    "start_time": "2023-10-16T08:50:01.203Z"
   },
   {
    "duration": 12,
    "start_time": "2023-10-16T08:50:03.431Z"
   },
   {
    "duration": 10,
    "start_time": "2023-10-16T08:50:06.048Z"
   },
   {
    "duration": 8,
    "start_time": "2023-10-16T08:50:07.423Z"
   },
   {
    "duration": 9,
    "start_time": "2023-10-16T08:50:09.355Z"
   },
   {
    "duration": 5,
    "start_time": "2023-10-16T08:50:10.514Z"
   },
   {
    "duration": 8,
    "start_time": "2023-10-16T08:50:47.828Z"
   },
   {
    "duration": 10,
    "start_time": "2023-10-16T08:56:16.522Z"
   },
   {
    "duration": 7,
    "start_time": "2023-10-16T08:56:17.356Z"
   },
   {
    "duration": 3,
    "start_time": "2023-10-16T08:56:23.579Z"
   },
   {
    "duration": 51,
    "start_time": "2023-10-16T08:56:24.003Z"
   },
   {
    "duration": 13,
    "start_time": "2023-10-16T08:56:24.443Z"
   },
   {
    "duration": 2,
    "start_time": "2023-10-16T08:56:25.011Z"
   },
   {
    "duration": 108,
    "start_time": "2023-10-16T08:56:25.543Z"
   },
   {
    "duration": 6,
    "start_time": "2023-10-16T08:56:26.502Z"
   },
   {
    "duration": 5,
    "start_time": "2023-10-16T08:56:44.072Z"
   },
   {
    "duration": 7,
    "start_time": "2023-10-16T08:56:44.600Z"
   },
   {
    "duration": 216,
    "start_time": "2023-10-16T08:57:02.635Z"
   },
   {
    "duration": 19,
    "start_time": "2023-10-16T08:57:03.335Z"
   },
   {
    "duration": 1177,
    "start_time": "2023-10-16T17:39:41.308Z"
   },
   {
    "duration": 204,
    "start_time": "2023-10-16T17:39:42.487Z"
   },
   {
    "duration": 16,
    "start_time": "2023-10-16T17:39:42.693Z"
   },
   {
    "duration": 3,
    "start_time": "2023-10-16T17:39:45.983Z"
   },
   {
    "duration": 213,
    "start_time": "2023-10-16T17:39:50.465Z"
   },
   {
    "duration": 19,
    "start_time": "2023-10-16T17:39:51.064Z"
   },
   {
    "duration": 1570,
    "start_time": "2023-10-16T17:40:40.229Z"
   },
   {
    "duration": 1301,
    "start_time": "2023-10-16T17:40:58.293Z"
   },
   {
    "duration": 88,
    "start_time": "2023-10-16T17:41:39.375Z"
   },
   {
    "duration": 10,
    "start_time": "2023-10-16T17:41:44.313Z"
   },
   {
    "duration": 7,
    "start_time": "2023-10-16T17:41:46.858Z"
   },
   {
    "duration": 9,
    "start_time": "2023-10-16T17:42:17.333Z"
   },
   {
    "duration": 8,
    "start_time": "2023-10-16T17:42:18.186Z"
   },
   {
    "duration": 11,
    "start_time": "2023-10-16T17:42:43.393Z"
   },
   {
    "duration": 7,
    "start_time": "2023-10-16T17:42:44.265Z"
   },
   {
    "duration": 9,
    "start_time": "2023-10-16T17:44:50.162Z"
   },
   {
    "duration": 7,
    "start_time": "2023-10-16T17:44:50.788Z"
   },
   {
    "duration": 18,
    "start_time": "2023-10-16T17:45:22.471Z"
   },
   {
    "duration": 7,
    "start_time": "2023-10-16T17:45:22.962Z"
   },
   {
    "duration": 8,
    "start_time": "2023-10-16T17:45:49.322Z"
   },
   {
    "duration": 8,
    "start_time": "2023-10-16T17:45:50.855Z"
   },
   {
    "duration": 5,
    "start_time": "2023-10-16T17:46:22.876Z"
   },
   {
    "duration": 7,
    "start_time": "2023-10-16T17:46:23.818Z"
   },
   {
    "duration": 5,
    "start_time": "2023-10-16T17:46:33.730Z"
   },
   {
    "duration": 8,
    "start_time": "2023-10-16T17:46:34.462Z"
   },
   {
    "duration": 3,
    "start_time": "2023-10-16T17:46:40.922Z"
   },
   {
    "duration": 54,
    "start_time": "2023-10-16T17:46:41.244Z"
   },
   {
    "duration": 13,
    "start_time": "2023-10-16T17:46:41.590Z"
   },
   {
    "duration": 3,
    "start_time": "2023-10-16T17:46:42.010Z"
   },
   {
    "duration": 5,
    "start_time": "2023-10-16T17:46:42.578Z"
   },
   {
    "duration": 7,
    "start_time": "2023-10-16T17:46:43.060Z"
   },
   {
    "duration": 214,
    "start_time": "2023-10-16T17:46:53.632Z"
   },
   {
    "duration": 21,
    "start_time": "2023-10-16T17:46:54.284Z"
   },
   {
    "duration": 12,
    "start_time": "2023-10-16T17:57:58.236Z"
   },
   {
    "duration": 9,
    "start_time": "2023-10-16T17:58:38.208Z"
   },
   {
    "duration": 9,
    "start_time": "2023-10-16T17:58:50.246Z"
   },
   {
    "duration": 105,
    "start_time": "2023-10-16T17:59:19.402Z"
   },
   {
    "duration": 15,
    "start_time": "2023-10-16T17:59:24.691Z"
   },
   {
    "duration": 1330,
    "start_time": "2023-10-16T17:59:44.229Z"
   },
   {
    "duration": 9,
    "start_time": "2023-10-16T17:59:45.710Z"
   },
   {
    "duration": 1247,
    "start_time": "2023-10-16T18:00:10.923Z"
   },
   {
    "duration": 1308,
    "start_time": "2023-10-16T18:01:45.988Z"
   },
   {
    "duration": 69,
    "start_time": "2023-10-16T18:01:47.298Z"
   },
   {
    "duration": 17,
    "start_time": "2023-10-16T18:01:47.370Z"
   },
   {
    "duration": 20,
    "start_time": "2023-10-16T18:01:47.389Z"
   },
   {
    "duration": 26,
    "start_time": "2023-10-16T18:01:47.412Z"
   },
   {
    "duration": 2095,
    "start_time": "2023-10-16T18:01:47.440Z"
   },
   {
    "duration": 23,
    "start_time": "2023-10-16T18:01:49.537Z"
   },
   {
    "duration": 29,
    "start_time": "2023-10-16T18:01:49.562Z"
   },
   {
    "duration": 38,
    "start_time": "2023-10-16T18:01:49.593Z"
   },
   {
    "duration": 58,
    "start_time": "2023-10-16T18:01:49.633Z"
   },
   {
    "duration": 29,
    "start_time": "2023-10-16T18:01:49.694Z"
   },
   {
    "duration": 19,
    "start_time": "2023-10-16T18:01:49.724Z"
   },
   {
    "duration": 54,
    "start_time": "2023-10-16T18:01:49.745Z"
   },
   {
    "duration": 26,
    "start_time": "2023-10-16T18:01:49.801Z"
   },
   {
    "duration": 58,
    "start_time": "2023-10-16T18:01:49.829Z"
   },
   {
    "duration": 30,
    "start_time": "2023-10-16T18:01:49.889Z"
   },
   {
    "duration": 27,
    "start_time": "2023-10-16T18:01:49.921Z"
   },
   {
    "duration": 46,
    "start_time": "2023-10-16T18:01:49.950Z"
   },
   {
    "duration": 48,
    "start_time": "2023-10-16T18:01:49.997Z"
   },
   {
    "duration": 257,
    "start_time": "2023-10-16T18:01:50.047Z"
   },
   {
    "duration": 53,
    "start_time": "2023-10-16T18:01:50.306Z"
   },
   {
    "duration": 26,
    "start_time": "2023-10-16T18:01:50.362Z"
   },
   {
    "duration": 153,
    "start_time": "2023-10-16T18:01:50.390Z"
   },
   {
    "duration": 0,
    "start_time": "2023-10-16T18:01:50.544Z"
   },
   {
    "duration": 13,
    "start_time": "2023-10-16T18:02:24.338Z"
   },
   {
    "duration": 11,
    "start_time": "2023-10-16T18:02:25.193Z"
   },
   {
    "duration": 12,
    "start_time": "2023-10-16T18:02:52.803Z"
   },
   {
    "duration": 40,
    "start_time": "2023-10-16T18:03:41.262Z"
   },
   {
    "duration": 5,
    "start_time": "2023-10-16T18:04:49.359Z"
   },
   {
    "duration": 6,
    "start_time": "2023-10-16T18:04:50.826Z"
   },
   {
    "duration": 12,
    "start_time": "2023-10-16T18:04:54.043Z"
   },
   {
    "duration": 3,
    "start_time": "2023-10-16T18:05:12.791Z"
   },
   {
    "duration": 58,
    "start_time": "2023-10-16T18:05:13.298Z"
   },
   {
    "duration": 17,
    "start_time": "2023-10-16T18:05:14.991Z"
   },
   {
    "duration": 3,
    "start_time": "2023-10-16T18:05:15.663Z"
   },
   {
    "duration": 16,
    "start_time": "2023-10-16T18:05:16.864Z"
   },
   {
    "duration": 1325,
    "start_time": "2023-10-16T18:05:17.562Z"
   },
   {
    "duration": 16,
    "start_time": "2023-10-16T18:05:18.890Z"
   },
   {
    "duration": 7,
    "start_time": "2023-10-16T18:05:25.637Z"
   },
   {
    "duration": 9,
    "start_time": "2023-10-16T18:05:26.443Z"
   },
   {
    "duration": 10,
    "start_time": "2023-10-16T18:05:28.623Z"
   },
   {
    "duration": 16,
    "start_time": "2023-10-16T18:05:29.754Z"
   },
   {
    "duration": 45,
    "start_time": "2023-10-16T18:05:33.442Z"
   },
   {
    "duration": 8,
    "start_time": "2023-10-16T18:05:39.905Z"
   },
   {
    "duration": 6,
    "start_time": "2023-10-16T18:05:41.462Z"
   },
   {
    "duration": 5,
    "start_time": "2023-10-16T18:05:42.186Z"
   },
   {
    "duration": 12,
    "start_time": "2023-10-16T18:05:43.083Z"
   },
   {
    "duration": 15,
    "start_time": "2023-10-16T18:06:30.406Z"
   },
   {
    "duration": 12,
    "start_time": "2023-10-16T18:06:44.796Z"
   },
   {
    "duration": 11,
    "start_time": "2023-10-16T18:06:46.743Z"
   },
   {
    "duration": 18,
    "start_time": "2023-10-16T18:06:47.474Z"
   },
   {
    "duration": 20,
    "start_time": "2023-10-16T18:07:05.766Z"
   },
   {
    "duration": 17,
    "start_time": "2023-10-16T18:07:28.073Z"
   },
   {
    "duration": 5,
    "start_time": "2023-10-16T18:08:32.018Z"
   },
   {
    "duration": 6,
    "start_time": "2023-10-16T18:09:01.976Z"
   },
   {
    "duration": 4,
    "start_time": "2023-10-16T18:09:11.764Z"
   },
   {
    "duration": 4,
    "start_time": "2023-10-16T18:09:44.592Z"
   },
   {
    "duration": 5,
    "start_time": "2023-10-16T18:10:27.361Z"
   },
   {
    "duration": 5,
    "start_time": "2023-10-16T18:10:30.261Z"
   },
   {
    "duration": 8,
    "start_time": "2023-10-16T18:10:30.811Z"
   },
   {
    "duration": 4,
    "start_time": "2023-10-16T18:10:31.466Z"
   },
   {
    "duration": 6,
    "start_time": "2023-10-16T18:10:38.493Z"
   },
   {
    "duration": 6,
    "start_time": "2023-10-16T18:10:39.118Z"
   },
   {
    "duration": 17,
    "start_time": "2023-10-16T18:10:40.413Z"
   },
   {
    "duration": 7,
    "start_time": "2023-10-16T18:10:49.136Z"
   },
   {
    "duration": 7,
    "start_time": "2023-10-16T18:10:50.174Z"
   },
   {
    "duration": 14,
    "start_time": "2023-10-16T18:10:51.333Z"
   },
   {
    "duration": 8,
    "start_time": "2023-10-16T18:11:11.663Z"
   },
   {
    "duration": 6,
    "start_time": "2023-10-16T18:11:12.328Z"
   },
   {
    "duration": 14,
    "start_time": "2023-10-16T18:11:13.160Z"
   },
   {
    "duration": 6,
    "start_time": "2023-10-16T18:11:22.459Z"
   },
   {
    "duration": 6,
    "start_time": "2023-10-16T18:11:23.142Z"
   },
   {
    "duration": 13,
    "start_time": "2023-10-16T18:11:23.734Z"
   },
   {
    "duration": 16,
    "start_time": "2023-10-16T18:11:24.394Z"
   },
   {
    "duration": 48,
    "start_time": "2023-10-16T18:11:25.830Z"
   },
   {
    "duration": 20,
    "start_time": "2023-10-16T18:11:34.946Z"
   },
   {
    "duration": 56,
    "start_time": "2023-10-16T18:12:48.046Z"
   },
   {
    "duration": 82,
    "start_time": "2023-10-16T18:13:19.881Z"
   },
   {
    "duration": 101,
    "start_time": "2023-10-16T18:13:38.262Z"
   },
   {
    "duration": 113,
    "start_time": "2023-10-16T18:14:53.033Z"
   },
   {
    "duration": 48,
    "start_time": "2023-10-16T18:15:07.420Z"
   },
   {
    "duration": 46,
    "start_time": "2023-10-16T18:15:14.196Z"
   },
   {
    "duration": 52,
    "start_time": "2023-10-16T18:16:57.013Z"
   },
   {
    "duration": 1793,
    "start_time": "2023-10-16T18:18:32.224Z"
   },
   {
    "duration": 1769,
    "start_time": "2023-10-16T18:21:27.261Z"
   },
   {
    "duration": 1697,
    "start_time": "2023-10-16T18:21:54.991Z"
   },
   {
    "duration": 14,
    "start_time": "2023-10-16T18:23:00.511Z"
   },
   {
    "duration": 17,
    "start_time": "2023-10-16T18:23:57.962Z"
   },
   {
    "duration": 67,
    "start_time": "2023-10-16T18:23:59.063Z"
   },
   {
    "duration": 22,
    "start_time": "2023-10-16T18:23:59.316Z"
   },
   {
    "duration": 3,
    "start_time": "2023-10-16T18:23:59.506Z"
   },
   {
    "duration": 16,
    "start_time": "2023-10-16T18:23:59.877Z"
   },
   {
    "duration": 1477,
    "start_time": "2023-10-16T18:24:00.065Z"
   },
   {
    "duration": 26,
    "start_time": "2023-10-16T18:24:01.544Z"
   },
   {
    "duration": 163,
    "start_time": "2023-10-16T18:24:01.573Z"
   },
   {
    "duration": 67,
    "start_time": "2023-10-16T18:24:01.738Z"
   },
   {
    "duration": 69,
    "start_time": "2023-10-16T18:24:01.808Z"
   },
   {
    "duration": 65,
    "start_time": "2023-10-16T18:24:01.880Z"
   },
   {
    "duration": 13,
    "start_time": "2023-10-16T18:24:01.988Z"
   },
   {
    "duration": 11,
    "start_time": "2023-10-16T18:24:02.937Z"
   },
   {
    "duration": 19,
    "start_time": "2023-10-16T18:24:03.742Z"
   },
   {
    "duration": 15,
    "start_time": "2023-10-16T18:24:04.535Z"
   },
   {
    "duration": 15,
    "start_time": "2023-10-16T18:24:05.089Z"
   },
   {
    "duration": 4,
    "start_time": "2023-10-16T18:24:05.535Z"
   },
   {
    "duration": 3,
    "start_time": "2023-10-16T18:24:06.336Z"
   },
   {
    "duration": 4,
    "start_time": "2023-10-16T18:24:07.929Z"
   },
   {
    "duration": 5,
    "start_time": "2023-10-16T18:24:09.383Z"
   },
   {
    "duration": 7,
    "start_time": "2023-10-16T18:24:10.266Z"
   },
   {
    "duration": 13,
    "start_time": "2023-10-16T18:24:10.942Z"
   },
   {
    "duration": 6,
    "start_time": "2023-10-16T18:24:11.610Z"
   },
   {
    "duration": 6,
    "start_time": "2023-10-16T18:24:12.279Z"
   },
   {
    "duration": 12,
    "start_time": "2023-10-16T18:24:12.915Z"
   },
   {
    "duration": 5,
    "start_time": "2023-10-16T18:24:13.423Z"
   },
   {
    "duration": 8,
    "start_time": "2023-10-16T18:24:13.962Z"
   },
   {
    "duration": 16,
    "start_time": "2023-10-16T18:24:14.469Z"
   },
   {
    "duration": 1743,
    "start_time": "2023-10-16T18:24:16.017Z"
   },
   {
    "duration": 509,
    "start_time": "2023-10-16T18:24:17.763Z"
   },
   {
    "duration": 482,
    "start_time": "2023-10-16T18:24:36.987Z"
   },
   {
    "duration": 4,
    "start_time": "2023-10-16T18:26:25.728Z"
   },
   {
    "duration": 62,
    "start_time": "2023-10-16T18:26:26.434Z"
   },
   {
    "duration": 19,
    "start_time": "2023-10-16T18:26:26.979Z"
   },
   {
    "duration": 7,
    "start_time": "2023-10-16T18:26:27.368Z"
   },
   {
    "duration": 15,
    "start_time": "2023-10-16T18:26:28.189Z"
   },
   {
    "duration": 1334,
    "start_time": "2023-10-16T18:26:28.533Z"
   },
   {
    "duration": 18,
    "start_time": "2023-10-16T18:26:29.870Z"
   },
   {
    "duration": 20,
    "start_time": "2023-10-16T18:26:29.890Z"
   },
   {
    "duration": 19,
    "start_time": "2023-10-16T18:26:29.913Z"
   },
   {
    "duration": 15,
    "start_time": "2023-10-16T18:26:30.562Z"
   },
   {
    "duration": 11,
    "start_time": "2023-10-16T18:26:30.927Z"
   },
   {
    "duration": 13,
    "start_time": "2023-10-16T18:26:31.341Z"
   },
   {
    "duration": 138,
    "start_time": "2023-10-16T18:26:31.760Z"
   },
   {
    "duration": 15,
    "start_time": "2023-10-16T18:26:32.120Z"
   },
   {
    "duration": 336,
    "start_time": "2023-10-16T18:26:32.517Z"
   },
   {
    "duration": 18,
    "start_time": "2023-10-16T18:26:32.942Z"
   },
   {
    "duration": 5,
    "start_time": "2023-10-16T18:26:33.267Z"
   },
   {
    "duration": 4,
    "start_time": "2023-10-16T18:26:33.415Z"
   },
   {
    "duration": 4,
    "start_time": "2023-10-16T18:26:33.622Z"
   },
   {
    "duration": 6,
    "start_time": "2023-10-16T18:26:33.800Z"
   },
   {
    "duration": 6,
    "start_time": "2023-10-16T18:26:34.022Z"
   },
   {
    "duration": 14,
    "start_time": "2023-10-16T18:26:34.164Z"
   },
   {
    "duration": 5,
    "start_time": "2023-10-16T18:26:34.395Z"
   },
   {
    "duration": 6,
    "start_time": "2023-10-16T18:26:34.527Z"
   },
   {
    "duration": 16,
    "start_time": "2023-10-16T18:26:34.757Z"
   },
   {
    "duration": 8,
    "start_time": "2023-10-16T18:26:34.954Z"
   },
   {
    "duration": 5,
    "start_time": "2023-10-16T18:26:35.138Z"
   },
   {
    "duration": 150,
    "start_time": "2023-10-16T18:26:35.338Z"
   },
   {
    "duration": 1818,
    "start_time": "2023-10-16T18:26:35.987Z"
   },
   {
    "duration": 538,
    "start_time": "2023-10-16T18:26:37.809Z"
   },
   {
    "duration": 14,
    "start_time": "2023-10-16T18:31:09.704Z"
   },
   {
    "duration": 2773,
    "start_time": "2023-10-16T18:31:39.087Z"
   },
   {
    "duration": 1753,
    "start_time": "2023-10-16T18:32:22.797Z"
   },
   {
    "duration": 513,
    "start_time": "2023-10-16T18:32:35.786Z"
   },
   {
    "duration": 1810,
    "start_time": "2023-10-16T18:33:01.062Z"
   },
   {
    "duration": 36,
    "start_time": "2023-10-16T18:39:45.362Z"
   },
   {
    "duration": 35,
    "start_time": "2023-10-16T18:40:42.407Z"
   },
   {
    "duration": 35,
    "start_time": "2023-10-16T18:41:12.527Z"
   },
   {
    "duration": 38,
    "start_time": "2023-10-16T18:42:01.967Z"
   },
   {
    "duration": 35,
    "start_time": "2023-10-16T18:42:26.218Z"
   },
   {
    "duration": 35,
    "start_time": "2023-10-16T18:42:42.727Z"
   },
   {
    "duration": 40,
    "start_time": "2023-10-16T18:43:04.368Z"
   },
   {
    "duration": 77,
    "start_time": "2023-10-16T18:43:32.287Z"
   },
   {
    "duration": 45,
    "start_time": "2023-10-16T18:43:38.056Z"
   },
   {
    "duration": 35,
    "start_time": "2023-10-16T18:43:52.778Z"
   },
   {
    "duration": 36,
    "start_time": "2023-10-16T18:44:17.378Z"
   },
   {
    "duration": 40,
    "start_time": "2023-10-16T18:44:40.413Z"
   },
   {
    "duration": 908,
    "start_time": "2023-10-16T18:45:06.449Z"
   },
   {
    "duration": 485,
    "start_time": "2023-10-16T18:45:24.547Z"
   },
   {
    "duration": 38,
    "start_time": "2023-10-16T18:45:50.191Z"
   },
   {
    "duration": 38,
    "start_time": "2023-10-16T18:46:06.288Z"
   },
   {
    "duration": 37,
    "start_time": "2023-10-16T18:46:12.003Z"
   },
   {
    "duration": 5,
    "start_time": "2023-10-16T19:17:07.400Z"
   },
   {
    "duration": 6,
    "start_time": "2023-10-16T19:17:08.626Z"
   },
   {
    "duration": 14,
    "start_time": "2023-10-16T19:17:09.534Z"
   },
   {
    "duration": 4,
    "start_time": "2023-10-16T19:17:16.384Z"
   },
   {
    "duration": 6,
    "start_time": "2023-10-16T19:17:17.002Z"
   },
   {
    "duration": 13,
    "start_time": "2023-10-16T19:17:17.644Z"
   },
   {
    "duration": 31,
    "start_time": "2023-10-16T19:18:44.348Z"
   },
   {
    "duration": 5,
    "start_time": "2023-10-16T19:19:00.509Z"
   },
   {
    "duration": 65,
    "start_time": "2023-10-16T19:19:00.972Z"
   },
   {
    "duration": 15,
    "start_time": "2023-10-16T19:19:01.466Z"
   },
   {
    "duration": 8,
    "start_time": "2023-10-16T19:19:02.370Z"
   },
   {
    "duration": 18,
    "start_time": "2023-10-16T19:19:02.805Z"
   },
   {
    "duration": 1550,
    "start_time": "2023-10-16T19:19:03.065Z"
   },
   {
    "duration": 13,
    "start_time": "2023-10-16T19:19:04.618Z"
   },
   {
    "duration": 30,
    "start_time": "2023-10-16T19:19:04.633Z"
   },
   {
    "duration": 180,
    "start_time": "2023-10-16T19:19:04.665Z"
   },
   {
    "duration": 10,
    "start_time": "2023-10-16T19:19:05.184Z"
   },
   {
    "duration": 14,
    "start_time": "2023-10-16T19:19:05.640Z"
   },
   {
    "duration": 23,
    "start_time": "2023-10-16T19:19:06.682Z"
   },
   {
    "duration": 11,
    "start_time": "2023-10-16T19:19:07.601Z"
   },
   {
    "duration": 17,
    "start_time": "2023-10-16T19:19:08.180Z"
   },
   {
    "duration": 16,
    "start_time": "2023-10-16T19:19:08.779Z"
   },
   {
    "duration": 27,
    "start_time": "2023-10-16T19:19:09.638Z"
   },
   {
    "duration": 5,
    "start_time": "2023-10-16T19:19:10.266Z"
   },
   {
    "duration": 4,
    "start_time": "2023-10-16T19:19:10.724Z"
   },
   {
    "duration": 4,
    "start_time": "2023-10-16T19:19:11.214Z"
   },
   {
    "duration": 7,
    "start_time": "2023-10-16T19:19:12.258Z"
   },
   {
    "duration": 5,
    "start_time": "2023-10-16T19:19:12.832Z"
   },
   {
    "duration": 15,
    "start_time": "2023-10-16T19:19:13.376Z"
   },
   {
    "duration": 5,
    "start_time": "2023-10-16T19:19:13.886Z"
   },
   {
    "duration": 6,
    "start_time": "2023-10-16T19:19:14.405Z"
   },
   {
    "duration": 12,
    "start_time": "2023-10-16T19:19:14.938Z"
   },
   {
    "duration": 5,
    "start_time": "2023-10-16T19:19:15.344Z"
   },
   {
    "duration": 6,
    "start_time": "2023-10-16T19:19:15.683Z"
   },
   {
    "duration": 14,
    "start_time": "2023-10-16T19:19:15.934Z"
   },
   {
    "duration": 1739,
    "start_time": "2023-10-16T19:19:17.168Z"
   },
   {
    "duration": 558,
    "start_time": "2023-10-16T19:19:18.909Z"
   },
   {
    "duration": 3089,
    "start_time": "2023-10-16T19:19:19.972Z"
   },
   {
    "duration": 36,
    "start_time": "2023-10-16T19:24:57.362Z"
   },
   {
    "duration": 8,
    "start_time": "2023-10-16T19:27:48.865Z"
   },
   {
    "duration": 51,
    "start_time": "2023-10-17T06:33:02.712Z"
   },
   {
    "duration": 1174,
    "start_time": "2023-10-17T06:33:20.568Z"
   },
   {
    "duration": 110,
    "start_time": "2023-10-17T06:33:21.744Z"
   },
   {
    "duration": 13,
    "start_time": "2023-10-17T06:33:21.856Z"
   },
   {
    "duration": 5,
    "start_time": "2023-10-17T06:33:24.031Z"
   },
   {
    "duration": 14,
    "start_time": "2023-10-17T06:33:24.715Z"
   },
   {
    "duration": 1863,
    "start_time": "2023-10-17T06:33:24.872Z"
   },
   {
    "duration": 13,
    "start_time": "2023-10-17T06:33:26.737Z"
   },
   {
    "duration": 7,
    "start_time": "2023-10-17T06:33:26.751Z"
   },
   {
    "duration": 24,
    "start_time": "2023-10-17T06:33:26.760Z"
   },
   {
    "duration": 23,
    "start_time": "2023-10-17T06:33:26.786Z"
   },
   {
    "duration": 10,
    "start_time": "2023-10-17T06:33:27.771Z"
   },
   {
    "duration": 26,
    "start_time": "2023-10-17T06:33:28.087Z"
   },
   {
    "duration": 8,
    "start_time": "2023-10-17T06:33:28.419Z"
   },
   {
    "duration": 23,
    "start_time": "2023-10-17T06:33:28.599Z"
   },
   {
    "duration": 14,
    "start_time": "2023-10-17T06:33:28.770Z"
   },
   {
    "duration": 14,
    "start_time": "2023-10-17T06:33:28.927Z"
   },
   {
    "duration": 4,
    "start_time": "2023-10-17T06:33:30.487Z"
   },
   {
    "duration": 4,
    "start_time": "2023-10-17T06:33:30.679Z"
   },
   {
    "duration": 17,
    "start_time": "2023-10-17T06:33:30.861Z"
   },
   {
    "duration": 5,
    "start_time": "2023-10-17T06:33:31.195Z"
   },
   {
    "duration": 4,
    "start_time": "2023-10-17T06:33:32.764Z"
   },
   {
    "duration": 11,
    "start_time": "2023-10-17T06:33:32.975Z"
   },
   {
    "duration": 5,
    "start_time": "2023-10-17T06:33:33.155Z"
   },
   {
    "duration": 4,
    "start_time": "2023-10-17T06:33:33.320Z"
   },
   {
    "duration": 17,
    "start_time": "2023-10-17T06:33:33.491Z"
   },
   {
    "duration": 5,
    "start_time": "2023-10-17T06:33:33.672Z"
   },
   {
    "duration": 5,
    "start_time": "2023-10-17T06:33:33.840Z"
   },
   {
    "duration": 13,
    "start_time": "2023-10-17T06:33:34.015Z"
   },
   {
    "duration": 1640,
    "start_time": "2023-10-17T06:33:35.376Z"
   },
   {
    "duration": 475,
    "start_time": "2023-10-17T06:33:37.018Z"
   },
   {
    "duration": 2115,
    "start_time": "2023-10-17T06:33:37.494Z"
   },
   {
    "duration": 121,
    "start_time": "2023-10-17T06:33:39.611Z"
   },
   {
    "duration": 9,
    "start_time": "2023-10-17T06:33:39.733Z"
   },
   {
    "duration": 24,
    "start_time": "2023-10-17T06:34:49.989Z"
   },
   {
    "duration": 66,
    "start_time": "2023-10-17T06:36:53.069Z"
   },
   {
    "duration": 37,
    "start_time": "2023-10-17T06:37:01.786Z"
   },
   {
    "duration": 67,
    "start_time": "2023-10-17T06:37:03.100Z"
   },
   {
    "duration": 273,
    "start_time": "2023-10-17T06:37:19.608Z"
   },
   {
    "duration": 590,
    "start_time": "2023-10-17T06:37:28.176Z"
   },
   {
    "duration": 54,
    "start_time": "2023-10-17T06:37:36.119Z"
   },
   {
    "duration": 891,
    "start_time": "2023-10-17T06:37:43.585Z"
   },
   {
    "duration": 89,
    "start_time": "2023-10-17T06:37:56.757Z"
   },
   {
    "duration": 2676,
    "start_time": "2023-10-17T06:38:05.963Z"
   },
   {
    "duration": 9416,
    "start_time": "2023-10-17T06:38:16.869Z"
   },
   {
    "duration": 4,
    "start_time": "2023-10-17T06:40:18.428Z"
   },
   {
    "duration": 50,
    "start_time": "2023-10-17T06:40:18.647Z"
   },
   {
    "duration": 13,
    "start_time": "2023-10-17T06:40:18.831Z"
   },
   {
    "duration": 5,
    "start_time": "2023-10-17T06:40:19.154Z"
   },
   {
    "duration": 13,
    "start_time": "2023-10-17T06:40:19.478Z"
   },
   {
    "duration": 1289,
    "start_time": "2023-10-17T06:40:19.647Z"
   },
   {
    "duration": 13,
    "start_time": "2023-10-17T06:40:20.939Z"
   },
   {
    "duration": 12,
    "start_time": "2023-10-17T06:40:20.954Z"
   },
   {
    "duration": 22,
    "start_time": "2023-10-17T06:40:20.968Z"
   },
   {
    "duration": 12,
    "start_time": "2023-10-17T06:40:21.016Z"
   },
   {
    "duration": 10,
    "start_time": "2023-10-17T06:40:21.178Z"
   },
   {
    "duration": 11,
    "start_time": "2023-10-17T06:40:21.554Z"
   },
   {
    "duration": 9,
    "start_time": "2023-10-17T06:40:21.914Z"
   },
   {
    "duration": 14,
    "start_time": "2023-10-17T06:40:22.115Z"
   },
   {
    "duration": 21,
    "start_time": "2023-10-17T06:40:22.298Z"
   },
   {
    "duration": 18,
    "start_time": "2023-10-17T06:40:22.495Z"
   },
   {
    "duration": 4,
    "start_time": "2023-10-17T06:40:22.646Z"
   },
   {
    "duration": 4,
    "start_time": "2023-10-17T06:40:22.874Z"
   },
   {
    "duration": 6,
    "start_time": "2023-10-17T06:40:23.035Z"
   },
   {
    "duration": 6,
    "start_time": "2023-10-17T06:40:23.431Z"
   },
   {
    "duration": 6,
    "start_time": "2023-10-17T06:40:23.622Z"
   },
   {
    "duration": 13,
    "start_time": "2023-10-17T06:40:23.818Z"
   },
   {
    "duration": 5,
    "start_time": "2023-10-17T06:40:24.015Z"
   },
   {
    "duration": 7,
    "start_time": "2023-10-17T06:40:24.202Z"
   },
   {
    "duration": 12,
    "start_time": "2023-10-17T06:40:24.382Z"
   },
   {
    "duration": 5,
    "start_time": "2023-10-17T06:40:24.577Z"
   },
   {
    "duration": 6,
    "start_time": "2023-10-17T06:40:24.767Z"
   },
   {
    "duration": 12,
    "start_time": "2023-10-17T06:40:24.971Z"
   },
   {
    "duration": 1667,
    "start_time": "2023-10-17T06:40:26.230Z"
   },
   {
    "duration": 478,
    "start_time": "2023-10-17T06:40:27.901Z"
   },
   {
    "duration": 1529,
    "start_time": "2023-10-17T06:40:28.381Z"
   },
   {
    "duration": 114,
    "start_time": "2023-10-17T06:40:29.913Z"
   },
   {
    "duration": 8795,
    "start_time": "2023-10-17T06:40:30.029Z"
   },
   {
    "duration": 1302,
    "start_time": "2023-10-18T18:22:30.287Z"
   },
   {
    "duration": 115,
    "start_time": "2023-10-18T18:22:31.591Z"
   },
   {
    "duration": 186,
    "start_time": "2023-10-18T18:22:31.708Z"
   },
   {
    "duration": 6,
    "start_time": "2023-10-18T18:22:33.031Z"
   },
   {
    "duration": 14,
    "start_time": "2023-10-18T18:22:33.411Z"
   },
   {
    "duration": 2189,
    "start_time": "2023-10-18T18:22:33.605Z"
   },
   {
    "duration": 17,
    "start_time": "2023-10-18T18:22:35.796Z"
   },
   {
    "duration": 51,
    "start_time": "2023-10-18T18:22:35.816Z"
   },
   {
    "duration": 72,
    "start_time": "2023-10-18T18:22:35.869Z"
   },
   {
    "duration": 491,
    "start_time": "2023-10-18T18:22:35.943Z"
   },
   {
    "duration": 99,
    "start_time": "2023-10-18T18:22:36.437Z"
   },
   {
    "duration": 32,
    "start_time": "2023-10-18T18:22:36.538Z"
   },
   {
    "duration": 28,
    "start_time": "2023-10-18T18:22:36.573Z"
   },
   {
    "duration": 22,
    "start_time": "2023-10-18T18:22:36.603Z"
   },
   {
    "duration": 58,
    "start_time": "2023-10-18T18:22:36.627Z"
   },
   {
    "duration": 15,
    "start_time": "2023-10-18T18:22:36.733Z"
   },
   {
    "duration": 4,
    "start_time": "2023-10-18T18:22:36.942Z"
   },
   {
    "duration": 5,
    "start_time": "2023-10-18T18:22:37.806Z"
   },
   {
    "duration": 4,
    "start_time": "2023-10-18T18:22:38.086Z"
   },
   {
    "duration": 153,
    "start_time": "2023-10-18T18:22:38.092Z"
   },
   {
    "duration": 50,
    "start_time": "2023-10-18T18:22:38.248Z"
   },
   {
    "duration": 11,
    "start_time": "2023-10-18T18:22:42.923Z"
   },
   {
    "duration": 5,
    "start_time": "2023-10-18T18:22:43.224Z"
   },
   {
    "duration": 5,
    "start_time": "2023-10-18T18:22:43.479Z"
   },
   {
    "duration": 13,
    "start_time": "2023-10-18T18:22:43.739Z"
   },
   {
    "duration": 5,
    "start_time": "2023-10-18T18:22:43.909Z"
   },
   {
    "duration": 5,
    "start_time": "2023-10-18T18:22:50.441Z"
   },
   {
    "duration": 46,
    "start_time": "2023-10-18T18:22:50.448Z"
   },
   {
    "duration": 1661,
    "start_time": "2023-10-18T18:22:50.515Z"
   },
   {
    "duration": 486,
    "start_time": "2023-10-18T18:22:52.178Z"
   },
   {
    "duration": 640,
    "start_time": "2023-10-18T18:22:52.665Z"
   },
   {
    "duration": 36,
    "start_time": "2023-10-18T18:22:56.377Z"
   },
   {
    "duration": 8957,
    "start_time": "2023-10-18T18:23:02.529Z"
   },
   {
    "duration": 21954,
    "start_time": "2023-10-18T18:23:39.269Z"
   },
   {
    "duration": 57,
    "start_time": "2023-10-18T18:24:09.055Z"
   },
   {
    "duration": 47,
    "start_time": "2023-10-18T18:24:17.145Z"
   },
   {
    "duration": 43,
    "start_time": "2023-10-18T18:24:22.200Z"
   },
   {
    "duration": 51,
    "start_time": "2023-10-18T18:24:26.829Z"
   },
   {
    "duration": 54,
    "start_time": "2023-10-18T18:24:31.892Z"
   },
   {
    "duration": 60,
    "start_time": "2023-10-18T18:24:38.237Z"
   },
   {
    "duration": 62,
    "start_time": "2023-10-18T18:24:43.619Z"
   },
   {
    "duration": 61,
    "start_time": "2023-10-18T18:24:47.752Z"
   },
   {
    "duration": 64,
    "start_time": "2023-10-18T18:24:54.906Z"
   },
   {
    "duration": 71,
    "start_time": "2023-10-18T18:24:58.993Z"
   },
   {
    "duration": 80,
    "start_time": "2023-10-18T18:25:03.221Z"
   },
   {
    "duration": 77,
    "start_time": "2023-10-18T18:25:08.369Z"
   },
   {
    "duration": 107,
    "start_time": "2023-10-18T18:25:11.320Z"
   },
   {
    "duration": 81,
    "start_time": "2023-10-18T18:25:14.183Z"
   },
   {
    "duration": 76,
    "start_time": "2023-10-18T18:25:18.189Z"
   },
   {
    "duration": 101,
    "start_time": "2023-10-18T18:25:21.226Z"
   },
   {
    "duration": 81,
    "start_time": "2023-10-18T18:25:25.039Z"
   },
   {
    "duration": 87,
    "start_time": "2023-10-18T18:25:30.119Z"
   },
   {
    "duration": 90,
    "start_time": "2023-10-18T18:25:34.291Z"
   },
   {
    "duration": 94,
    "start_time": "2023-10-18T18:25:37.971Z"
   },
   {
    "duration": 87,
    "start_time": "2023-10-18T18:25:40.920Z"
   },
   {
    "duration": 95,
    "start_time": "2023-10-18T18:25:43.962Z"
   },
   {
    "duration": 103,
    "start_time": "2023-10-18T18:25:46.762Z"
   },
   {
    "duration": 93,
    "start_time": "2023-10-18T18:25:50.754Z"
   },
   {
    "duration": 115,
    "start_time": "2023-10-18T18:25:53.499Z"
   },
   {
    "duration": 106,
    "start_time": "2023-10-18T18:25:57.161Z"
   },
   {
    "duration": 103,
    "start_time": "2023-10-18T18:26:02.087Z"
   },
   {
    "duration": 188,
    "start_time": "2023-10-18T18:26:04.671Z"
   },
   {
    "duration": 114,
    "start_time": "2023-10-18T18:26:07.289Z"
   },
   {
    "duration": 74,
    "start_time": "2023-10-18T18:26:13.945Z"
   },
   {
    "duration": 122,
    "start_time": "2023-10-18T18:26:20.098Z"
   },
   {
    "duration": 105,
    "start_time": "2023-10-18T18:26:25.009Z"
   },
   {
    "duration": 113,
    "start_time": "2023-10-18T18:26:27.528Z"
   },
   {
    "duration": 114,
    "start_time": "2023-10-18T18:26:32.869Z"
   },
   {
    "duration": 115,
    "start_time": "2023-10-18T18:26:36.269Z"
   },
   {
    "duration": 137,
    "start_time": "2023-10-18T18:26:39.651Z"
   },
   {
    "duration": 115,
    "start_time": "2023-10-18T18:26:42.602Z"
   },
   {
    "duration": 134,
    "start_time": "2023-10-18T18:26:45.497Z"
   },
   {
    "duration": 123,
    "start_time": "2023-10-18T18:26:49.369Z"
   },
   {
    "duration": 138,
    "start_time": "2023-10-18T18:26:57.899Z"
   },
   {
    "duration": 126,
    "start_time": "2023-10-18T18:27:01.222Z"
   },
   {
    "duration": 134,
    "start_time": "2023-10-18T18:27:05.629Z"
   },
   {
    "duration": 143,
    "start_time": "2023-10-18T18:27:15.314Z"
   },
   {
    "duration": 157,
    "start_time": "2023-10-18T18:27:18.300Z"
   },
   {
    "duration": 149,
    "start_time": "2023-10-18T18:27:22.317Z"
   },
   {
    "duration": 138,
    "start_time": "2023-10-18T18:27:26.263Z"
   },
   {
    "duration": 146,
    "start_time": "2023-10-18T18:27:29.530Z"
   },
   {
    "duration": 161,
    "start_time": "2023-10-18T18:27:32.512Z"
   },
   {
    "duration": 141,
    "start_time": "2023-10-18T18:27:35.370Z"
   },
   {
    "duration": 181,
    "start_time": "2023-10-18T18:27:37.941Z"
   },
   {
    "duration": 163,
    "start_time": "2023-10-18T18:27:40.552Z"
   },
   {
    "duration": 198,
    "start_time": "2023-10-18T18:27:44.465Z"
   },
   {
    "duration": 165,
    "start_time": "2023-10-18T18:27:48.099Z"
   },
   {
    "duration": 170,
    "start_time": "2023-10-18T18:27:51.264Z"
   },
   {
    "duration": 159,
    "start_time": "2023-10-18T18:27:54.879Z"
   },
   {
    "duration": 174,
    "start_time": "2023-10-18T18:27:58.733Z"
   },
   {
    "duration": 171,
    "start_time": "2023-10-18T18:28:03.895Z"
   },
   {
    "duration": 181,
    "start_time": "2023-10-18T18:28:06.951Z"
   },
   {
    "duration": 25,
    "start_time": "2023-10-18T18:35:40.182Z"
   },
   {
    "duration": 137,
    "start_time": "2023-10-18T18:37:33.112Z"
   },
   {
    "duration": 188,
    "start_time": "2023-10-18T18:37:37.923Z"
   },
   {
    "duration": 189,
    "start_time": "2023-10-18T18:37:41.193Z"
   },
   {
    "duration": 215,
    "start_time": "2023-10-18T18:37:47.501Z"
   },
   {
    "duration": 183,
    "start_time": "2023-10-18T18:37:53.292Z"
   },
   {
    "duration": 159,
    "start_time": "2023-10-18T18:37:58.305Z"
   },
   {
    "duration": 170,
    "start_time": "2023-10-18T18:38:02.264Z"
   },
   {
    "duration": 172,
    "start_time": "2023-10-18T18:38:06.039Z"
   },
   {
    "duration": 163,
    "start_time": "2023-10-18T18:38:11.959Z"
   },
   {
    "duration": 36,
    "start_time": "2023-10-18T18:42:16.955Z"
   },
   {
    "duration": 36,
    "start_time": "2023-10-18T18:42:46.124Z"
   },
   {
    "duration": 33,
    "start_time": "2023-10-18T18:43:27.144Z"
   },
   {
    "duration": 33,
    "start_time": "2023-10-18T18:43:47.780Z"
   },
   {
    "duration": 618,
    "start_time": "2023-10-18T18:49:32.890Z"
   },
   {
    "duration": 329,
    "start_time": "2023-10-18T18:53:03.173Z"
   },
   {
    "duration": 4,
    "start_time": "2023-10-18T18:53:23.064Z"
   },
   {
    "duration": 48,
    "start_time": "2023-10-18T18:53:23.550Z"
   },
   {
    "duration": 12,
    "start_time": "2023-10-18T18:53:23.982Z"
   },
   {
    "duration": 6,
    "start_time": "2023-10-18T18:53:25.253Z"
   },
   {
    "duration": 14,
    "start_time": "2023-10-18T18:53:25.606Z"
   },
   {
    "duration": 1240,
    "start_time": "2023-10-18T18:53:25.793Z"
   },
   {
    "duration": 12,
    "start_time": "2023-10-18T18:53:27.034Z"
   },
   {
    "duration": 6,
    "start_time": "2023-10-18T18:53:27.048Z"
   },
   {
    "duration": 19,
    "start_time": "2023-10-18T18:53:27.056Z"
   },
   {
    "duration": 9,
    "start_time": "2023-10-18T18:53:27.122Z"
   },
   {
    "duration": 9,
    "start_time": "2023-10-18T18:53:27.320Z"
   },
   {
    "duration": 12,
    "start_time": "2023-10-18T18:53:27.720Z"
   },
   {
    "duration": 9,
    "start_time": "2023-10-18T18:53:28.171Z"
   },
   {
    "duration": 14,
    "start_time": "2023-10-18T18:53:28.346Z"
   },
   {
    "duration": 15,
    "start_time": "2023-10-18T18:53:28.566Z"
   },
   {
    "duration": 14,
    "start_time": "2023-10-18T18:53:28.767Z"
   },
   {
    "duration": 3,
    "start_time": "2023-10-18T18:53:28.976Z"
   },
   {
    "duration": 4,
    "start_time": "2023-10-18T18:53:29.214Z"
   },
   {
    "duration": 3,
    "start_time": "2023-10-18T18:53:29.367Z"
   },
   {
    "duration": 5,
    "start_time": "2023-10-18T18:53:29.822Z"
   },
   {
    "duration": 5,
    "start_time": "2023-10-18T18:53:30.005Z"
   },
   {
    "duration": 12,
    "start_time": "2023-10-18T18:53:30.220Z"
   },
   {
    "duration": 4,
    "start_time": "2023-10-18T18:53:30.435Z"
   },
   {
    "duration": 357,
    "start_time": "2023-10-18T18:53:30.604Z"
   },
   {
    "duration": 70,
    "start_time": "2023-10-18T18:53:30.963Z"
   },
   {
    "duration": 78,
    "start_time": "2023-10-18T18:53:31.067Z"
   },
   {
    "duration": 38,
    "start_time": "2023-10-18T18:53:31.224Z"
   },
   {
    "duration": 13,
    "start_time": "2023-10-18T18:53:31.425Z"
   },
   {
    "duration": 1632,
    "start_time": "2023-10-18T18:53:32.050Z"
   },
   {
    "duration": 459,
    "start_time": "2023-10-18T18:53:33.684Z"
   },
   {
    "duration": 863,
    "start_time": "2023-10-18T18:53:34.145Z"
   },
   {
    "duration": 34,
    "start_time": "2023-10-18T18:54:10.950Z"
   },
   {
    "duration": 343,
    "start_time": "2023-10-18T18:54:15.966Z"
   },
   {
    "duration": 177,
    "start_time": "2023-10-18T18:54:27.279Z"
   },
   {
    "duration": 25,
    "start_time": "2023-10-18T18:54:31.140Z"
   },
   {
    "duration": 36,
    "start_time": "2023-10-18T18:54:35.502Z"
   },
   {
    "duration": 436,
    "start_time": "2023-10-18T18:56:29.570Z"
   },
   {
    "duration": 171,
    "start_time": "2023-10-18T18:56:43.815Z"
   },
   {
    "duration": 24,
    "start_time": "2023-10-18T18:56:45.564Z"
   },
   {
    "duration": 157,
    "start_time": "2023-10-18T18:58:46.314Z"
   },
   {
    "duration": 24,
    "start_time": "2023-10-18T18:58:47.790Z"
   },
   {
    "duration": 33,
    "start_time": "2023-10-18T18:58:50.140Z"
   },
   {
    "duration": 166,
    "start_time": "2023-10-18T19:03:30.341Z"
   },
   {
    "duration": 109,
    "start_time": "2023-10-18T19:04:59.090Z"
   },
   {
    "duration": 12,
    "start_time": "2023-10-18T19:05:07.351Z"
   },
   {
    "duration": 13,
    "start_time": "2023-10-18T19:05:18.015Z"
   },
   {
    "duration": 4,
    "start_time": "2023-10-18T19:05:50.090Z"
   },
   {
    "duration": 48,
    "start_time": "2023-10-18T19:05:50.804Z"
   },
   {
    "duration": 14,
    "start_time": "2023-10-18T19:05:51.006Z"
   },
   {
    "duration": 5,
    "start_time": "2023-10-18T19:05:51.395Z"
   },
   {
    "duration": 13,
    "start_time": "2023-10-18T19:05:51.787Z"
   },
   {
    "duration": 1216,
    "start_time": "2023-10-18T19:05:51.956Z"
   },
   {
    "duration": 11,
    "start_time": "2023-10-18T19:05:53.174Z"
   },
   {
    "duration": 33,
    "start_time": "2023-10-18T19:05:53.186Z"
   },
   {
    "duration": 11,
    "start_time": "2023-10-18T19:05:53.221Z"
   },
   {
    "duration": 9,
    "start_time": "2023-10-18T19:05:53.321Z"
   },
   {
    "duration": 12,
    "start_time": "2023-10-18T19:05:53.496Z"
   },
   {
    "duration": 11,
    "start_time": "2023-10-18T19:05:53.891Z"
   },
   {
    "duration": 9,
    "start_time": "2023-10-18T19:05:54.292Z"
   },
   {
    "duration": 17,
    "start_time": "2023-10-18T19:05:54.490Z"
   },
   {
    "duration": 17,
    "start_time": "2023-10-18T19:05:54.686Z"
   },
   {
    "duration": 14,
    "start_time": "2023-10-18T19:05:54.907Z"
   },
   {
    "duration": 4,
    "start_time": "2023-10-18T19:05:55.108Z"
   },
   {
    "duration": 3,
    "start_time": "2023-10-18T19:05:55.300Z"
   },
   {
    "duration": 3,
    "start_time": "2023-10-18T19:05:55.500Z"
   },
   {
    "duration": 5,
    "start_time": "2023-10-18T19:05:55.902Z"
   },
   {
    "duration": 5,
    "start_time": "2023-10-18T19:05:56.121Z"
   },
   {
    "duration": 17,
    "start_time": "2023-10-18T19:05:56.312Z"
   },
   {
    "duration": 5,
    "start_time": "2023-10-18T19:05:56.523Z"
   },
   {
    "duration": 5,
    "start_time": "2023-10-18T19:05:56.764Z"
   },
   {
    "duration": 13,
    "start_time": "2023-10-18T19:05:56.990Z"
   },
   {
    "duration": 5,
    "start_time": "2023-10-18T19:05:57.220Z"
   },
   {
    "duration": 5,
    "start_time": "2023-10-18T19:05:57.442Z"
   },
   {
    "duration": 13,
    "start_time": "2023-10-18T19:05:57.674Z"
   },
   {
    "duration": 1580,
    "start_time": "2023-10-18T19:05:58.341Z"
   },
   {
    "duration": 477,
    "start_time": "2023-10-18T19:05:59.924Z"
   },
   {
    "duration": 899,
    "start_time": "2023-10-18T19:06:00.403Z"
   },
   {
    "duration": 126,
    "start_time": "2023-10-18T19:06:01.305Z"
   },
   {
    "duration": 573,
    "start_time": "2023-10-18T19:06:01.433Z"
   },
   {
    "duration": 173,
    "start_time": "2023-10-18T19:06:02.349Z"
   },
   {
    "duration": 26,
    "start_time": "2023-10-18T19:06:03.687Z"
   },
   {
    "duration": 34,
    "start_time": "2023-10-18T19:06:07.582Z"
   },
   {
    "duration": 161,
    "start_time": "2023-10-18T19:06:09.357Z"
   },
   {
    "duration": 229,
    "start_time": "2023-10-18T19:06:11.354Z"
   },
   {
    "duration": 239,
    "start_time": "2023-10-18T19:07:14.803Z"
   },
   {
    "duration": 4,
    "start_time": "2023-10-18T19:07:27.233Z"
   },
   {
    "duration": 6,
    "start_time": "2023-10-18T19:07:40.201Z"
   },
   {
    "duration": 7,
    "start_time": "2023-10-18T19:08:10.514Z"
   },
   {
    "duration": 7,
    "start_time": "2023-10-18T19:27:36.734Z"
   },
   {
    "duration": 2299,
    "start_time": "2023-10-18T19:31:54.849Z"
   },
   {
    "duration": 95,
    "start_time": "2023-10-18T19:31:57.151Z"
   },
   {
    "duration": 13,
    "start_time": "2023-10-18T19:31:57.247Z"
   },
   {
    "duration": 14,
    "start_time": "2023-10-18T19:31:57.263Z"
   },
   {
    "duration": 20,
    "start_time": "2023-10-18T19:31:57.279Z"
   },
   {
    "duration": 1191,
    "start_time": "2023-10-18T19:31:57.301Z"
   },
   {
    "duration": 12,
    "start_time": "2023-10-18T19:31:58.501Z"
   },
   {
    "duration": 9,
    "start_time": "2023-10-18T19:31:58.515Z"
   },
   {
    "duration": 13,
    "start_time": "2023-10-18T19:31:58.526Z"
   },
   {
    "duration": 14,
    "start_time": "2023-10-18T19:31:58.542Z"
   },
   {
    "duration": 25,
    "start_time": "2023-10-18T19:31:58.558Z"
   },
   {
    "duration": 26,
    "start_time": "2023-10-18T19:31:58.585Z"
   },
   {
    "duration": 17,
    "start_time": "2023-10-18T19:31:58.613Z"
   },
   {
    "duration": 15,
    "start_time": "2023-10-18T19:31:58.632Z"
   },
   {
    "duration": 53,
    "start_time": "2023-10-18T19:31:58.648Z"
   },
   {
    "duration": 30,
    "start_time": "2023-10-18T19:31:58.702Z"
   },
   {
    "duration": 38,
    "start_time": "2023-10-18T19:31:58.734Z"
   },
   {
    "duration": 22,
    "start_time": "2023-10-18T19:31:58.774Z"
   },
   {
    "duration": 17,
    "start_time": "2023-10-18T19:31:58.798Z"
   },
   {
    "duration": 24,
    "start_time": "2023-10-18T19:31:58.817Z"
   },
   {
    "duration": 29,
    "start_time": "2023-10-18T19:31:58.842Z"
   },
   {
    "duration": 25,
    "start_time": "2023-10-18T19:31:58.872Z"
   },
   {
    "duration": 22,
    "start_time": "2023-10-18T19:31:58.898Z"
   },
   {
    "duration": 19,
    "start_time": "2023-10-18T19:31:58.922Z"
   },
   {
    "duration": 23,
    "start_time": "2023-10-18T19:31:58.943Z"
   },
   {
    "duration": 10,
    "start_time": "2023-10-18T19:31:58.968Z"
   },
   {
    "duration": 19,
    "start_time": "2023-10-18T19:31:58.980Z"
   },
   {
    "duration": 16,
    "start_time": "2023-10-18T19:31:59.003Z"
   },
   {
    "duration": 1564,
    "start_time": "2023-10-18T19:31:59.021Z"
   },
   {
    "duration": 469,
    "start_time": "2023-10-18T19:32:00.586Z"
   },
   {
    "duration": 754,
    "start_time": "2023-10-18T19:32:01.057Z"
   },
   {
    "duration": 127,
    "start_time": "2023-10-18T19:32:01.903Z"
   },
   {
    "duration": 472,
    "start_time": "2023-10-18T19:32:02.031Z"
   },
   {
    "duration": 316,
    "start_time": "2023-10-18T19:32:02.506Z"
   },
   {
    "duration": 23,
    "start_time": "2023-10-18T19:32:02.824Z"
   },
   {
    "duration": 33,
    "start_time": "2023-10-18T19:32:02.849Z"
   },
   {
    "duration": 331,
    "start_time": "2023-10-18T19:32:02.884Z"
   },
   {
    "duration": 396,
    "start_time": "2023-10-18T19:32:03.217Z"
   },
   {
    "duration": 6,
    "start_time": "2023-10-18T19:32:03.614Z"
   },
   {
    "duration": 1792,
    "start_time": "2023-10-19T06:12:33.104Z"
   },
   {
    "duration": 113,
    "start_time": "2023-10-19T06:12:34.898Z"
   },
   {
    "duration": 17,
    "start_time": "2023-10-19T06:12:36.460Z"
   },
   {
    "duration": 6,
    "start_time": "2023-10-19T06:12:38.319Z"
   },
   {
    "duration": 21,
    "start_time": "2023-10-19T06:12:39.228Z"
   },
   {
    "duration": 1322,
    "start_time": "2023-10-19T06:12:39.659Z"
   },
   {
    "duration": 13,
    "start_time": "2023-10-19T06:12:40.983Z"
   },
   {
    "duration": 134,
    "start_time": "2023-10-19T06:12:41.300Z"
   },
   {
    "duration": 142,
    "start_time": "2023-10-19T06:15:40.568Z"
   },
   {
    "duration": 21,
    "start_time": "2023-10-19T06:15:54.299Z"
   },
   {
    "duration": 11,
    "start_time": "2023-10-19T06:16:33.107Z"
   },
   {
    "duration": 8,
    "start_time": "2023-10-19T06:16:38.767Z"
   },
   {
    "duration": 4,
    "start_time": "2023-10-19T06:23:48.207Z"
   },
   {
    "duration": 13,
    "start_time": "2023-10-19T06:24:01.863Z"
   },
   {
    "duration": 14,
    "start_time": "2023-10-19T06:24:13.958Z"
   },
   {
    "duration": 16,
    "start_time": "2023-10-19T06:24:14.410Z"
   },
   {
    "duration": 6,
    "start_time": "2023-10-19T06:25:53.499Z"
   },
   {
    "duration": 56,
    "start_time": "2023-10-19T06:25:55.011Z"
   },
   {
    "duration": 13,
    "start_time": "2023-10-19T06:25:55.827Z"
   },
   {
    "duration": 5,
    "start_time": "2023-10-19T06:26:05.429Z"
   },
   {
    "duration": 14,
    "start_time": "2023-10-19T06:26:06.918Z"
   },
   {
    "duration": 1170,
    "start_time": "2023-10-19T06:26:07.410Z"
   },
   {
    "duration": 12,
    "start_time": "2023-10-19T06:26:08.582Z"
   },
   {
    "duration": 9,
    "start_time": "2023-10-19T06:26:09.093Z"
   },
   {
    "duration": 8,
    "start_time": "2023-10-19T06:26:12.067Z"
   },
   {
    "duration": 8,
    "start_time": "2023-10-19T06:26:14.210Z"
   },
   {
    "duration": 9,
    "start_time": "2023-10-19T06:26:26.291Z"
   },
   {
    "duration": 11,
    "start_time": "2023-10-19T06:26:27.627Z"
   },
   {
    "duration": 6,
    "start_time": "2023-10-19T06:26:28.359Z"
   },
   {
    "duration": 14,
    "start_time": "2023-10-19T06:26:32.447Z"
   },
   {
    "duration": 49,
    "start_time": "2023-10-19T18:31:58.029Z"
   },
   {
    "duration": 1730,
    "start_time": "2023-10-19T18:32:05.475Z"
   },
   {
    "duration": 101,
    "start_time": "2023-10-19T18:32:07.207Z"
   },
   {
    "duration": 15,
    "start_time": "2023-10-19T18:32:07.310Z"
   },
   {
    "duration": 6,
    "start_time": "2023-10-19T18:32:07.327Z"
   },
   {
    "duration": 17,
    "start_time": "2023-10-19T18:32:07.335Z"
   },
   {
    "duration": 1192,
    "start_time": "2023-10-19T18:32:07.354Z"
   },
   {
    "duration": 14,
    "start_time": "2023-10-19T18:32:08.548Z"
   },
   {
    "duration": 26,
    "start_time": "2023-10-19T18:32:08.564Z"
   },
   {
    "duration": 22,
    "start_time": "2023-10-19T18:32:08.592Z"
   },
   {
    "duration": 11,
    "start_time": "2023-10-19T18:32:08.749Z"
   },
   {
    "duration": 11,
    "start_time": "2023-10-19T18:32:09.378Z"
   },
   {
    "duration": 11,
    "start_time": "2023-10-19T18:32:09.809Z"
   },
   {
    "duration": 7,
    "start_time": "2023-10-19T18:32:10.011Z"
   },
   {
    "duration": 14,
    "start_time": "2023-10-19T18:32:10.230Z"
   },
   {
    "duration": 9,
    "start_time": "2023-10-19T18:32:10.879Z"
   },
   {
    "duration": 71,
    "start_time": "2023-10-19T18:32:11.086Z"
   },
   {
    "duration": 13,
    "start_time": "2023-10-19T18:32:11.333Z"
   },
   {
    "duration": 13,
    "start_time": "2023-10-19T18:32:11.547Z"
   },
   {
    "duration": 13,
    "start_time": "2023-10-19T18:32:11.778Z"
   },
   {
    "duration": 3,
    "start_time": "2023-10-19T18:32:11.989Z"
   },
   {
    "duration": 93,
    "start_time": "2023-10-19T18:32:12.200Z"
   },
   {
    "duration": 3,
    "start_time": "2023-10-19T18:32:12.429Z"
   },
   {
    "duration": 5,
    "start_time": "2023-10-19T18:32:13.832Z"
   },
   {
    "duration": 5,
    "start_time": "2023-10-19T18:32:15.095Z"
   },
   {
    "duration": 15,
    "start_time": "2023-10-19T18:32:15.730Z"
   },
   {
    "duration": 5,
    "start_time": "2023-10-19T18:32:16.432Z"
   },
   {
    "duration": 6,
    "start_time": "2023-10-19T18:32:17.031Z"
   },
   {
    "duration": 19,
    "start_time": "2023-10-19T18:32:17.603Z"
   },
   {
    "duration": 5,
    "start_time": "2023-10-19T18:32:18.022Z"
   },
   {
    "duration": 5,
    "start_time": "2023-10-19T18:32:18.760Z"
   },
   {
    "duration": 12,
    "start_time": "2023-10-19T18:32:19.000Z"
   },
   {
    "duration": 1235,
    "start_time": "2023-10-19T18:32:21.251Z"
   },
   {
    "duration": 32,
    "start_time": "2023-10-19T18:35:19.436Z"
   },
   {
    "duration": 24,
    "start_time": "2023-10-19T18:36:26.039Z"
   },
   {
    "duration": 5,
    "start_time": "2023-10-19T18:38:48.982Z"
   },
   {
    "duration": 7,
    "start_time": "2023-10-19T18:38:50.643Z"
   },
   {
    "duration": 12,
    "start_time": "2023-10-19T18:41:55.813Z"
   },
   {
    "duration": 4,
    "start_time": "2023-10-19T18:42:08.572Z"
   },
   {
    "duration": 52,
    "start_time": "2023-10-19T18:42:09.114Z"
   },
   {
    "duration": 12,
    "start_time": "2023-10-19T18:42:09.305Z"
   },
   {
    "duration": 5,
    "start_time": "2023-10-19T18:42:09.752Z"
   },
   {
    "duration": 12,
    "start_time": "2023-10-19T18:42:10.146Z"
   },
   {
    "duration": 1059,
    "start_time": "2023-10-19T18:42:10.347Z"
   },
   {
    "duration": 24,
    "start_time": "2023-10-19T18:42:11.408Z"
   },
   {
    "duration": 6,
    "start_time": "2023-10-19T18:42:11.433Z"
   },
   {
    "duration": 7,
    "start_time": "2023-10-19T18:42:11.441Z"
   },
   {
    "duration": 9,
    "start_time": "2023-10-19T18:42:14.346Z"
   },
   {
    "duration": 11,
    "start_time": "2023-10-19T18:42:16.550Z"
   },
   {
    "duration": 12,
    "start_time": "2023-10-19T18:42:18.273Z"
   },
   {
    "duration": 5,
    "start_time": "2023-10-19T18:42:18.810Z"
   },
   {
    "duration": 14,
    "start_time": "2023-10-19T18:42:19.339Z"
   },
   {
    "duration": 5,
    "start_time": "2023-10-19T18:42:21.446Z"
   },
   {
    "duration": 7,
    "start_time": "2023-10-19T18:42:22.182Z"
   },
   {
    "duration": 2,
    "start_time": "2023-10-19T18:42:23.725Z"
   },
   {
    "duration": 35,
    "start_time": "2023-10-19T18:42:24.595Z"
   },
   {
    "duration": 13,
    "start_time": "2023-10-19T18:42:31.883Z"
   },
   {
    "duration": 16,
    "start_time": "2023-10-19T18:42:33.259Z"
   },
   {
    "duration": 12,
    "start_time": "2023-10-19T18:42:34.334Z"
   },
   {
    "duration": 4,
    "start_time": "2023-10-19T18:42:53.334Z"
   },
   {
    "duration": 3,
    "start_time": "2023-10-19T18:42:54.201Z"
   },
   {
    "duration": 3,
    "start_time": "2023-10-19T18:42:54.953Z"
   },
   {
    "duration": 24,
    "start_time": "2023-10-19T18:45:23.043Z"
   },
   {
    "duration": 4,
    "start_time": "2023-10-19T18:45:30.813Z"
   },
   {
    "duration": 53,
    "start_time": "2023-10-19T18:45:31.223Z"
   },
   {
    "duration": 12,
    "start_time": "2023-10-19T18:45:31.436Z"
   },
   {
    "duration": 5,
    "start_time": "2023-10-19T18:45:31.793Z"
   },
   {
    "duration": 14,
    "start_time": "2023-10-19T18:45:33.064Z"
   },
   {
    "duration": 1184,
    "start_time": "2023-10-19T18:45:33.589Z"
   },
   {
    "duration": 12,
    "start_time": "2023-10-19T18:45:34.775Z"
   },
   {
    "duration": 7,
    "start_time": "2023-10-19T18:45:35.228Z"
   },
   {
    "duration": 7,
    "start_time": "2023-10-19T18:45:36.408Z"
   },
   {
    "duration": 8,
    "start_time": "2023-10-19T18:45:38.370Z"
   },
   {
    "duration": 9,
    "start_time": "2023-10-19T18:45:40.021Z"
   },
   {
    "duration": 10,
    "start_time": "2023-10-19T18:45:41.051Z"
   },
   {
    "duration": 6,
    "start_time": "2023-10-19T18:45:41.464Z"
   },
   {
    "duration": 13,
    "start_time": "2023-10-19T18:45:41.816Z"
   },
   {
    "duration": 5,
    "start_time": "2023-10-19T18:45:43.282Z"
   },
   {
    "duration": 3,
    "start_time": "2023-10-19T18:45:43.784Z"
   },
   {
    "duration": 7,
    "start_time": "2023-10-19T18:45:44.338Z"
   },
   {
    "duration": 14,
    "start_time": "2023-10-19T18:45:45.863Z"
   },
   {
    "duration": 13,
    "start_time": "2023-10-19T18:45:46.608Z"
   },
   {
    "duration": 13,
    "start_time": "2023-10-19T18:45:47.257Z"
   },
   {
    "duration": 4,
    "start_time": "2023-10-19T18:45:47.746Z"
   },
   {
    "duration": 4,
    "start_time": "2023-10-19T18:45:48.283Z"
   },
   {
    "duration": 3,
    "start_time": "2023-10-19T18:45:49.303Z"
   },
   {
    "duration": 4,
    "start_time": "2023-10-19T18:45:50.859Z"
   },
   {
    "duration": 4,
    "start_time": "2023-10-19T18:45:51.343Z"
   },
   {
    "duration": 11,
    "start_time": "2023-10-19T18:45:51.848Z"
   },
   {
    "duration": 5,
    "start_time": "2023-10-19T18:45:52.283Z"
   },
   {
    "duration": 4,
    "start_time": "2023-10-19T18:45:52.728Z"
   },
   {
    "duration": 13,
    "start_time": "2023-10-19T18:45:53.232Z"
   },
   {
    "duration": 4,
    "start_time": "2023-10-19T18:45:53.693Z"
   },
   {
    "duration": 5,
    "start_time": "2023-10-19T18:45:54.563Z"
   },
   {
    "duration": 13,
    "start_time": "2023-10-19T18:45:55.105Z"
   },
   {
    "duration": 20,
    "start_time": "2023-10-19T18:45:56.004Z"
   },
   {
    "duration": 1270,
    "start_time": "2023-10-19T18:46:02.406Z"
   },
   {
    "duration": 413,
    "start_time": "2023-10-19T18:46:23.237Z"
   },
   {
    "duration": 1793,
    "start_time": "2023-10-19T18:46:26.033Z"
   },
   {
    "duration": 92362,
    "start_time": "2023-10-19T18:48:40.311Z"
   },
   {
    "duration": 4,
    "start_time": "2023-10-19T18:50:12.675Z"
   },
   {
    "duration": 57,
    "start_time": "2023-10-19T18:50:12.680Z"
   },
   {
    "duration": 11,
    "start_time": "2023-10-19T18:50:12.739Z"
   },
   {
    "duration": 4,
    "start_time": "2023-10-19T18:50:12.752Z"
   },
   {
    "duration": 14,
    "start_time": "2023-10-19T18:50:12.758Z"
   },
   {
    "duration": 1203,
    "start_time": "2023-10-19T18:50:12.774Z"
   },
   {
    "duration": 11,
    "start_time": "2023-10-19T18:50:13.979Z"
   },
   {
    "duration": 7,
    "start_time": "2023-10-19T18:50:13.992Z"
   },
   {
    "duration": 23,
    "start_time": "2023-10-19T18:50:14.001Z"
   },
   {
    "duration": 8,
    "start_time": "2023-10-19T18:50:14.026Z"
   },
   {
    "duration": 19,
    "start_time": "2023-10-19T18:50:14.035Z"
   },
   {
    "duration": 4,
    "start_time": "2023-10-19T18:51:14.347Z"
   },
   {
    "duration": 53,
    "start_time": "2023-10-19T18:51:14.844Z"
   },
   {
    "duration": 14,
    "start_time": "2023-10-19T18:51:15.162Z"
   },
   {
    "duration": 5,
    "start_time": "2023-10-19T18:51:16.228Z"
   },
   {
    "duration": 12,
    "start_time": "2023-10-19T18:51:17.274Z"
   },
   {
    "duration": 1021,
    "start_time": "2023-10-19T18:51:17.793Z"
   },
   {
    "duration": 16,
    "start_time": "2023-10-19T18:51:18.816Z"
   },
   {
    "duration": 8,
    "start_time": "2023-10-19T18:51:20.975Z"
   },
   {
    "duration": 8,
    "start_time": "2023-10-19T18:51:22.704Z"
   },
   {
    "duration": 10,
    "start_time": "2023-10-19T18:51:24.695Z"
   },
   {
    "duration": 10,
    "start_time": "2023-10-19T18:51:26.141Z"
   },
   {
    "duration": 10,
    "start_time": "2023-10-19T18:51:27.284Z"
   },
   {
    "duration": 5,
    "start_time": "2023-10-19T18:51:27.619Z"
   },
   {
    "duration": 13,
    "start_time": "2023-10-19T18:51:28.007Z"
   },
   {
    "duration": 5,
    "start_time": "2023-10-19T18:51:29.430Z"
   },
   {
    "duration": 3,
    "start_time": "2023-10-19T18:51:29.924Z"
   },
   {
    "duration": 10,
    "start_time": "2023-10-19T18:51:30.336Z"
   },
   {
    "duration": 12,
    "start_time": "2023-10-19T18:51:31.176Z"
   },
   {
    "duration": 15,
    "start_time": "2023-10-19T18:51:31.711Z"
   },
   {
    "duration": 14,
    "start_time": "2023-10-19T18:51:32.755Z"
   },
   {
    "duration": 5,
    "start_time": "2023-10-19T18:51:33.198Z"
   },
   {
    "duration": 4,
    "start_time": "2023-10-19T18:51:33.753Z"
   },
   {
    "duration": 5,
    "start_time": "2023-10-19T18:51:34.175Z"
   },
   {
    "duration": 6,
    "start_time": "2023-10-19T18:51:35.904Z"
   },
   {
    "duration": 5,
    "start_time": "2023-10-19T18:51:36.387Z"
   },
   {
    "duration": 10,
    "start_time": "2023-10-19T18:51:37.108Z"
   },
   {
    "duration": 4,
    "start_time": "2023-10-19T18:51:37.556Z"
   },
   {
    "duration": 5,
    "start_time": "2023-10-19T18:51:38.228Z"
   },
   {
    "duration": 12,
    "start_time": "2023-10-19T18:51:38.828Z"
   },
   {
    "duration": 5,
    "start_time": "2023-10-19T18:51:43.588Z"
   },
   {
    "duration": 5,
    "start_time": "2023-10-19T18:51:44.479Z"
   },
   {
    "duration": 12,
    "start_time": "2023-10-19T18:51:45.007Z"
   },
   {
    "duration": 21,
    "start_time": "2023-10-19T18:51:45.398Z"
   },
   {
    "duration": 1268,
    "start_time": "2023-10-19T18:51:48.576Z"
   },
   {
    "duration": 92032,
    "start_time": "2023-10-19T18:52:23.057Z"
   },
   {
    "duration": 1537,
    "start_time": "2023-10-19T18:53:55.090Z"
   },
   {
    "duration": 87,
    "start_time": "2023-10-19T18:55:15.057Z"
   },
   {
    "duration": 1370,
    "start_time": "2023-10-19T18:55:28.345Z"
   },
   {
    "duration": 1519,
    "start_time": "2023-10-19T18:56:24.205Z"
   },
   {
    "duration": 148,
    "start_time": "2023-10-19T18:56:33.998Z"
   },
   {
    "duration": 1365,
    "start_time": "2023-10-19T18:59:55.177Z"
   },
   {
    "duration": 3129,
    "start_time": "2023-10-19T19:00:03.695Z"
   },
   {
    "duration": 92342,
    "start_time": "2023-10-19T19:00:06.827Z"
   },
   {
    "duration": 26,
    "start_time": "2023-10-19T19:02:26.735Z"
   },
   {
    "duration": 29,
    "start_time": "2023-10-19T19:02:37.044Z"
   },
   {
    "duration": 50,
    "start_time": "2023-10-19T19:04:04.623Z"
   },
   {
    "duration": 13,
    "start_time": "2023-10-19T19:04:05.483Z"
   },
   {
    "duration": 6,
    "start_time": "2023-10-19T19:04:08.402Z"
   },
   {
    "duration": 13,
    "start_time": "2023-10-19T19:05:15.175Z"
   },
   {
    "duration": 1202,
    "start_time": "2023-10-19T19:05:15.190Z"
   },
   {
    "duration": 11,
    "start_time": "2023-10-19T19:05:16.393Z"
   },
   {
    "duration": 18,
    "start_time": "2023-10-19T19:05:16.406Z"
   },
   {
    "duration": 15,
    "start_time": "2023-10-19T19:05:16.480Z"
   },
   {
    "duration": 5,
    "start_time": "2023-10-19T19:05:20.574Z"
   },
   {
    "duration": 51,
    "start_time": "2023-10-19T19:05:22.449Z"
   },
   {
    "duration": 13,
    "start_time": "2023-10-19T19:05:23.249Z"
   },
   {
    "duration": 5,
    "start_time": "2023-10-19T19:05:49.193Z"
   },
   {
    "duration": 16,
    "start_time": "2023-10-19T19:05:50.313Z"
   },
   {
    "duration": 1067,
    "start_time": "2023-10-19T19:05:50.893Z"
   },
   {
    "duration": 12,
    "start_time": "2023-10-19T19:05:51.963Z"
   },
   {
    "duration": 8,
    "start_time": "2023-10-19T19:05:52.476Z"
   },
   {
    "duration": 8,
    "start_time": "2023-10-19T19:05:55.125Z"
   },
   {
    "duration": 9,
    "start_time": "2023-10-19T19:05:57.293Z"
   },
   {
    "duration": 11,
    "start_time": "2023-10-19T19:06:01.113Z"
   },
   {
    "duration": 12,
    "start_time": "2023-10-19T19:06:02.553Z"
   },
   {
    "duration": 7,
    "start_time": "2023-10-19T19:06:03.214Z"
   },
   {
    "duration": 13,
    "start_time": "2023-10-19T19:06:03.585Z"
   },
   {
    "duration": 5,
    "start_time": "2023-10-19T19:06:04.914Z"
   },
   {
    "duration": 3,
    "start_time": "2023-10-19T19:06:05.365Z"
   },
   {
    "duration": 11,
    "start_time": "2023-10-19T19:06:05.873Z"
   },
   {
    "duration": 13,
    "start_time": "2023-10-19T19:06:06.684Z"
   },
   {
    "duration": 12,
    "start_time": "2023-10-19T19:06:07.193Z"
   },
   {
    "duration": 13,
    "start_time": "2023-10-19T19:06:07.813Z"
   },
   {
    "duration": 3,
    "start_time": "2023-10-19T19:06:08.214Z"
   },
   {
    "duration": 30,
    "start_time": "2023-10-19T19:06:08.542Z"
   },
   {
    "duration": 5,
    "start_time": "2023-10-19T19:06:08.925Z"
   },
   {
    "duration": 5,
    "start_time": "2023-10-19T19:06:11.308Z"
   },
   {
    "duration": 4,
    "start_time": "2023-10-19T19:06:12.013Z"
   },
   {
    "duration": 13,
    "start_time": "2023-10-19T19:06:16.581Z"
   },
   {
    "duration": 4,
    "start_time": "2023-10-19T19:06:16.999Z"
   },
   {
    "duration": 5,
    "start_time": "2023-10-19T19:06:17.514Z"
   },
   {
    "duration": 11,
    "start_time": "2023-10-19T19:06:17.854Z"
   },
   {
    "duration": 4,
    "start_time": "2023-10-19T19:06:18.332Z"
   },
   {
    "duration": 6,
    "start_time": "2023-10-19T19:06:40.293Z"
   },
   {
    "duration": 11,
    "start_time": "2023-10-19T19:06:40.925Z"
   },
   {
    "duration": 22,
    "start_time": "2023-10-19T19:06:41.361Z"
   },
   {
    "duration": 1241,
    "start_time": "2023-10-19T19:08:08.213Z"
   },
   {
    "duration": 21,
    "start_time": "2023-10-19T19:15:06.953Z"
   },
   {
    "duration": 6,
    "start_time": "2023-10-19T19:15:19.461Z"
   },
   {
    "duration": 50,
    "start_time": "2023-10-19T19:15:20.192Z"
   },
   {
    "duration": 12,
    "start_time": "2023-10-19T19:15:20.441Z"
   },
   {
    "duration": 4,
    "start_time": "2023-10-19T19:15:20.921Z"
   },
   {
    "duration": 13,
    "start_time": "2023-10-19T19:15:21.413Z"
   },
   {
    "duration": 1179,
    "start_time": "2023-10-19T19:15:21.633Z"
   },
   {
    "duration": 14,
    "start_time": "2023-10-19T19:15:22.815Z"
   },
   {
    "duration": 28,
    "start_time": "2023-10-19T19:15:22.831Z"
   },
   {
    "duration": 9,
    "start_time": "2023-10-19T19:15:23.572Z"
   },
   {
    "duration": 10,
    "start_time": "2023-10-19T19:15:25.253Z"
   },
   {
    "duration": 10,
    "start_time": "2023-10-19T19:15:26.812Z"
   },
   {
    "duration": 10,
    "start_time": "2023-10-19T19:15:28.033Z"
   },
   {
    "duration": 8,
    "start_time": "2023-10-19T19:15:28.420Z"
   },
   {
    "duration": 20,
    "start_time": "2023-10-19T19:15:28.892Z"
   },
   {
    "duration": 5,
    "start_time": "2023-10-19T19:15:30.532Z"
   },
   {
    "duration": 2,
    "start_time": "2023-10-19T19:15:31.132Z"
   },
   {
    "duration": 11,
    "start_time": "2023-10-19T19:15:31.579Z"
   },
   {
    "duration": 13,
    "start_time": "2023-10-19T19:15:32.913Z"
   },
   {
    "duration": 15,
    "start_time": "2023-10-19T19:15:33.572Z"
   },
   {
    "duration": 13,
    "start_time": "2023-10-19T19:15:34.460Z"
   },
   {
    "duration": 4,
    "start_time": "2023-10-19T19:15:35.189Z"
   },
   {
    "duration": 5,
    "start_time": "2023-10-19T19:15:35.893Z"
   },
   {
    "duration": 4,
    "start_time": "2023-10-19T19:15:36.532Z"
   },
   {
    "duration": 5,
    "start_time": "2023-10-19T19:15:38.152Z"
   },
   {
    "duration": 5,
    "start_time": "2023-10-19T19:15:38.634Z"
   },
   {
    "duration": 14,
    "start_time": "2023-10-19T19:15:39.161Z"
   },
   {
    "duration": 5,
    "start_time": "2023-10-19T19:15:39.612Z"
   },
   {
    "duration": 6,
    "start_time": "2023-10-19T19:15:40.132Z"
   },
   {
    "duration": 12,
    "start_time": "2023-10-19T19:15:40.651Z"
   },
   {
    "duration": 4,
    "start_time": "2023-10-19T19:15:41.275Z"
   },
   {
    "duration": 6,
    "start_time": "2023-10-19T19:15:42.672Z"
   },
   {
    "duration": 16,
    "start_time": "2023-10-19T19:15:43.320Z"
   },
   {
    "duration": 21,
    "start_time": "2023-10-19T19:15:45.753Z"
   },
   {
    "duration": 21,
    "start_time": "2023-10-19T19:15:49.022Z"
   },
   {
    "duration": 1402,
    "start_time": "2023-10-19T19:17:24.398Z"
   },
   {
    "duration": 374,
    "start_time": "2023-10-19T19:19:03.827Z"
   },
   {
    "duration": 50,
    "start_time": "2023-10-19T19:19:05.648Z"
   },
   {
    "duration": 52,
    "start_time": "2023-10-19T19:19:05.700Z"
   },
   {
    "duration": 42,
    "start_time": "2023-10-19T19:19:05.754Z"
   },
   {
    "duration": 13,
    "start_time": "2023-10-19T19:19:12.049Z"
   },
   {
    "duration": 1179,
    "start_time": "2023-10-19T19:19:12.373Z"
   },
   {
    "duration": 10,
    "start_time": "2023-10-19T19:19:13.554Z"
   },
   {
    "duration": 10,
    "start_time": "2023-10-19T19:19:13.974Z"
   },
   {
    "duration": 9,
    "start_time": "2023-10-19T19:19:15.612Z"
   },
   {
    "duration": 9,
    "start_time": "2023-10-19T19:19:16.713Z"
   },
   {
    "duration": 12,
    "start_time": "2023-10-19T19:19:17.413Z"
   },
   {
    "duration": 10,
    "start_time": "2023-10-19T19:19:18.393Z"
   },
   {
    "duration": 6,
    "start_time": "2023-10-19T19:19:18.693Z"
   },
   {
    "duration": 14,
    "start_time": "2023-10-19T19:19:18.900Z"
   },
   {
    "duration": 4,
    "start_time": "2023-10-19T19:19:19.733Z"
   },
   {
    "duration": 3,
    "start_time": "2023-10-19T19:19:20.021Z"
   },
   {
    "duration": 7,
    "start_time": "2023-10-19T19:19:20.233Z"
   },
   {
    "duration": 13,
    "start_time": "2023-10-19T19:19:20.701Z"
   },
   {
    "duration": 13,
    "start_time": "2023-10-19T19:19:20.913Z"
   },
   {
    "duration": 12,
    "start_time": "2023-10-19T19:19:21.522Z"
   },
   {
    "duration": 4,
    "start_time": "2023-10-19T19:19:22.021Z"
   },
   {
    "duration": 4,
    "start_time": "2023-10-19T19:19:22.273Z"
   },
   {
    "duration": 4,
    "start_time": "2023-10-19T19:19:22.513Z"
   },
   {
    "duration": 4,
    "start_time": "2023-10-19T19:19:23.381Z"
   },
   {
    "duration": 5,
    "start_time": "2023-10-19T19:19:23.805Z"
   },
   {
    "duration": 11,
    "start_time": "2023-10-19T19:19:28.594Z"
   },
   {
    "duration": 5,
    "start_time": "2023-10-19T19:19:28.865Z"
   },
   {
    "duration": 5,
    "start_time": "2023-10-19T19:19:29.125Z"
   },
   {
    "duration": 12,
    "start_time": "2023-10-19T19:19:29.321Z"
   },
   {
    "duration": 4,
    "start_time": "2023-10-19T19:19:29.805Z"
   },
   {
    "duration": 5,
    "start_time": "2023-10-19T19:19:30.746Z"
   },
   {
    "duration": 11,
    "start_time": "2023-10-19T19:19:30.991Z"
   },
   {
    "duration": 22,
    "start_time": "2023-10-19T19:19:31.584Z"
   },
   {
    "duration": 1374,
    "start_time": "2023-10-19T19:19:37.726Z"
   },
   {
    "duration": 92239,
    "start_time": "2023-10-19T19:19:48.554Z"
   },
   {
    "duration": 2338,
    "start_time": "2023-10-19T19:21:20.795Z"
   },
   {
    "duration": 3,
    "start_time": "2023-10-19T19:26:22.205Z"
   },
   {
    "duration": 1359,
    "start_time": "2023-10-19T19:26:22.506Z"
   },
   {
    "duration": 3411,
    "start_time": "2023-10-19T19:26:23.915Z"
   },
   {
    "duration": 91547,
    "start_time": "2023-10-19T19:26:27.329Z"
   },
   {
    "duration": 147,
    "start_time": "2023-10-19T19:30:26.174Z"
   },
   {
    "duration": 24,
    "start_time": "2023-10-19T19:30:38.154Z"
   },
   {
    "duration": 30,
    "start_time": "2023-10-19T19:30:44.080Z"
   },
   {
    "duration": 146,
    "start_time": "2023-10-19T19:31:01.328Z"
   },
   {
    "duration": 216,
    "start_time": "2023-10-19T19:31:03.501Z"
   },
   {
    "duration": 7,
    "start_time": "2023-10-19T19:31:04.633Z"
   },
   {
    "duration": 416,
    "start_time": "2023-10-19T19:41:41.275Z"
   },
   {
    "duration": 436,
    "start_time": "2023-10-19T19:41:53.135Z"
   },
   {
    "duration": 2176,
    "start_time": "2023-10-19T19:43:52.016Z"
   },
   {
    "duration": 215,
    "start_time": "2023-10-19T19:45:05.067Z"
   },
   {
    "duration": 6,
    "start_time": "2023-10-19T19:45:05.615Z"
   },
   {
    "duration": 79,
    "start_time": "2023-10-19T19:48:39.431Z"
   },
   {
    "duration": 1561,
    "start_time": "2023-10-21T03:15:34.537Z"
   },
   {
    "duration": 98,
    "start_time": "2023-10-21T03:15:36.101Z"
   },
   {
    "duration": 15,
    "start_time": "2023-10-21T03:15:36.569Z"
   },
   {
    "duration": 5,
    "start_time": "2023-10-21T03:15:37.308Z"
   },
   {
    "duration": 14,
    "start_time": "2023-10-21T03:15:37.847Z"
   },
   {
    "duration": 1252,
    "start_time": "2023-10-21T03:15:38.014Z"
   },
   {
    "duration": 12,
    "start_time": "2023-10-21T03:15:39.269Z"
   },
   {
    "duration": 23,
    "start_time": "2023-10-21T03:15:39.283Z"
   },
   {
    "duration": 11,
    "start_time": "2023-10-21T03:15:39.308Z"
   },
   {
    "duration": 8,
    "start_time": "2023-10-21T03:15:39.830Z"
   },
   {
    "duration": 10,
    "start_time": "2023-10-21T03:15:40.451Z"
   },
   {
    "duration": 12,
    "start_time": "2023-10-21T03:15:40.855Z"
   },
   {
    "duration": 6,
    "start_time": "2023-10-21T03:15:41.050Z"
   },
   {
    "duration": 14,
    "start_time": "2023-10-21T03:15:41.263Z"
   },
   {
    "duration": 5,
    "start_time": "2023-10-21T03:15:42.567Z"
   },
   {
    "duration": 3,
    "start_time": "2023-10-21T03:15:43.000Z"
   },
   {
    "duration": 8,
    "start_time": "2023-10-21T03:15:44.977Z"
   },
   {
    "duration": 14,
    "start_time": "2023-10-21T03:15:46.031Z"
   },
   {
    "duration": 13,
    "start_time": "2023-10-21T03:15:46.692Z"
   },
   {
    "duration": 13,
    "start_time": "2023-10-21T03:15:47.852Z"
   },
   {
    "duration": 4,
    "start_time": "2023-10-21T03:15:48.251Z"
   },
   {
    "duration": 3,
    "start_time": "2023-10-21T03:15:48.436Z"
   },
   {
    "duration": 4,
    "start_time": "2023-10-21T03:15:48.655Z"
   },
   {
    "duration": 6,
    "start_time": "2023-10-21T03:15:49.219Z"
   },
   {
    "duration": 5,
    "start_time": "2023-10-21T03:15:49.419Z"
   },
   {
    "duration": 12,
    "start_time": "2023-10-21T03:15:49.991Z"
   },
   {
    "duration": 4,
    "start_time": "2023-10-21T03:15:50.184Z"
   },
   {
    "duration": 5,
    "start_time": "2023-10-21T03:15:50.380Z"
   },
   {
    "duration": 12,
    "start_time": "2023-10-21T03:15:50.575Z"
   },
   {
    "duration": 4,
    "start_time": "2023-10-21T03:15:50.800Z"
   },
   {
    "duration": 4,
    "start_time": "2023-10-21T03:15:52.040Z"
   },
   {
    "duration": 13,
    "start_time": "2023-10-21T03:15:52.660Z"
   },
   {
    "duration": 22,
    "start_time": "2023-10-21T03:15:52.920Z"
   },
   {
    "duration": 1417,
    "start_time": "2023-10-21T03:15:54.984Z"
   },
   {
    "duration": 96496,
    "start_time": "2023-10-21T03:15:59.444Z"
   },
   {
    "duration": 2856,
    "start_time": "2023-10-21T03:17:53.949Z"
   },
   {
    "duration": 1451,
    "start_time": "2023-10-21T03:20:33.509Z"
   },
   {
    "duration": 3014,
    "start_time": "2023-10-21T03:20:37.289Z"
   },
   {
    "duration": 96016,
    "start_time": "2023-10-21T03:20:41.608Z"
   },
   {
    "duration": 7264,
    "start_time": "2023-10-21T03:29:50.277Z"
   },
   {
    "duration": 1827,
    "start_time": "2023-10-21T03:30:41.338Z"
   },
   {
    "duration": 799,
    "start_time": "2023-10-21T03:34:11.417Z"
   },
   {
    "duration": 12,
    "start_time": "2023-10-21T03:36:02.908Z"
   },
   {
    "duration": 1854,
    "start_time": "2023-10-21T03:36:03.630Z"
   },
   {
    "duration": 132671,
    "start_time": "2023-10-21T03:36:58.440Z"
   },
   {
    "duration": 4391,
    "start_time": "2023-10-21T03:39:11.113Z"
   },
   {
    "duration": 6520,
    "start_time": "2023-10-21T03:41:41.188Z"
   },
   {
    "duration": 97,
    "start_time": "2023-10-21T03:41:47.804Z"
   },
   {
    "duration": 898,
    "start_time": "2023-10-21T03:41:47.903Z"
   },
   {
    "duration": 61705,
    "start_time": "2023-10-21T03:41:48.803Z"
   },
   {
    "duration": 10196,
    "start_time": "2023-10-21T03:42:50.510Z"
   },
   {
    "duration": 132948,
    "start_time": "2023-10-21T03:46:10.138Z"
   },
   {
    "duration": 4,
    "start_time": "2023-10-21T03:48:23.088Z"
   },
   {
    "duration": 59,
    "start_time": "2023-10-21T03:48:23.093Z"
   },
   {
    "duration": 13,
    "start_time": "2023-10-21T03:53:41.549Z"
   },
   {
    "duration": 5,
    "start_time": "2023-10-21T03:53:42.909Z"
   },
   {
    "duration": 16,
    "start_time": "2023-10-21T03:53:43.645Z"
   },
   {
    "duration": 1315,
    "start_time": "2023-10-21T03:53:43.905Z"
   },
   {
    "duration": 13,
    "start_time": "2023-10-21T03:53:45.222Z"
   },
   {
    "duration": 8,
    "start_time": "2023-10-21T03:53:45.237Z"
   },
   {
    "duration": 8,
    "start_time": "2023-10-21T03:53:45.248Z"
   },
   {
    "duration": 9,
    "start_time": "2023-10-21T03:53:46.141Z"
   },
   {
    "duration": 10,
    "start_time": "2023-10-21T03:53:46.152Z"
   },
   {
    "duration": 11,
    "start_time": "2023-10-21T03:53:46.469Z"
   },
   {
    "duration": 5,
    "start_time": "2023-10-21T03:53:46.650Z"
   },
   {
    "duration": 13,
    "start_time": "2023-10-21T03:53:46.853Z"
   },
   {
    "duration": 5,
    "start_time": "2023-10-21T03:53:48.908Z"
   },
   {
    "duration": 3,
    "start_time": "2023-10-21T03:53:49.145Z"
   },
   {
    "duration": 7,
    "start_time": "2023-10-21T03:53:49.321Z"
   },
   {
    "duration": 14,
    "start_time": "2023-10-21T03:53:51.581Z"
   },
   {
    "duration": 13,
    "start_time": "2023-10-21T03:53:51.693Z"
   },
   {
    "duration": 13,
    "start_time": "2023-10-21T03:53:51.877Z"
   },
   {
    "duration": 4,
    "start_time": "2023-10-21T03:53:52.013Z"
   },
   {
    "duration": 4,
    "start_time": "2023-10-21T03:53:52.189Z"
   },
   {
    "duration": 4,
    "start_time": "2023-10-21T03:53:52.349Z"
   },
   {
    "duration": 5,
    "start_time": "2023-10-21T03:53:52.869Z"
   },
   {
    "duration": 5,
    "start_time": "2023-10-21T03:53:53.041Z"
   },
   {
    "duration": 12,
    "start_time": "2023-10-21T03:53:53.213Z"
   },
   {
    "duration": 5,
    "start_time": "2023-10-21T03:53:53.405Z"
   },
   {
    "duration": 5,
    "start_time": "2023-10-21T03:53:53.573Z"
   },
   {
    "duration": 13,
    "start_time": "2023-10-21T03:53:54.773Z"
   },
   {
    "duration": 4,
    "start_time": "2023-10-21T03:53:54.949Z"
   },
   {
    "duration": 6,
    "start_time": "2023-10-21T03:53:55.448Z"
   },
   {
    "duration": 11,
    "start_time": "2023-10-21T03:53:55.625Z"
   },
   {
    "duration": 20,
    "start_time": "2023-10-21T03:53:55.769Z"
   },
   {
    "duration": 1428,
    "start_time": "2023-10-21T03:53:57.598Z"
   },
   {
    "duration": 97893,
    "start_time": "2023-10-21T03:53:59.628Z"
   },
   {
    "duration": 3984,
    "start_time": "2023-10-21T03:57:21.728Z"
   },
   {
    "duration": 88,
    "start_time": "2023-10-21T03:57:25.715Z"
   },
   {
    "duration": 1511,
    "start_time": "2023-10-21T03:57:25.805Z"
   },
   {
    "duration": 2985,
    "start_time": "2023-10-21T03:57:27.318Z"
   },
   {
    "duration": 99174,
    "start_time": "2023-10-21T03:57:30.305Z"
   },
   {
    "duration": 21,
    "start_time": "2023-10-21T03:59:09.481Z"
   },
   {
    "duration": 1883,
    "start_time": "2023-10-21T03:59:09.503Z"
   },
   {
    "duration": 134849,
    "start_time": "2023-10-21T03:59:11.389Z"
   },
   {
    "duration": 5064,
    "start_time": "2023-10-21T04:01:26.240Z"
   },
   {
    "duration": 100,
    "start_time": "2023-10-21T04:01:31.307Z"
   },
   {
    "duration": 900,
    "start_time": "2023-10-21T04:01:31.408Z"
   },
   {
    "duration": 61756,
    "start_time": "2023-10-21T04:01:32.309Z"
   },
   {
    "duration": 5643,
    "start_time": "2023-10-21T04:02:34.067Z"
   },
   {
    "duration": 134427,
    "start_time": "2023-10-21T04:02:39.712Z"
   },
   {
    "duration": 1440,
    "start_time": "2023-10-21T17:05:59.844Z"
   },
   {
    "duration": 95,
    "start_time": "2023-10-21T17:06:02.260Z"
   },
   {
    "duration": 11,
    "start_time": "2023-10-21T17:06:03.366Z"
   },
   {
    "duration": 4,
    "start_time": "2023-10-21T17:06:04.012Z"
   },
   {
    "duration": 10,
    "start_time": "2023-10-21T17:06:04.584Z"
   },
   {
    "duration": 953,
    "start_time": "2023-10-21T17:06:04.780Z"
   },
   {
    "duration": 9,
    "start_time": "2023-10-21T17:06:05.740Z"
   },
   {
    "duration": 5,
    "start_time": "2023-10-21T17:06:05.751Z"
   },
   {
    "duration": 6,
    "start_time": "2023-10-21T17:06:06.819Z"
   },
   {
    "duration": 7,
    "start_time": "2023-10-21T17:06:07.563Z"
   },
   {
    "duration": 8,
    "start_time": "2023-10-21T17:06:08.151Z"
   },
   {
    "duration": 9,
    "start_time": "2023-10-21T17:06:08.538Z"
   },
   {
    "duration": 6,
    "start_time": "2023-10-21T17:06:09.778Z"
   },
   {
    "duration": 10,
    "start_time": "2023-10-21T17:06:10.217Z"
   },
   {
    "duration": 4,
    "start_time": "2023-10-21T17:06:11.544Z"
   },
   {
    "duration": 2,
    "start_time": "2023-10-21T17:06:11.723Z"
   },
   {
    "duration": 7,
    "start_time": "2023-10-21T17:06:11.938Z"
   },
   {
    "duration": 13,
    "start_time": "2023-10-21T17:06:13.566Z"
   },
   {
    "duration": 11,
    "start_time": "2023-10-21T17:06:14.101Z"
   },
   {
    "duration": 11,
    "start_time": "2023-10-21T17:06:14.666Z"
   },
   {
    "duration": 3,
    "start_time": "2023-10-21T17:06:15.042Z"
   },
   {
    "duration": 4,
    "start_time": "2023-10-21T17:06:15.269Z"
   },
   {
    "duration": 4,
    "start_time": "2023-10-21T17:06:15.482Z"
   },
   {
    "duration": 5,
    "start_time": "2023-10-21T17:06:17.052Z"
   },
   {
    "duration": 5,
    "start_time": "2023-10-21T17:06:17.621Z"
   },
   {
    "duration": 9,
    "start_time": "2023-10-21T17:06:18.244Z"
   },
   {
    "duration": 4,
    "start_time": "2023-10-21T17:06:18.643Z"
   },
   {
    "duration": 4,
    "start_time": "2023-10-21T17:06:18.894Z"
   },
   {
    "duration": 12,
    "start_time": "2023-10-21T17:06:19.097Z"
   },
   {
    "duration": 5,
    "start_time": "2023-10-21T17:06:19.840Z"
   },
   {
    "duration": 4,
    "start_time": "2023-10-21T17:06:22.193Z"
   },
   {
    "duration": 10,
    "start_time": "2023-10-21T17:06:22.828Z"
   },
   {
    "duration": 17,
    "start_time": "2023-10-21T17:06:23.423Z"
   },
   {
    "duration": 1372,
    "start_time": "2023-10-21T17:06:26.784Z"
   },
   {
    "duration": 91316,
    "start_time": "2023-10-21T17:06:28.434Z"
   },
   {
    "duration": 988,
    "start_time": "2023-10-21T17:07:59.752Z"
   },
   {
    "duration": 2,
    "start_time": "2023-10-21T17:11:15.184Z"
   },
   {
    "duration": 1356,
    "start_time": "2023-10-21T17:11:15.714Z"
   },
   {
    "duration": 1552,
    "start_time": "2023-10-21T17:11:17.793Z"
   },
   {
    "duration": 91184,
    "start_time": "2023-10-21T17:11:19.347Z"
   },
   {
    "duration": 97,
    "start_time": "2023-10-21T17:32:43.406Z"
   },
   {
    "duration": 9,
    "start_time": "2023-10-21T17:32:58.308Z"
   },
   {
    "duration": 9,
    "start_time": "2023-10-21T17:32:58.788Z"
   },
   {
    "duration": 4,
    "start_time": "2023-10-21T17:33:07.492Z"
   },
   {
    "duration": 45,
    "start_time": "2023-10-21T17:33:08.352Z"
   },
   {
    "duration": 10,
    "start_time": "2023-10-21T17:33:08.533Z"
   },
   {
    "duration": 4,
    "start_time": "2023-10-21T17:33:08.947Z"
   },
   {
    "duration": 11,
    "start_time": "2023-10-21T17:33:09.366Z"
   },
   {
    "duration": 951,
    "start_time": "2023-10-21T17:33:09.577Z"
   },
   {
    "duration": 18,
    "start_time": "2023-10-21T17:33:10.529Z"
   },
   {
    "duration": 7,
    "start_time": "2023-10-21T17:33:10.548Z"
   },
   {
    "duration": 7,
    "start_time": "2023-10-21T17:33:10.827Z"
   },
   {
    "duration": 8,
    "start_time": "2023-10-21T17:33:11.708Z"
   },
   {
    "duration": 8,
    "start_time": "2023-10-21T17:33:12.329Z"
   },
   {
    "duration": 11,
    "start_time": "2023-10-21T17:33:12.718Z"
   },
   {
    "duration": 5,
    "start_time": "2023-10-21T17:33:12.942Z"
   },
   {
    "duration": 10,
    "start_time": "2023-10-21T17:33:13.147Z"
   },
   {
    "duration": 4,
    "start_time": "2023-10-21T17:33:14.023Z"
   },
   {
    "duration": 2,
    "start_time": "2023-10-21T17:33:14.222Z"
   },
   {
    "duration": 6,
    "start_time": "2023-10-21T17:33:14.442Z"
   },
   {
    "duration": 11,
    "start_time": "2023-10-21T17:33:14.901Z"
   },
   {
    "duration": 14,
    "start_time": "2023-10-21T17:33:15.107Z"
   },
   {
    "duration": 11,
    "start_time": "2023-10-21T17:33:15.305Z"
   },
   {
    "duration": 3,
    "start_time": "2023-10-21T17:33:15.558Z"
   },
   {
    "duration": 3,
    "start_time": "2023-10-21T17:33:15.783Z"
   },
   {
    "duration": 2,
    "start_time": "2023-10-21T17:33:15.998Z"
   },
   {
    "duration": 3,
    "start_time": "2023-10-21T17:33:16.663Z"
   },
   {
    "duration": 4,
    "start_time": "2023-10-21T17:33:16.867Z"
   },
   {
    "duration": 9,
    "start_time": "2023-10-21T17:33:17.103Z"
   },
   {
    "duration": 3,
    "start_time": "2023-10-21T17:33:17.346Z"
   },
   {
    "duration": 4,
    "start_time": "2023-10-21T17:33:17.614Z"
   },
   {
    "duration": 10,
    "start_time": "2023-10-21T17:33:17.817Z"
   },
   {
    "duration": 4,
    "start_time": "2023-10-21T17:33:18.083Z"
   },
   {
    "duration": 4,
    "start_time": "2023-10-21T17:33:18.772Z"
   },
   {
    "duration": 10,
    "start_time": "2023-10-21T17:33:19.002Z"
   },
   {
    "duration": 17,
    "start_time": "2023-10-21T17:33:19.237Z"
   },
   {
    "duration": 1348,
    "start_time": "2023-10-21T17:33:20.832Z"
   },
   {
    "duration": 89539,
    "start_time": "2023-10-21T17:33:22.182Z"
   },
   {
    "duration": 1120,
    "start_time": "2023-10-21T17:34:51.723Z"
   },
   {
    "duration": 2,
    "start_time": "2023-10-21T17:34:52.845Z"
   },
   {
    "duration": 1516,
    "start_time": "2023-10-21T17:34:52.849Z"
   },
   {
    "duration": 1383,
    "start_time": "2023-10-21T17:34:54.366Z"
   },
   {
    "duration": 89702,
    "start_time": "2023-10-21T17:34:55.839Z"
   },
   {
    "duration": 10,
    "start_time": "2023-10-21T17:36:25.543Z"
   },
   {
    "duration": 1764,
    "start_time": "2023-10-21T17:36:25.554Z"
   },
   {
    "duration": 122045,
    "start_time": "2023-10-21T17:36:27.319Z"
   },
   {
    "duration": 2473,
    "start_time": "2023-10-21T17:38:29.367Z"
   },
   {
    "duration": 98,
    "start_time": "2023-10-21T17:38:31.842Z"
   },
   {
    "duration": 792,
    "start_time": "2023-10-21T17:38:31.941Z"
   },
   {
    "duration": 52582,
    "start_time": "2023-10-21T17:38:32.735Z"
   },
   {
    "duration": 1227,
    "start_time": "2023-10-21T17:39:25.318Z"
   },
   {
    "duration": 122021,
    "start_time": "2023-10-21T17:41:29.414Z"
   },
   {
    "duration": 2,
    "start_time": "2023-10-21T17:43:31.439Z"
   },
   {
    "duration": 222,
    "start_time": "2023-10-21T17:43:31.443Z"
   },
   {
    "duration": 1514,
    "start_time": "2023-10-22T11:47:59.459Z"
   },
   {
    "duration": 94,
    "start_time": "2023-10-22T11:48:01.067Z"
   },
   {
    "duration": 14,
    "start_time": "2023-10-22T11:48:01.909Z"
   },
   {
    "duration": 4,
    "start_time": "2023-10-22T11:48:02.279Z"
   },
   {
    "duration": 11,
    "start_time": "2023-10-22T11:48:02.648Z"
   },
   {
    "duration": 997,
    "start_time": "2023-10-22T11:48:02.795Z"
   },
   {
    "duration": 10,
    "start_time": "2023-10-22T11:48:03.793Z"
   },
   {
    "duration": 5,
    "start_time": "2023-10-22T11:48:03.805Z"
   },
   {
    "duration": 6,
    "start_time": "2023-10-22T11:48:03.879Z"
   },
   {
    "duration": 8,
    "start_time": "2023-10-22T11:48:04.624Z"
   },
   {
    "duration": 10,
    "start_time": "2023-10-22T11:48:05.679Z"
   },
   {
    "duration": 10,
    "start_time": "2023-10-22T11:48:06.879Z"
   },
   {
    "duration": 6,
    "start_time": "2023-10-22T11:48:07.067Z"
   },
   {
    "duration": 11,
    "start_time": "2023-10-22T11:48:07.247Z"
   },
   {
    "duration": 4,
    "start_time": "2023-10-22T11:48:07.999Z"
   },
   {
    "duration": 2,
    "start_time": "2023-10-22T11:48:08.179Z"
   },
   {
    "duration": 6,
    "start_time": "2023-10-22T11:48:08.359Z"
   },
   {
    "duration": 11,
    "start_time": "2023-10-22T11:48:08.709Z"
   },
   {
    "duration": 15,
    "start_time": "2023-10-22T11:48:08.887Z"
   },
   {
    "duration": 10,
    "start_time": "2023-10-22T11:48:09.087Z"
   },
   {
    "duration": 3,
    "start_time": "2023-10-22T11:48:09.275Z"
   },
   {
    "duration": 3,
    "start_time": "2023-10-22T11:48:09.459Z"
   },
   {
    "duration": 2,
    "start_time": "2023-10-22T11:48:09.650Z"
   },
   {
    "duration": 5,
    "start_time": "2023-10-22T11:48:10.213Z"
   },
   {
    "duration": 4,
    "start_time": "2023-10-22T11:48:10.416Z"
   },
   {
    "duration": 9,
    "start_time": "2023-10-22T11:48:10.603Z"
   },
   {
    "duration": 4,
    "start_time": "2023-10-22T11:48:10.791Z"
   },
   {
    "duration": 4,
    "start_time": "2023-10-22T11:48:10.983Z"
   },
   {
    "duration": 9,
    "start_time": "2023-10-22T11:48:11.187Z"
   },
   {
    "duration": 3,
    "start_time": "2023-10-22T11:48:11.379Z"
   },
   {
    "duration": 4,
    "start_time": "2023-10-22T11:48:11.956Z"
   },
   {
    "duration": 10,
    "start_time": "2023-10-22T11:48:12.143Z"
   },
   {
    "duration": 17,
    "start_time": "2023-10-22T11:48:12.824Z"
   },
   {
    "duration": 1390,
    "start_time": "2023-10-22T11:48:13.735Z"
   },
   {
    "duration": 92056,
    "start_time": "2023-10-22T11:48:15.127Z"
   },
   {
    "duration": 1380,
    "start_time": "2023-10-22T11:57:25.980Z"
   },
   {
    "duration": 1408,
    "start_time": "2023-10-22T11:57:43.672Z"
   },
   {
    "duration": 1381,
    "start_time": "2023-10-22T11:57:53.828Z"
   },
   {
    "duration": 91159,
    "start_time": "2023-10-22T11:59:03.088Z"
   },
   {
    "duration": 1580,
    "start_time": "2023-10-22T19:07:25.508Z"
   },
   {
    "duration": 193,
    "start_time": "2023-10-22T19:07:27.090Z"
   },
   {
    "duration": 13,
    "start_time": "2023-10-22T19:07:28.060Z"
   },
   {
    "duration": 5,
    "start_time": "2023-10-22T19:07:28.692Z"
   },
   {
    "duration": 12,
    "start_time": "2023-10-22T19:07:29.102Z"
   },
   {
    "duration": 1275,
    "start_time": "2023-10-22T19:07:29.297Z"
   },
   {
    "duration": 12,
    "start_time": "2023-10-22T19:07:30.574Z"
   },
   {
    "duration": 72,
    "start_time": "2023-10-22T19:07:30.588Z"
   },
   {
    "duration": 59,
    "start_time": "2023-10-22T19:07:30.663Z"
   },
   {
    "duration": 9,
    "start_time": "2023-10-22T19:07:31.360Z"
   },
   {
    "duration": 11,
    "start_time": "2023-10-22T19:07:32.021Z"
   },
   {
    "duration": 10,
    "start_time": "2023-10-22T19:07:32.913Z"
   },
   {
    "duration": 5,
    "start_time": "2023-10-22T19:07:33.227Z"
   },
   {
    "duration": 12,
    "start_time": "2023-10-22T19:07:33.459Z"
   },
   {
    "duration": 4,
    "start_time": "2023-10-22T19:07:34.370Z"
   },
   {
    "duration": 2,
    "start_time": "2023-10-22T19:07:34.590Z"
   },
   {
    "duration": 8,
    "start_time": "2023-10-22T19:07:34.827Z"
   },
   {
    "duration": 12,
    "start_time": "2023-10-22T19:07:35.582Z"
   },
   {
    "duration": 12,
    "start_time": "2023-10-22T19:07:36.062Z"
   },
   {
    "duration": 17,
    "start_time": "2023-10-22T19:07:36.442Z"
   },
   {
    "duration": 3,
    "start_time": "2023-10-22T19:07:36.900Z"
   },
   {
    "duration": 4,
    "start_time": "2023-10-22T19:07:37.294Z"
   },
   {
    "duration": 4,
    "start_time": "2023-10-22T19:07:37.625Z"
   },
   {
    "duration": 4,
    "start_time": "2023-10-22T19:07:38.527Z"
   },
   {
    "duration": 6,
    "start_time": "2023-10-22T19:07:39.037Z"
   },
   {
    "duration": 12,
    "start_time": "2023-10-22T19:07:39.260Z"
   },
   {
    "duration": 5,
    "start_time": "2023-10-22T19:07:39.484Z"
   },
   {
    "duration": 4,
    "start_time": "2023-10-22T19:07:39.891Z"
   },
   {
    "duration": 11,
    "start_time": "2023-10-22T19:07:40.133Z"
   },
   {
    "duration": 5,
    "start_time": "2023-10-22T19:07:40.370Z"
   },
   {
    "duration": 8,
    "start_time": "2023-10-22T19:07:41.250Z"
   },
   {
    "duration": 16,
    "start_time": "2023-10-22T19:07:41.639Z"
   },
   {
    "duration": 21,
    "start_time": "2023-10-22T19:07:41.960Z"
   },
   {
    "duration": 1414,
    "start_time": "2023-10-22T19:07:44.880Z"
   },
   {
    "duration": 94428,
    "start_time": "2023-10-22T19:07:47.954Z"
   },
   {
    "duration": 3360,
    "start_time": "2023-10-22T19:09:22.385Z"
   },
   {
    "duration": 3,
    "start_time": "2023-10-22T19:09:47.260Z"
   },
   {
    "duration": 3,
    "start_time": "2023-10-22T19:12:48.841Z"
   },
   {
    "duration": 1506,
    "start_time": "2023-10-22T19:12:49.305Z"
   },
   {
    "duration": 6296,
    "start_time": "2023-10-22T19:12:51.058Z"
   },
   {
    "duration": 97704,
    "start_time": "2023-10-22T19:12:57.357Z"
   },
   {
    "duration": 13,
    "start_time": "2023-10-22T19:15:20.174Z"
   },
   {
    "duration": 12,
    "start_time": "2023-10-22T19:19:19.774Z"
   },
   {
    "duration": 1847,
    "start_time": "2023-10-22T19:19:20.209Z"
   },
   {
    "duration": 120631,
    "start_time": "2023-10-22T19:19:22.059Z"
   },
   {
    "duration": 4855,
    "start_time": "2023-10-22T19:21:22.692Z"
   },
   {
    "duration": 8,
    "start_time": "2023-10-22T19:26:11.481Z"
   },
   {
    "duration": 867,
    "start_time": "2023-10-22T19:26:11.673Z"
   },
   {
    "duration": 108,
    "start_time": "2023-10-22T19:26:12.543Z"
   },
   {
    "duration": 0,
    "start_time": "2023-10-22T19:26:12.653Z"
   },
   {
    "duration": 57958,
    "start_time": "2023-10-22T19:27:48.118Z"
   },
   {
    "duration": 6775,
    "start_time": "2023-10-22T19:31:41.794Z"
   },
   {
    "duration": 126175,
    "start_time": "2023-10-22T19:31:49.307Z"
   },
   {
    "duration": 91099,
    "start_time": "2023-10-22T19:42:17.148Z"
   },
   {
    "duration": 1570,
    "start_time": "2023-10-22T19:45:54.825Z"
   },
   {
    "duration": 1897,
    "start_time": "2023-10-26T12:32:33.819Z"
   },
   {
    "duration": 108,
    "start_time": "2023-10-26T12:32:35.732Z"
   },
   {
    "duration": 15,
    "start_time": "2023-10-26T12:32:36.220Z"
   },
   {
    "duration": 5,
    "start_time": "2023-10-26T12:32:36.915Z"
   },
   {
    "duration": 22,
    "start_time": "2023-10-26T12:32:37.357Z"
   },
   {
    "duration": 1446,
    "start_time": "2023-10-26T12:32:37.559Z"
   },
   {
    "duration": 18,
    "start_time": "2023-10-26T12:32:39.007Z"
   },
   {
    "duration": 49,
    "start_time": "2023-10-26T12:32:39.028Z"
   },
   {
    "duration": 32,
    "start_time": "2023-10-26T12:32:39.080Z"
   },
   {
    "duration": 9,
    "start_time": "2023-10-26T12:32:42.479Z"
   },
   {
    "duration": 11,
    "start_time": "2023-10-26T12:32:43.609Z"
   },
   {
    "duration": 11,
    "start_time": "2023-10-26T12:32:44.684Z"
   },
   {
    "duration": 10,
    "start_time": "2023-10-26T12:32:44.991Z"
   },
   {
    "duration": 19,
    "start_time": "2023-10-26T12:32:45.577Z"
   },
   {
    "duration": 5,
    "start_time": "2023-10-26T12:32:47.374Z"
   },
   {
    "duration": 3,
    "start_time": "2023-10-26T12:32:47.843Z"
   },
   {
    "duration": 11,
    "start_time": "2023-10-26T12:32:48.503Z"
   },
   {
    "duration": 23,
    "start_time": "2023-10-26T12:32:49.634Z"
   },
   {
    "duration": 20,
    "start_time": "2023-10-26T12:32:50.178Z"
   },
   {
    "duration": 15,
    "start_time": "2023-10-26T12:32:51.021Z"
   },
   {
    "duration": 6,
    "start_time": "2023-10-26T12:32:51.446Z"
   },
   {
    "duration": 5,
    "start_time": "2023-10-26T12:32:51.967Z"
   },
   {
    "duration": 4,
    "start_time": "2023-10-26T12:32:52.365Z"
   },
   {
    "duration": 11,
    "start_time": "2023-10-26T12:32:53.853Z"
   },
   {
    "duration": 7,
    "start_time": "2023-10-26T12:32:54.175Z"
   },
   {
    "duration": 15,
    "start_time": "2023-10-26T12:32:54.682Z"
   },
   {
    "duration": 5,
    "start_time": "2023-10-26T12:32:55.037Z"
   },
   {
    "duration": 7,
    "start_time": "2023-10-26T12:32:55.275Z"
   },
   {
    "duration": 23,
    "start_time": "2023-10-26T12:32:55.475Z"
   },
   {
    "duration": 5,
    "start_time": "2023-10-26T12:32:55.698Z"
   },
   {
    "duration": 6,
    "start_time": "2023-10-26T12:32:57.500Z"
   },
   {
    "duration": 15,
    "start_time": "2023-10-26T12:32:57.508Z"
   },
   {
    "duration": 49,
    "start_time": "2023-10-26T12:32:57.525Z"
   },
   {
    "duration": 1874,
    "start_time": "2023-10-26T12:32:58.984Z"
   },
   {
    "duration": 120711,
    "start_time": "2023-10-26T12:33:02.071Z"
   },
   {
    "duration": 2006,
    "start_time": "2023-10-26T12:36:18.193Z"
   },
   {
    "duration": 2774,
    "start_time": "2023-10-26T12:36:40.876Z"
   },
   {
    "duration": 7,
    "start_time": "2023-10-26T12:36:43.653Z"
   },
   {
    "duration": 2119,
    "start_time": "2023-10-26T12:36:55.883Z"
   },
   {
    "duration": 6074,
    "start_time": "2023-10-26T12:37:02.977Z"
   },
   {
    "duration": 1734,
    "start_time": "2023-10-26T12:43:46.577Z"
   },
   {
    "duration": 112,
    "start_time": "2023-10-26T12:43:48.314Z"
   },
   {
    "duration": 16,
    "start_time": "2023-10-26T12:43:48.428Z"
   },
   {
    "duration": 13,
    "start_time": "2023-10-26T12:43:48.451Z"
   },
   {
    "duration": 25,
    "start_time": "2023-10-26T12:43:48.469Z"
   },
   {
    "duration": 1459,
    "start_time": "2023-10-26T12:43:48.496Z"
   },
   {
    "duration": 19,
    "start_time": "2023-10-26T12:43:49.957Z"
   },
   {
    "duration": 23,
    "start_time": "2023-10-26T12:43:49.983Z"
   },
   {
    "duration": 37,
    "start_time": "2023-10-26T12:43:50.008Z"
   },
   {
    "duration": 43,
    "start_time": "2023-10-26T12:43:50.047Z"
   },
   {
    "duration": 37,
    "start_time": "2023-10-26T12:43:50.092Z"
   },
   {
    "duration": 132,
    "start_time": "2023-10-26T12:43:50.130Z"
   },
   {
    "duration": 14,
    "start_time": "2023-10-26T12:43:50.269Z"
   },
   {
    "duration": 22,
    "start_time": "2023-10-26T12:43:50.288Z"
   },
   {
    "duration": 47,
    "start_time": "2023-10-26T12:43:50.312Z"
   },
   {
    "duration": 4,
    "start_time": "2023-10-26T12:43:50.364Z"
   },
   {
    "duration": 24,
    "start_time": "2023-10-26T12:43:50.370Z"
   },
   {
    "duration": 18,
    "start_time": "2023-10-26T12:43:50.396Z"
   },
   {
    "duration": 29,
    "start_time": "2023-10-26T12:43:50.415Z"
   },
   {
    "duration": 47,
    "start_time": "2023-10-26T12:43:50.446Z"
   },
   {
    "duration": 4,
    "start_time": "2023-10-26T12:43:50.495Z"
   },
   {
    "duration": 55,
    "start_time": "2023-10-26T12:43:50.501Z"
   },
   {
    "duration": 33,
    "start_time": "2023-10-26T12:43:50.560Z"
   },
   {
    "duration": 27,
    "start_time": "2023-10-26T12:43:50.594Z"
   },
   {
    "duration": 36,
    "start_time": "2023-10-26T12:43:50.623Z"
   },
   {
    "duration": 22,
    "start_time": "2023-10-26T12:43:50.661Z"
   },
   {
    "duration": 6,
    "start_time": "2023-10-26T12:43:50.685Z"
   },
   {
    "duration": 12,
    "start_time": "2023-10-26T12:43:50.693Z"
   },
   {
    "duration": 20,
    "start_time": "2023-10-26T12:43:50.706Z"
   },
   {
    "duration": 24,
    "start_time": "2023-10-26T12:43:50.728Z"
   },
   {
    "duration": 9,
    "start_time": "2023-10-26T12:43:50.755Z"
   },
   {
    "duration": 29,
    "start_time": "2023-10-26T12:43:50.766Z"
   },
   {
    "duration": 77,
    "start_time": "2023-10-26T12:43:50.797Z"
   },
   {
    "duration": 1828,
    "start_time": "2023-10-26T12:43:50.883Z"
   },
   {
    "duration": 119580,
    "start_time": "2023-10-26T12:43:52.712Z"
   },
   {
    "duration": 2981,
    "start_time": "2023-10-26T12:45:52.293Z"
   },
   {
    "duration": 28,
    "start_time": "2023-10-26T12:45:55.352Z"
   },
   {
    "duration": 2005,
    "start_time": "2023-10-26T12:45:55.390Z"
   },
   {
    "duration": 6177,
    "start_time": "2023-10-26T12:45:57.396Z"
   },
   {
    "duration": 120809,
    "start_time": "2023-10-26T12:46:03.576Z"
   },
   {
    "duration": 15,
    "start_time": "2023-10-26T12:48:04.390Z"
   },
   {
    "duration": 2357,
    "start_time": "2023-10-26T12:48:04.407Z"
   },
   {
    "duration": 151401,
    "start_time": "2023-10-26T12:48:06.769Z"
   },
   {
    "duration": 13190,
    "start_time": "2023-10-26T12:50:38.174Z"
   },
   {
    "duration": 92,
    "start_time": "2023-10-26T12:50:51.366Z"
   },
   {
    "duration": 1084,
    "start_time": "2023-10-26T12:50:51.464Z"
   },
   {
    "duration": 70858,
    "start_time": "2023-10-26T12:50:52.556Z"
   },
   {
    "duration": 12949,
    "start_time": "2023-10-26T12:52:03.415Z"
   },
   {
    "duration": 160498,
    "start_time": "2023-10-26T12:52:16.372Z"
   },
   {
    "duration": 116349,
    "start_time": "2023-10-26T12:54:56.871Z"
   },
   {
    "duration": 3,
    "start_time": "2023-10-26T12:56:53.222Z"
   },
   {
    "duration": 317,
    "start_time": "2023-10-26T12:56:53.226Z"
   },
   {
    "duration": 15,
    "start_time": "2023-10-26T12:56:53.544Z"
   },
   {
    "duration": 6,
    "start_time": "2023-11-21T07:56:18.444Z"
   },
   {
    "duration": 1553,
    "start_time": "2023-11-21T07:56:32.578Z"
   },
   {
    "duration": 182,
    "start_time": "2023-11-21T07:56:34.133Z"
   },
   {
    "duration": 15,
    "start_time": "2023-11-21T07:56:34.557Z"
   },
   {
    "duration": 4,
    "start_time": "2023-11-21T07:56:37.324Z"
   },
   {
    "duration": 14,
    "start_time": "2023-11-21T07:56:37.662Z"
   },
   {
    "duration": 1168,
    "start_time": "2023-11-21T07:56:37.825Z"
   },
   {
    "duration": 14,
    "start_time": "2023-11-21T07:56:38.995Z"
   },
   {
    "duration": 9,
    "start_time": "2023-11-21T07:56:39.011Z"
   },
   {
    "duration": 9,
    "start_time": "2023-11-21T07:56:39.022Z"
   },
   {
    "duration": 9,
    "start_time": "2023-11-21T07:56:39.534Z"
   },
   {
    "duration": 10,
    "start_time": "2023-11-21T07:56:40.077Z"
   },
   {
    "duration": 12,
    "start_time": "2023-11-21T07:56:40.467Z"
   },
   {
    "duration": 7,
    "start_time": "2023-11-21T07:56:40.664Z"
   },
   {
    "duration": 13,
    "start_time": "2023-11-21T07:56:40.853Z"
   },
   {
    "duration": 4,
    "start_time": "2023-11-21T07:56:41.826Z"
   },
   {
    "duration": 2,
    "start_time": "2023-11-21T07:56:42.042Z"
   },
   {
    "duration": 92,
    "start_time": "2023-11-21T07:56:42.709Z"
   },
   {
    "duration": 13,
    "start_time": "2023-11-21T07:56:44.279Z"
   },
   {
    "duration": 13,
    "start_time": "2023-11-21T07:56:44.613Z"
   },
   {
    "duration": 15,
    "start_time": "2023-11-21T07:56:45.026Z"
   },
   {
    "duration": 3,
    "start_time": "2023-11-21T07:56:46.281Z"
   },
   {
    "duration": 8,
    "start_time": "2023-11-21T07:56:46.286Z"
   },
   {
    "duration": 4,
    "start_time": "2023-11-21T07:56:46.870Z"
   },
   {
    "duration": 5,
    "start_time": "2023-11-21T07:56:47.783Z"
   },
   {
    "duration": 5,
    "start_time": "2023-11-21T07:56:48.312Z"
   },
   {
    "duration": 12,
    "start_time": "2023-11-21T07:56:48.807Z"
   },
   {
    "duration": 4,
    "start_time": "2023-11-21T07:56:49.392Z"
   },
   {
    "duration": 4,
    "start_time": "2023-11-21T07:56:50.132Z"
   },
   {
    "duration": 12,
    "start_time": "2023-11-21T07:56:50.378Z"
   },
   {
    "duration": 4,
    "start_time": "2023-11-21T07:56:50.617Z"
   },
   {
    "duration": 5,
    "start_time": "2023-11-21T07:56:51.712Z"
   },
   {
    "duration": 11,
    "start_time": "2023-11-21T07:56:52.516Z"
   },
   {
    "duration": 21,
    "start_time": "2023-11-21T07:56:52.744Z"
   },
   {
    "duration": 3,
    "start_time": "2023-11-21T07:56:56.070Z"
   },
   {
    "duration": 1457,
    "start_time": "2023-11-21T07:56:56.407Z"
   },
   {
    "duration": 4,
    "start_time": "2023-11-21T07:57:13.578Z"
   },
   {
    "duration": 1711,
    "start_time": "2023-11-21T15:57:37.815Z"
   },
   {
    "duration": 521,
    "start_time": "2023-11-21T15:57:40.266Z"
   },
   {
    "duration": 5,
    "start_time": "2023-11-21T16:01:30.479Z"
   },
   {
    "duration": 160,
    "start_time": "2023-11-21T16:01:31.689Z"
   },
   {
    "duration": 14,
    "start_time": "2023-11-21T16:02:59.319Z"
   },
   {
    "duration": 13,
    "start_time": "2023-11-21T16:03:10.325Z"
   },
   {
    "duration": 49,
    "start_time": "2023-11-21T16:05:58.032Z"
   },
   {
    "duration": 4,
    "start_time": "2023-11-21T16:06:52.545Z"
   },
   {
    "duration": 50,
    "start_time": "2023-11-21T16:06:54.459Z"
   },
   {
    "duration": 176,
    "start_time": "2023-11-21T16:07:07.963Z"
   },
   {
    "duration": 1881,
    "start_time": "2023-11-21T17:45:33.733Z"
   },
   {
    "duration": 32,
    "start_time": "2023-11-21T17:45:35.617Z"
   },
   {
    "duration": 121,
    "start_time": "2023-11-21T17:59:00.491Z"
   },
   {
    "duration": 4,
    "start_time": "2023-11-21T18:01:08.852Z"
   },
   {
    "duration": 13,
    "start_time": "2023-11-21T18:01:11.798Z"
   },
   {
    "duration": 145,
    "start_time": "2023-11-21T18:01:12.429Z"
   },
   {
    "duration": 22,
    "start_time": "2023-11-21T18:11:22.298Z"
   },
   {
    "duration": 14,
    "start_time": "2023-11-21T18:11:54.743Z"
   },
   {
    "duration": 15,
    "start_time": "2023-11-21T18:11:55.302Z"
   },
   {
    "duration": 6,
    "start_time": "2023-11-21T18:13:02.835Z"
   },
   {
    "duration": 21,
    "start_time": "2023-11-21T18:13:04.278Z"
   },
   {
    "duration": 130,
    "start_time": "2023-11-21T18:17:19.676Z"
   },
   {
    "duration": 5,
    "start_time": "2023-11-21T18:17:29.750Z"
   },
   {
    "duration": 19,
    "start_time": "2023-11-21T18:17:30.053Z"
   },
   {
    "duration": 141,
    "start_time": "2023-11-21T18:17:30.335Z"
   },
   {
    "duration": 220,
    "start_time": "2023-11-21T18:54:48.574Z"
   },
   {
    "duration": 1528,
    "start_time": "2023-11-22T16:05:50.396Z"
   },
   {
    "duration": 17,
    "start_time": "2023-11-22T16:05:51.926Z"
   },
   {
    "duration": 117,
    "start_time": "2023-11-22T16:05:52.457Z"
   },
   {
    "duration": 100,
    "start_time": "2023-11-22T16:20:15.904Z"
   },
   {
    "duration": 1694,
    "start_time": "2023-12-28T12:07:57.161Z"
   },
   {
    "duration": 138,
    "start_time": "2023-12-28T12:07:59.082Z"
   },
   {
    "duration": 420,
    "start_time": "2023-12-28T12:08:16.501Z"
   },
   {
    "duration": 23,
    "start_time": "2023-12-28T12:08:17.073Z"
   },
   {
    "duration": 88,
    "start_time": "2023-12-28T12:11:33.965Z"
   },
   {
    "duration": 12,
    "start_time": "2023-12-28T12:11:36.929Z"
   },
   {
    "duration": 10,
    "start_time": "2023-12-28T12:11:38.472Z"
   },
   {
    "duration": 17,
    "start_time": "2023-12-28T12:11:40.180Z"
   },
   {
    "duration": 1190,
    "start_time": "2023-12-28T12:11:40.931Z"
   },
   {
    "duration": 23,
    "start_time": "2023-12-28T12:11:42.262Z"
   },
   {
    "duration": 258,
    "start_time": "2023-12-28T12:16:31.737Z"
   },
   {
    "duration": 4,
    "start_time": "2023-12-28T12:17:08.199Z"
   },
   {
    "duration": 205,
    "start_time": "2023-12-28T12:17:10.928Z"
   },
   {
    "duration": 13,
    "start_time": "2023-12-28T12:17:11.957Z"
   },
   {
    "duration": 4,
    "start_time": "2023-12-28T12:17:13.350Z"
   },
   {
    "duration": 48,
    "start_time": "2023-12-28T12:29:36.199Z"
   }
  ],
  "kernelspec": {
   "display_name": "Python 3 (ipykernel)",
   "language": "python",
   "name": "python3"
  },
  "language_info": {
   "codemirror_mode": {
    "name": "ipython",
    "version": 3
   },
   "file_extension": ".py",
   "mimetype": "text/x-python",
   "name": "python",
   "nbconvert_exporter": "python",
   "pygments_lexer": "ipython3",
   "version": "3.9.5"
  },
  "toc": {
   "base_numbering": 1,
   "nav_menu": {},
   "number_sections": true,
   "sideBar": true,
   "skip_h1_title": true,
   "title_cell": "Содержание",
   "title_sidebar": "Contents",
   "toc_cell": true,
   "toc_position": {},
   "toc_section_display": true,
   "toc_window_display": false
  }
 },
 "nbformat": 4,
 "nbformat_minor": 2
}
